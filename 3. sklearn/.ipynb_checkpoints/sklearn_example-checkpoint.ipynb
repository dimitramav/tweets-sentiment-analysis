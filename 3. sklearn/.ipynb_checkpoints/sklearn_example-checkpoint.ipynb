{
 "cells": [
  {
   "cell_type": "code",
   "execution_count": 1,
   "metadata": {
    "collapsed": true
   },
   "outputs": [],
   "source": [
    "__author__ = 'Dimitris_AUEB'\n",
    "\n",
    "#source ~/anaconda2/bin/activate ~/anaconda2/envs/sklearn_example\n",
    "\n",
    "import numpy as np\n",
    "from sklearn import metrics\n",
    "from sklearn.preprocessing import LabelEncoder, MinMaxScaler, StandardScaler, Normalizer, KernelCenterer\n",
    "from sklearn.decomposition import TruncatedSVD, ProjectedGradientNMF\n",
    "from sklearn.random_projection import SparseRandomProjection, GaussianRandomProjection\n",
    "from sklearn import svm\n",
    "from sklearn.decomposition import PCA\n",
    "from sklearn import datasets\n",
    "import random\n",
    "from pprint import pprint\n"
   ]
  },
  {
   "cell_type": "code",
   "execution_count": 2,
   "metadata": {
    "collapsed": true
   },
   "outputs": [],
   "source": [
    "\n",
    "# k may be either an integer greater than zero\n",
    "# or a double between 0 and 1\n",
    "def select_features_pca(train_X, test_X, k):\n",
    "    selector = PCA(n_components=k)\n",
    "    selector.fit(train_X)\n",
    "    train_X = selector.transform(train_X)\n",
    "    test_X = selector.transform(test_X)\n",
    "    return train_X, test_X\n",
    "\n",
    "def select_features_svd(train_X, test_X, k):\n",
    "    selector = TruncatedSVD(n_components=k, random_state=1989)\n",
    "    selector.fit(train_X)\n",
    "    train_X = selector.transform(train_X)\n",
    "    test_X = selector.transform(test_X)\n",
    "    return train_X, test_X\n"
   ]
  },
  {
   "cell_type": "code",
   "execution_count": 3,
   "metadata": {
    "collapsed": true
   },
   "outputs": [],
   "source": [
    "\n",
    "# if the class with the minimum number of instances has n instances\n",
    "# then all classes should have n instances where we randomly select\n",
    "# n instances from the classes with more instances than n\n",
    "def undersample(train_X,train_y):\n",
    "    #the unique labels in classes\n",
    "    unique = set(train_y)\n",
    "    # find the class with the minimum number of instances\n",
    "    minimum = train_y.size\n",
    "    for i in unique :\n",
    "        if(train_y[train_y==i].size<minimum):\n",
    "            minimum = train_y[train_y==i].size\n",
    "    ret_x = np.empty(shape=[0, train_X[0].size])\n",
    "    ret_y = np.empty(shape=[0,1])\n",
    "    # Create a new matrix with \"minimum\" number of instances for each category\n",
    "    for i in unique :\n",
    "        temp = np.asarray(random.sample(train_X[train_y==i].tolist(), minimum))\n",
    "        ret_x = np.append(ret_x,temp, axis=0)\n",
    "        for j in range(0,minimum):\n",
    "            ret_y = np.append(ret_y,i)\n",
    "        #print(ret_y[ret_y==i].size)\n",
    "    return np.asarray(ret_x),ret_y\n",
    "\n",
    "# if the class with the Maximum number of instances has n instances\n",
    "# then all classes should have n instances where we randomly select\n",
    "# n instances from the classes with less instances than n\n",
    "def oversample(train_X,train_y):\n",
    "    unique = set(train_y)\n",
    "    # find maximum num of instances\n",
    "    maximum = 0\n",
    "    for i in unique :\n",
    "        if( (train_y[train_y==i].size) > maximum):\n",
    "            maximum = (train_y[train_y==i].size)\n",
    "    ret_x = np.empty(shape=[0, train_X[0].size])\n",
    "    ret_y = np.empty(shape=[0,1])\n",
    "    for i in unique :\n",
    "        to_go  = maximum;\n",
    "        # if one class has k instances and n div k > 1\n",
    "        # then add n div k times all the k instances\n",
    "        while (to_go >= (train_X[train_y==i][:,0].size)):\n",
    "            ret_x = np.append(ret_x,train_X[train_y==i], axis=0)\n",
    "            to_go -= (train_X[train_y==i][:,0].size)\n",
    "        # then add n mod k instances to reach maximum number\n",
    "        if(to_go>0):\n",
    "            temp = np.asarray(random.sample(train_X[train_y==i].tolist(), to_go))\n",
    "            ret_x = np.append(ret_x,temp, axis=0)\n",
    "        for j in range(0,maximum):\n",
    "            ret_y = np.append(ret_y,i)\n",
    "    return np.asarray(ret_x),ret_y\n"
   ]
  },
  {
   "cell_type": "code",
   "execution_count": 4,
   "metadata": {
    "collapsed": true
   },
   "outputs": [],
   "source": [
    "\n",
    "# return the results of the classification in a dictionary\n",
    "def benchmark(clf, train_X, train_y, test_X, test_y):\n",
    "    \"\"\"\n",
    "    evaluate classification\n",
    "    \"\"\"\n",
    "    clf.fit(train_X, train_y)\n",
    "    pred = clf.predict(test_X)\n",
    "    #print(pred)\n",
    "    f1 = metrics.f1_score(test_y, pred, average='weighted')\n",
    "    accuracy = metrics.accuracy_score(test_y, pred)\n",
    "    print(\" Acc: %f \"%(accuracy))\n",
    "    result = {'f1' : f1,'accuracy' : accuracy,'train size' : len(train_y), 'test size' : len(test_y), 'predictions': pred }\n",
    "    return result\n"
   ]
  },
  {
   "cell_type": "code",
   "execution_count": 5,
   "metadata": {
    "collapsed": true
   },
   "outputs": [],
   "source": [
    "\n",
    "# http://archive.ics.uci.edu/ml/datasets/Pen-Based+Recognition+of+Handwritten+Digits\n",
    "digits = datasets.load_digits()\n",
    "X = digits.data\n",
    "Y = digits.target\n",
    "\n",
    "\n",
    "# split 80% train , 20% test\n",
    "train_x = X[ 0 : int(X.shape[0]*0.8), : ]\n",
    "train_y = Y[ 0 : int(X.shape[0]*0.8) ]\n",
    "test_x = X[ int(X.shape[0]*0.8) : , : ]\n",
    "test_y = Y[ int(X.shape[0]*0.8) : ]\n",
    "\n"
   ]
  },
  {
   "cell_type": "code",
   "execution_count": 6,
   "metadata": {
    "collapsed": true
   },
   "outputs": [],
   "source": [
    "\n",
    "# normalize values between -1 and 1 with the simple minmax algorithm\n",
    "normalizer = MinMaxScaler(feature_range=(-1.0, 1.0))\n",
    "train_x = normalizer.fit_transform(train_x)\n",
    "test_x = normalizer.transform(test_x)\n",
    "\n"
   ]
  },
  {
   "cell_type": "code",
   "execution_count": 7,
   "metadata": {},
   "outputs": [
    {
     "name": "stdout",
     "output_type": "stream",
     "text": [
      "previous train shape : \n",
      "(1437, 64)\n",
      "new train shape : \n",
      "(1437, 10)\n",
      "previous test shape :\n",
      "(360, 64)\n",
      "new test shape :\n",
      "(360, 10)\n"
     ]
    }
   ],
   "source": [
    "\n",
    "# choose dimentionality reduction method\n",
    "dimRed = 'PCA'\n",
    "k = 10\n",
    "\n",
    "if dimRed == 'SVD':\n",
    "    train_x_sub, test_x_sub = select_features_svd(train_x, test_x, k)\n",
    "elif dimRed == 'PCA':\n",
    "    train_x_sub, test_x_sub = select_features_pca(train_x, test_x, k)\n",
    "else:\n",
    "    train_x_sub, test_x_sub = train_x, test_x\n",
    "\n",
    "print('previous train shape : ')\n",
    "print(train_x.shape)\n",
    "print('new train shape : ')\n",
    "print(train_x_sub.shape)\n",
    "print('previous test shape :')\n",
    "print(test_x.shape)\n",
    "print('new test shape :')\n",
    "print(test_x_sub.shape)\n",
    "\n",
    "\n"
   ]
  },
  {
   "cell_type": "code",
   "execution_count": 8,
   "metadata": {},
   "outputs": [
    {
     "name": "stdout",
     "output_type": "stream",
     "text": [
      "previous train shape : \n",
      "(1437, 10)\n",
      "new train shape : \n",
      "(1460, 10)\n",
      "previous test shape :\n",
      "(360, 10)\n",
      "new test shape :\n",
      "(360, 10)\n"
     ]
    }
   ],
   "source": [
    "\n",
    "# choose sampling method\n",
    "sampling = 'oversample'\n",
    "if sampling == 'undersample':\n",
    "    train_x_s_s, train_y_s_s = undersample(train_x_sub,train_y)\n",
    "    test_x_s_s, test_y_s_s = test_x_sub,test_y\n",
    "elif sampling == 'oversample':\n",
    "    train_x_s_s, train_y_s_s = oversample(train_x_sub,train_y)\n",
    "    test_x_s_s, test_y_s_s = test_x_sub,test_y\n",
    "else:\n",
    "    train_x_s_s, train_y_s_s = train_x_sub,train_y\n",
    "    test_x_s_s, test_y_s_s = test_x_sub,test_y\n",
    "\n",
    "print('previous train shape : ')\n",
    "print(train_x_sub.shape)\n",
    "print('new train shape : ')\n",
    "print(train_x_s_s.shape)\n",
    "print('previous test shape :')\n",
    "print(test_x_sub.shape)\n",
    "print('new test shape :')\n",
    "print(test_x_s_s.shape)\n"
   ]
  },
  {
   "cell_type": "code",
   "execution_count": 13,
   "metadata": {},
   "outputs": [
    {
     "name": "stdout",
     "output_type": "stream",
     "text": [
      "Training instances\n",
      "instances of class 0 : 146\n",
      "instances of class 1 : 146\n",
      "instances of class 2 : 146\n",
      "instances of class 3 : 146\n",
      "instances of class 4 : 146\n",
      "instances of class 5 : 146\n",
      "instances of class 6 : 146\n",
      "instances of class 7 : 146\n",
      "instances of class 8 : 146\n",
      "\n",
      "Testing instances\n",
      "instances of class 0 : 35\n",
      "instances of class 1 : 36\n",
      "instances of class 2 : 35\n",
      "instances of class 3 : 37\n",
      "instances of class 4 : 37\n",
      "instances of class 5 : 37\n",
      "instances of class 6 : 37\n",
      "instances of class 7 : 36\n",
      "instances of class 8 : 33\n"
     ]
    }
   ],
   "source": [
    "\n",
    "\n",
    "# split train set in 10 pieces and train\n",
    "# the model at first with 10% of data\n",
    "# then 20% of data\n",
    "# then 30% of data etc\n",
    "# and store the results on test data and\n",
    "# train data itself in a vector inside a dictionary\n",
    "\n",
    "print 'Training instances'\n",
    "for i in range(0,int(np.max(train_y_s_s))):\n",
    "    print('instances of class '+str(i)+' : '+str(len(train_y_s_s[train_y_s_s==i])))\n",
    "\n",
    "print '\\nTesting instances'\n",
    "for i in range(0,int(np.max(test_y_s_s))):\n",
    "    print('instances of class '+str(i)+' : '+str(len(test_y_s_s[test_y_s_s==i])))\n",
    "\n",
    "from sklearn.utils import shuffle\n",
    "train_x_s_s, train_y_s_s = shuffle(train_x_s_s, train_y_s_s, random_state=1989)\n"
   ]
  },
  {
   "cell_type": "code",
   "execution_count": 10,
   "metadata": {},
   "outputs": [
    {
     "name": "stdout",
     "output_type": "stream",
     "text": [
      "(146, 10)\n",
      " Acc: 0.811111 \n",
      " Acc: 0.986301 \n",
      "(292, 10)\n",
      " Acc: 0.833333 \n",
      " Acc: 0.979452 \n",
      "(438, 10)\n",
      " Acc: 0.858333 \n",
      " Acc: 0.945205 \n",
      "(584, 10)\n",
      " Acc: 0.836111 \n",
      " Acc: 0.936644 \n",
      "(730, 10)\n",
      " Acc: 0.847222 \n",
      " Acc: 0.934247 \n",
      "(876, 10)\n",
      " Acc: 0.844444 \n",
      " Acc: 0.932648 \n",
      "(1022, 10)\n",
      " Acc: 0.833333 \n",
      " Acc: 0.930528 \n",
      "(1168, 10)\n",
      " Acc: 0.847222 \n",
      " Acc: 0.922089 \n",
      "(1314, 10)\n",
      " Acc: 0.861111 \n",
      " Acc: 0.935312 \n",
      "(1460, 10)\n",
      " Acc: 0.833333 \n",
      " Acc: 0.931507 \n"
     ]
    }
   ],
   "source": [
    "\n",
    "results = {}\n",
    "results['train_size'] = []\n",
    "results['on_test'] = []\n",
    "results['on_train'] = []\n",
    "for i in range(1,11):\n",
    "    if(i==10):\n",
    "        train_x_part = train_x_s_s\n",
    "        train_y_part = train_y_s_s\n",
    "    else:\n",
    "        to = i*(train_x_s_s.shape[0]/10)\n",
    "        train_x_part = train_x_s_s[0:to,:]\n",
    "        train_y_part = train_y_s_s[0:to]\n",
    "    print(train_x_part.shape)\n",
    "    results['train_size'].append(train_x_part.shape[0])\n",
    "    # define the classifier you will use\n",
    "    # SVC\n",
    "    # Similar to SVC with parameter kernel=’linear’, but implemented in terms of liblinear rather than libsvm, so it has more flexibility in the choice of penalties and loss functions and should scale better to large numbers of samples.\n",
    "    clf = svm.LinearSVC(random_state = 1989, C=100., penalty = 'l2', max_iter =1000)\n",
    "    # or\n",
    "    # clf = sklearn.svm.SVC(C=1.0, kernel='rbf', degree=3, gamma='auto', coef0=0.0, shrinking=True, probability=False, tol=0.001, cache_size=200, class_weight=None, verbose=False, max_iter=-1, decision_function_shape=None, random_state=None)\n",
    "    # sklearn.svm.SVC allows us to return the probabilities\n",
    "    result = benchmark(clf, train_x_part, train_y_part, test_x_s_s, test_y_s_s)\n",
    "    #pprint(result)\n",
    "    results['on_test'].append(result['accuracy'])\n",
    "    result = benchmark(clf, train_x_part, train_y_part, train_x_part, train_y_part)\n",
    "    #pprint(result)\n",
    "    results['on_train'].append(result['accuracy'])\n"
   ]
  },
  {
   "cell_type": "code",
   "execution_count": 11,
   "metadata": {},
   "outputs": [
    {
     "name": "stdout",
     "output_type": "stream",
     "text": [
      "Populating the interactive namespace from numpy and matplotlib\n"
     ]
    },
    {
     "name": "stderr",
     "output_type": "stream",
     "text": [
      "/home/user/virtual_environments/my_project/venv/local/lib/python2.7/site-packages/IPython/core/magics/pylab.py:161: UserWarning: pylab import has clobbered these variables: ['clf', 'random', 'shuffle']\n",
      "`%matplotlib` prevents importing * from pylab and numpy\n",
      "  \"\\n`%matplotlib` prevents importing * from pylab and numpy\"\n"
     ]
    },
    {
     "data": {
      "image/png": "[encoded data removed]",
      "text/plain": [
       "<matplotlib.figure.Figure at 0x7f86072bbfd0>"
      ]
     },
     "metadata": {},
     "output_type": "display_data"
    }
   ],
   "source": [
    "\n",
    "# # plot the results and save them on an image\n",
    "# import matplotlib as mpl\n",
    "# mpl.use('Agg')\n",
    "\n",
    "%matplotlib notebook\n",
    "%pylab inline\n",
    "\n",
    "import matplotlib.pyplot as plt\n",
    "from matplotlib.font_manager import FontProperties\n",
    "pylab.rcParams['figure.figsize'] = (20, 6)\n",
    "\n",
    "fontP = FontProperties()\n",
    "fontP.set_size('small')\n",
    "fig = plt.figure()\n",
    "fig.suptitle('Learning Curves', fontsize=20)\n",
    "ax = fig.add_subplot(111)\n",
    "ax.axis([0, 1600, 0, 1.1])\n",
    "line_up, = ax.plot( results['train_size'], results['on_train'], 'o-',label='Accuracy on Train')\n",
    "line_down, = ax.plot( results['train_size'] , results['on_test'], 'o-',label='Accuracy on Test')\n",
    "\n",
    "plt.xlabel('N. of training instances', fontsize=18)\n",
    "plt.ylabel('Accuracy', fontsize=16)\n",
    "plt.legend([line_up, line_down], ['Accuracy on Train', 'Accuracy on Test'], prop = fontP)\n",
    "plt.grid(True)\n",
    "\n",
    "#fig.savefig('temp.png')\n"
   ]
  },
  {
   "cell_type": "code",
   "execution_count": null,
   "metadata": {
    "collapsed": true
   },
   "outputs": [],
   "source": []
  }
 ],
 "metadata": {
  "kernelspec": {
   "display_name": "Python 3",
   "language": "python",
   "name": "python3"
  },
  "language_info": {
   "codemirror_mode": {
    "name": "ipython",
    "version": 3
   },
   "file_extension": ".py",
   "mimetype": "text/x-python",
   "name": "python",
   "nbconvert_exporter": "python",
   "pygments_lexer": "ipython3",
   "version": "3.6.1"
  }
 },
 "nbformat": 4,
 "nbformat_minor": 2
}
