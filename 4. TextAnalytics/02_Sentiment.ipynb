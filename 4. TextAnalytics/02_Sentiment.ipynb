{
 "cells": [
  {
   "cell_type": "markdown",
   "metadata": {
    "slideshow": {
     "slide_type": "slide"
    }
   },
   "source": [
    "#### Data types\n",
    "\n",
    "Strings\n"
   ]
  },
  {
   "cell_type": "code",
   "execution_count": 1,
   "metadata": {
    "slideshow": {
     "slide_type": "-"
    }
   },
   "outputs": [],
   "source": [
    "tweet = 'We have some delightful new food in the cafeteria. Awesome!!!'"
   ]
  },
  {
   "cell_type": "code",
   "execution_count": 2,
   "metadata": {
    "slideshow": {
     "slide_type": "fragment"
    }
   },
   "outputs": [
    {
     "data": {
      "text/plain": [
       "'We have some delightful new food in the cafeteria. Awesome!!!'"
      ]
     },
     "execution_count": 2,
     "metadata": {},
     "output_type": "execute_result"
    }
   ],
   "source": [
    "tweet"
   ]
  },
  {
   "cell_type": "markdown",
   "metadata": {
    "slideshow": {
     "slide_type": "fragment"
    }
   },
   "source": [
    "We can also `print` out the contents."
   ]
  },
  {
   "cell_type": "code",
   "execution_count": 4,
   "metadata": {
    "slideshow": {
     "slide_type": "fragment"
    }
   },
   "outputs": [
    {
     "name": "stdout",
     "output_type": "stream",
     "text": [
      "We have some delightful new food in the cafeteria. Awesome!!!\n"
     ]
    }
   ],
   "source": [
    "print (tweet)"
   ]
  },
  {
   "cell_type": "markdown",
   "metadata": {
    "slideshow": {
     "slide_type": "fragment"
    }
   },
   "source": [
    "Python doesn't care if you use `'`, `\"`, or even `'''` for your strings."
   ]
  },
  {
   "cell_type": "code",
   "execution_count": 5,
   "metadata": {
    "slideshow": {
     "slide_type": "fragment"
    }
   },
   "outputs": [
    {
     "data": {
      "text/plain": [
       "'We have some delightful new food in the cafeteria. Awesome!!!'"
      ]
     },
     "execution_count": 5,
     "metadata": {},
     "output_type": "execute_result"
    }
   ],
   "source": [
    "tweet = \"We have some delightful new food in the cafeteria. Awesome!!!\"\n",
    "tweet"
   ]
  },
  {
   "cell_type": "markdown",
   "metadata": {
    "slideshow": {
     "slide_type": "slide"
    }
   },
   "source": [
    "Will this work?\n",
    "\n",
    "`tweet = Does anyone call New Haven \"NeHa\"?`\n",
    "\n",
    "Guess? Try it!"
   ]
  },
  {
   "cell_type": "code",
   "execution_count": 6,
   "metadata": {
    "slideshow": {
     "slide_type": "fragment"
    }
   },
   "outputs": [
    {
     "ename": "SyntaxError",
     "evalue": "invalid syntax (<ipython-input-6-f8d58a3d5899>, line 1)",
     "output_type": "error",
     "traceback": [
      "\u001b[1;36m  File \u001b[1;32m\"<ipython-input-6-f8d58a3d5899>\"\u001b[1;36m, line \u001b[1;32m1\u001b[0m\n\u001b[1;33m    tweet = Does anyone call New Haven \"NeHa\"?\u001b[0m\n\u001b[1;37m                      ^\u001b[0m\n\u001b[1;31mSyntaxError\u001b[0m\u001b[1;31m:\u001b[0m invalid syntax\n"
     ]
    }
   ],
   "source": [
    "tweet = Does anyone call New Haven \"NeHa\"?"
   ]
  },
  {
   "cell_type": "code",
   "execution_count": 7,
   "metadata": {
    "slideshow": {
     "slide_type": "fragment"
    }
   },
   "outputs": [
    {
     "name": "stdout",
     "output_type": "stream",
     "text": [
      "Does anyone call New Haven \"NeHa\"?\n"
     ]
    }
   ],
   "source": [
    "tweet = '''Does anyone call New Haven \"NeHa\"?'''\n",
    "\n",
    "print (tweet)"
   ]
  },
  {
   "cell_type": "code",
   "execution_count": 8,
   "metadata": {
    "slideshow": {
     "slide_type": "fragment"
    }
   },
   "outputs": [
    {
     "name": "stdout",
     "output_type": "stream",
     "text": [
      "Does anyone call New Haven \"NeHa\"?\n"
     ]
    }
   ],
   "source": [
    "tweet = 'Does anyone call New Haven \"NeHa\"?'\n",
    "\n",
    "print (tweet)"
   ]
  },
  {
   "cell_type": "markdown",
   "metadata": {
    "slideshow": {
     "slide_type": "slide"
    }
   },
   "source": [
    "### Lists - another way to store data\n"
   ]
  },
  {
   "cell_type": "code",
   "execution_count": 9,
   "metadata": {
    "slideshow": {
     "slide_type": "fragment"
    }
   },
   "outputs": [
    {
     "data": {
      "text/plain": [
       "['everything', 'in', 'brackets', 'separated', 'by', 'commas.']"
      ]
     },
     "execution_count": 9,
     "metadata": {},
     "output_type": "execute_result"
    }
   ],
   "source": [
    "['everything','in','brackets','separated','by','commas.']"
   ]
  },
  {
   "cell_type": "markdown",
   "metadata": {
    "slideshow": {
     "slide_type": "fragment"
    }
   },
   "source": [
    "Think of these like variables."
   ]
  },
  {
   "cell_type": "code",
   "execution_count": 10,
   "metadata": {
    "slideshow": {
     "slide_type": "fragment"
    }
   },
   "outputs": [],
   "source": [
    "positive_words = ['awesome', 'good', 'nice', 'super', 'fun']"
   ]
  },
  {
   "cell_type": "code",
   "execution_count": 12,
   "metadata": {
    "slideshow": {
     "slide_type": "fragment"
    }
   },
   "outputs": [
    {
     "name": "stdout",
     "output_type": "stream",
     "text": [
      "['awesome', 'good', 'nice', 'super', 'fun']\n"
     ]
    }
   ],
   "source": [
    "print (positive_words)"
   ]
  },
  {
   "cell_type": "markdown",
   "metadata": {
    "slideshow": {
     "slide_type": "slide"
    }
   },
   "source": [
    "We can add things to the list with `append`. "
   ]
  },
  {
   "cell_type": "code",
   "execution_count": 37,
   "metadata": {
    "slideshow": {
     "slide_type": "-"
    }
   },
   "outputs": [],
   "source": [
    "positive_words.append('delightful')"
   ]
  },
  {
   "cell_type": "code",
   "execution_count": 38,
   "metadata": {
    "slideshow": {
     "slide_type": "fragment"
    }
   },
   "outputs": [
    {
     "name": "stdout",
     "output_type": "stream",
     "text": [
      "['awesome', 'good', 'nice', 'super', 'fun', 'delightful']\n"
     ]
    }
   ],
   "source": [
    "print (positive_words)"
   ]
  },
  {
   "cell_type": "markdown",
   "metadata": {
    "slideshow": {
     "slide_type": "fragment"
    }
   },
   "source": [
    "Note that we didn't write `postive_words = positive_words.append('delightful')`. \n",
    "\n",
    "`.append()` modifies the content of the list."
   ]
  },
  {
   "cell_type": "code",
   "execution_count": 14,
   "metadata": {
    "slideshow": {
     "slide_type": "slide"
    }
   },
   "outputs": [
    {
     "ename": "NameError",
     "evalue": "name 'like' is not defined",
     "output_type": "error",
     "traceback": [
      "\u001b[1;31m---------------------------------------------------------------------------\u001b[0m",
      "\u001b[1;31mNameError\u001b[0m                                 Traceback (most recent call last)",
      "\u001b[1;32m<ipython-input-14-673e9e5b39f5>\u001b[0m in \u001b[0;36m<module>\u001b[1;34m\u001b[0m\n\u001b[1;32m----> 1\u001b[1;33m \u001b[0mpositive_words\u001b[0m\u001b[1;33m.\u001b[0m\u001b[0mappend\u001b[0m\u001b[1;33m(\u001b[0m\u001b[0mlike\u001b[0m\u001b[1;33m)\u001b[0m\u001b[1;33m\u001b[0m\u001b[1;33m\u001b[0m\u001b[0m\n\u001b[0m",
      "\u001b[1;31mNameError\u001b[0m: name 'like' is not defined"
     ]
    }
   ],
   "source": [
    "positive_words.append(like)"
   ]
  },
  {
   "cell_type": "code",
   "execution_count": 22,
   "metadata": {
    "slideshow": {
     "slide_type": "fragment"
    }
   },
   "outputs": [],
   "source": [
    "new_word_to_add = 'like'\n",
    "positive_words.append(new_word_to_add)"
   ]
  },
  {
   "cell_type": "code",
   "execution_count": 15,
   "metadata": {
    "slideshow": {
     "slide_type": "fragment"
    }
   },
   "outputs": [
    {
     "name": "stdout",
     "output_type": "stream",
     "text": [
      "['awesome', 'good', 'nice', 'super', 'fun']\n"
     ]
    }
   ],
   "source": [
    "print (positive_words)"
   ]
  },
  {
   "cell_type": "markdown",
   "metadata": {
    "slideshow": {
     "slide_type": "slide"
    }
   },
   "source": [
    "Your turn.\n",
    "\n",
    "Make a list callled `negative_words` that includes awful, lame, horrible and bad. `print` out the contents."
   ]
  },
  {
   "cell_type": "code",
   "execution_count": 16,
   "metadata": {
    "slideshow": {
     "slide_type": "fragment"
    }
   },
   "outputs": [
    {
     "name": "stdout",
     "output_type": "stream",
     "text": [
      "['awful', 'lame', 'horrible', 'bad']\n"
     ]
    }
   ],
   "source": [
    "negative_words = ['awful','lame','horrible','bad']\n",
    "print (negative_words)"
   ]
  },
  {
   "cell_type": "markdown",
   "metadata": {
    "slideshow": {
     "slide_type": "slide"
    }
   },
   "source": [
    "Combining lists"
   ]
  },
  {
   "cell_type": "code",
   "execution_count": 18,
   "metadata": {},
   "outputs": [
    {
     "name": "stdout",
     "output_type": "stream",
     "text": [
      "['awful', 'lame', 'horrible', 'bad', 'awesome', 'good', 'nice', 'super', 'fun']\n"
     ]
    }
   ],
   "source": [
    "emotional_words = negative_words + positive_words\n",
    "print (emotional_words)"
   ]
  },
  {
   "cell_type": "markdown",
   "metadata": {
    "slideshow": {
     "slide_type": "slide"
    }
   },
   "source": [
    "Strings can be split to create lists. I do this a lot."
   ]
  },
  {
   "cell_type": "code",
   "execution_count": 19,
   "metadata": {
    "slideshow": {
     "slide_type": "-"
    }
   },
   "outputs": [
    {
     "name": "stdout",
     "output_type": "stream",
     "text": [
      "['We', 'have', 'some', 'delightful', 'new', 'food', 'in', 'the', 'cafeteria.', 'Awesome!!!']\n"
     ]
    }
   ],
   "source": [
    "tweet = 'We have some delightful new food in the cafeteria. Awesome!!!'\n",
    "\n",
    "words = tweet.split()\n",
    "print (words)"
   ]
  },
  {
   "cell_type": "code",
   "execution_count": 20,
   "metadata": {},
   "outputs": [
    {
     "name": "stdout",
     "output_type": "stream",
     "text": [
      "['We have some delightful new food in the cafeteria', ' Awesome!!!']\n"
     ]
    }
   ],
   "source": [
    "tweet = 'We have some delightful new food in the cafeteria. Awesome!!!'\n",
    "print (tweet.split('.'))"
   ]
  },
  {
   "cell_type": "markdown",
   "metadata": {
    "slideshow": {
     "slide_type": "slide"
    }
   },
   "source": [
    "Unlike `.append()`, `.split()` doesn't alter the string strings. Strings are immutable."
   ]
  },
  {
   "cell_type": "code",
   "execution_count": 22,
   "metadata": {},
   "outputs": [
    {
     "name": "stdout",
     "output_type": "stream",
     "text": [
      "['We', 'have', 'some', 'delightful', 'new', 'food', 'in', 'the', 'cafeteria.', 'Awesome!!!']\n",
      "We have some delightful new food in the cafeteria. Awesome!!!\n"
     ]
    }
   ],
   "source": [
    "tweet = 'We have some delightful new food in the cafeteria. Awesome!!!'\n",
    "print (tweet.split())\n",
    "print (tweet)"
   ]
  },
  {
   "cell_type": "markdown",
   "metadata": {
    "slideshow": {
     "slide_type": "fragment"
    }
   },
   "source": [
    "So when you modify a string, make sure you store the results somewhere."
   ]
  },
  {
   "cell_type": "code",
   "execution_count": 23,
   "metadata": {
    "slideshow": {
     "slide_type": "fragment"
    }
   },
   "outputs": [
    {
     "name": "stdout",
     "output_type": "stream",
     "text": [
      "['We', 'have', 'some', 'delightful', 'new', 'food', 'in', 'the', 'cafeteria.', 'Awesome!!!']\n"
     ]
    }
   ],
   "source": [
    "tweet = 'We have some delightful new food in the cafeteria. Awesome!!!'\n",
    "words = tweet.split()\n",
    "print (words)"
   ]
  },
  {
   "cell_type": "markdown",
   "metadata": {
    "slideshow": {
     "slide_type": "slide"
    }
   },
   "source": [
    "#### Most of the fun math is in `numpy` but we can count the length of objects."
   ]
  },
  {
   "cell_type": "code",
   "execution_count": 24,
   "metadata": {
    "slideshow": {
     "slide_type": "-"
    }
   },
   "outputs": [
    {
     "name": "stdout",
     "output_type": "stream",
     "text": [
      "['We', 'have', 'some', 'delightful', 'new', 'food', 'in', 'the', 'cafeteria.', 'Awesome!!!']\n",
      "10\n"
     ]
    }
   ],
   "source": [
    "print (words)\n",
    "print (len(words))"
   ]
  },
  {
   "cell_type": "markdown",
   "metadata": {
    "slideshow": {
     "slide_type": "fragment"
    }
   },
   "source": [
    "How long is tweet?"
   ]
  },
  {
   "cell_type": "code",
   "execution_count": 25,
   "metadata": {
    "slideshow": {
     "slide_type": "fragment"
    }
   },
   "outputs": [
    {
     "name": "stdout",
     "output_type": "stream",
     "text": [
      "We have some delightful new food in the cafeteria. Awesome!!!\n"
     ]
    },
    {
     "data": {
      "text/plain": [
       "61"
      ]
     },
     "execution_count": 25,
     "metadata": {},
     "output_type": "execute_result"
    }
   ],
   "source": [
    "print (tweet )\n",
    "len(tweet)"
   ]
  },
  {
   "cell_type": "markdown",
   "metadata": {
    "slideshow": {
     "slide_type": "fragment"
    }
   },
   "source": [
    "With functions like `len()`, Python counts the number of items in list and the number of characters in a string."
   ]
  },
  {
   "cell_type": "markdown",
   "metadata": {
    "slideshow": {
     "slide_type": "slide"
    }
   },
   "source": [
    "There's a couple of more data types that you might need:"
   ]
  },
  {
   "cell_type": "code",
   "execution_count": 26,
   "metadata": {},
   "outputs": [
    {
     "name": "stdout",
     "output_type": "stream",
     "text": [
      "(1, 3, 'fish')\n"
     ]
    }
   ],
   "source": [
    "#tuple\n",
    "row = (1,3,'fish')\n",
    "\n",
    "print (row)"
   ]
  },
  {
   "cell_type": "code",
   "execution_count": 27,
   "metadata": {
    "slideshow": {
     "slide_type": "fragment"
    }
   },
   "outputs": [
    {
     "data": {
      "text/plain": [
       "{3, 4, 5}"
      ]
     },
     "execution_count": 27,
     "metadata": {},
     "output_type": "execute_result"
    }
   ],
   "source": [
    "#sets\n",
    "set([3,4,5,5])"
   ]
  },
  {
   "cell_type": "code",
   "execution_count": 28,
   "metadata": {
    "slideshow": {
     "slide_type": "fragment"
    }
   },
   "outputs": [],
   "source": [
    "#Dictionary\n",
    "\n",
    "article_1 = {'title': 'Cat in the Hat', 'author': 'Dr. Seuss', 'Year': 1957}"
   ]
  },
  {
   "cell_type": "code",
   "execution_count": 29,
   "metadata": {
    "slideshow": {
     "slide_type": "fragment"
    }
   },
   "outputs": [
    {
     "data": {
      "text/plain": [
       "[{'title': 'Cat in the Hat', 'author': 'Dr. Seuss', 'Year': 1957},\n",
       " {'title': 'Go Do Go!', 'author': 'PD Eastman', 'Year': 1961}]"
      ]
     },
     "execution_count": 29,
     "metadata": {},
     "output_type": "execute_result"
    }
   ],
   "source": [
    "#And a list of dictionaries is awfully close to a JSON.\n",
    "article_2 = {'title': 'Go Do Go!', 'author': 'PD Eastman', 'Year': 1961}\n",
    "\n",
    "articles = [article_1, article_2]\n",
    "\n",
    "articles"
   ]
  },
  {
   "cell_type": "markdown",
   "metadata": {
    "slideshow": {
     "slide_type": "slide"
    }
   },
   "source": [
    "Loops\n",
    "---\n",
    "Was any of our sentence words in the postive word list?"
   ]
  },
  {
   "cell_type": "code",
   "execution_count": 30,
   "metadata": {
    "slideshow": {
     "slide_type": "slide"
    }
   },
   "outputs": [
    {
     "name": "stdout",
     "output_type": "stream",
     "text": [
      "We\n",
      "have\n",
      "some\n",
      "delightful\n",
      "new\n",
      "food\n",
      "in\n",
      "the\n",
      "cafeteria.\n",
      "Awesome!!!\n"
     ]
    }
   ],
   "source": [
    "for word in words:\n",
    "    print (word)"
   ]
  },
  {
   "cell_type": "markdown",
   "metadata": {
    "slideshow": {
     "slide_type": "fragment"
    }
   },
   "source": [
    "Note the colon at the end of the first line. Python will expect the next line to be indented. "
   ]
  },
  {
   "cell_type": "markdown",
   "metadata": {
    "slideshow": {
     "slide_type": "slide"
    }
   },
   "source": [
    "We can also add conditionals, like `if` and `else` or `elif`. "
   ]
  },
  {
   "cell_type": "code",
   "execution_count": 39,
   "metadata": {
    "slideshow": {
     "slide_type": "-"
    }
   },
   "outputs": [
    {
     "name": "stdout",
     "output_type": "stream",
     "text": [
      "['awesome', 'good', 'nice', 'super', 'fun', 'delightful']\n",
      "delightful\n"
     ]
    }
   ],
   "source": [
    "#print (positive_words)\n",
    "for word in words:\n",
    "    if word in positive_words:\n",
    "        print (word)"
   ]
  },
  {
   "cell_type": "markdown",
   "metadata": {
    "slideshow": {
     "slide_type": "slide"
    }
   },
   "source": [
    "Your turn. Take the following tweet and print out a plus sign for each positive word:\n",
    "\n",
    "`tweet_2 = \"Food is lame today. I don't like it at all.\"`\n",
    "\n",
    "Don't peak.\n"
   ]
  },
  {
   "cell_type": "code",
   "execution_count": 40,
   "metadata": {
    "slideshow": {
     "slide_type": "fragment"
    }
   },
   "outputs": [],
   "source": [
    "tweet_2 = \"Food is lame today. I don't like it at all.\"\n",
    "words_2 = tweet_2.split()\n",
    "\n",
    "for word in words_2:\n",
    "    if word in positive_words:\n",
    "        print ('+')\n",
    "        "
   ]
  },
  {
   "cell_type": "code",
   "execution_count": 41,
   "metadata": {
    "slideshow": {
     "slide_type": "fragment"
    }
   },
   "outputs": [
    {
     "name": "stdout",
     "output_type": "stream",
     "text": [
      "-\n"
     ]
    }
   ],
   "source": [
    "tweet_2 = \"Food is lame today. I don't like it at all.\"\n",
    "words_2 = tweet_2.split()\n",
    "\n",
    "for word in words_2:\n",
    "    if word in positive_words:\n",
    "        print ('+')\n",
    "    elif word in negative_words:\n",
    "        print ('-')"
   ]
  },
  {
   "cell_type": "markdown",
   "metadata": {
    "slideshow": {
     "slide_type": "slide"
    }
   },
   "source": [
    "Like lists, we can combine strings with a `+`."
   ]
  },
  {
   "cell_type": "code",
   "execution_count": 43,
   "metadata": {
    "slideshow": {
     "slide_type": "-"
    }
   },
   "outputs": [
    {
     "name": "stdout",
     "output_type": "stream",
     "text": [
      "delightful is a positive word.\n"
     ]
    }
   ],
   "source": [
    "for word in words:\n",
    "    if word in positive_words:\n",
    "        print (word + ' is a positive word.')"
   ]
  },
  {
   "cell_type": "markdown",
   "metadata": {
    "slideshow": {
     "slide_type": "slide"
    }
   },
   "source": [
    "Why doesn't this work?"
   ]
  },
  {
   "cell_type": "code",
   "execution_count": 44,
   "metadata": {
    "slideshow": {
     "slide_type": "fragment"
    }
   },
   "outputs": [
    {
     "ename": "TypeError",
     "evalue": "unsupported operand type(s) for +: 'int' and 'str'",
     "output_type": "error",
     "traceback": [
      "\u001b[1;31m---------------------------------------------------------------------------\u001b[0m",
      "\u001b[1;31mTypeError\u001b[0m                                 Traceback (most recent call last)",
      "\u001b[1;32m<ipython-input-44-eca3a1f291b3>\u001b[0m in \u001b[0;36m<module>\u001b[1;34m\u001b[0m\n\u001b[1;32m----> 1\u001b[1;33m \u001b[0mprint\u001b[0m \u001b[1;33m(\u001b[0m\u001b[1;36m3\u001b[0m \u001b[1;33m+\u001b[0m \u001b[1;34m' is a number.'\u001b[0m\u001b[1;33m)\u001b[0m\u001b[1;33m\u001b[0m\u001b[1;33m\u001b[0m\u001b[0m\n\u001b[0m",
      "\u001b[1;31mTypeError\u001b[0m: unsupported operand type(s) for +: 'int' and 'str'"
     ]
    }
   ],
   "source": [
    "print (3 + ' is a number.')\n"
   ]
  },
  {
   "cell_type": "code",
   "execution_count": 45,
   "metadata": {
    "slideshow": {
     "slide_type": "fragment"
    }
   },
   "outputs": [
    {
     "ename": "TypeError",
     "evalue": "can only concatenate list (not \"str\") to list",
     "output_type": "error",
     "traceback": [
      "\u001b[1;31m---------------------------------------------------------------------------\u001b[0m",
      "\u001b[1;31mTypeError\u001b[0m                                 Traceback (most recent call last)",
      "\u001b[1;32m<ipython-input-45-354ac90bbe81>\u001b[0m in \u001b[0;36m<module>\u001b[1;34m\u001b[0m\n\u001b[1;32m----> 1\u001b[1;33m \u001b[0mprint\u001b[0m \u001b[1;33m(\u001b[0m\u001b[1;33m[\u001b[0m\u001b[1;34m'puppies'\u001b[0m\u001b[1;33m,\u001b[0m\u001b[1;34m'dogs'\u001b[0m\u001b[1;33m]\u001b[0m \u001b[1;33m+\u001b[0m \u001b[1;34m'are pets.'\u001b[0m\u001b[1;33m)\u001b[0m\u001b[1;33m\u001b[0m\u001b[1;33m\u001b[0m\u001b[0m\n\u001b[0m",
      "\u001b[1;31mTypeError\u001b[0m: can only concatenate list (not \"str\") to list"
     ]
    }
   ],
   "source": [
    "print (['puppies','dogs'] + 'are pets.')\n"
   ]
  },
  {
   "cell_type": "code",
   "execution_count": 46,
   "metadata": {
    "slideshow": {
     "slide_type": "slide"
    }
   },
   "outputs": [
    {
     "name": "stdout",
     "output_type": "stream",
     "text": [
      "3 is a number.\n",
      "3 is a number.\n",
      "3 is a number.\n"
     ]
    }
   ],
   "source": [
    "print ('3' + ' is a number.')\n",
    "\n",
    "print (str(3) + ' is a number.')\n",
    "\n",
    "print ('%s is a number.' % 3)"
   ]
  },
  {
   "cell_type": "code",
   "execution_count": 47,
   "metadata": {
    "slideshow": {
     "slide_type": "fragment"
    }
   },
   "outputs": [
    {
     "name": "stdout",
     "output_type": "stream",
     "text": [
      "1 is a number.\n",
      "2 is a number.\n",
      "4 is a number.\n",
      "9 is a number.\n"
     ]
    }
   ],
   "source": [
    "for some_number in [1,2,4,9]:\n",
    "    sentence = str(some_number) + ' is a number.'\n",
    "    print (sentence)"
   ]
  },
  {
   "cell_type": "markdown",
   "metadata": {
    "slideshow": {
     "slide_type": "slide"
    }
   },
   "source": [
    "### Text cleaning\n",
    "\n",
    "Or why Awesome!!! wasn't a positive word"
   ]
  },
  {
   "cell_type": "code",
   "execution_count": 48,
   "metadata": {
    "slideshow": {
     "slide_type": "fragment"
    }
   },
   "outputs": [
    {
     "name": "stdout",
     "output_type": "stream",
     "text": [
      "we have some delightful new food in the cafeteria. awesome!!!\n"
     ]
    }
   ],
   "source": [
    "print (tweet.lower())"
   ]
  },
  {
   "cell_type": "markdown",
   "metadata": {
    "slideshow": {
     "slide_type": "fragment"
    }
   },
   "source": [
    "But we can't do it with a list of things."
   ]
  },
  {
   "cell_type": "code",
   "execution_count": 49,
   "metadata": {
    "slideshow": {
     "slide_type": "fragment"
    }
   },
   "outputs": [
    {
     "ename": "AttributeError",
     "evalue": "'list' object has no attribute 'lower'",
     "output_type": "error",
     "traceback": [
      "\u001b[1;31m---------------------------------------------------------------------------\u001b[0m",
      "\u001b[1;31mAttributeError\u001b[0m                            Traceback (most recent call last)",
      "\u001b[1;32m<ipython-input-49-52621e4a7211>\u001b[0m in \u001b[0;36m<module>\u001b[1;34m\u001b[0m\n\u001b[1;32m----> 1\u001b[1;33m \u001b[0mprint\u001b[0m \u001b[1;33m(\u001b[0m\u001b[0mwords\u001b[0m\u001b[1;33m.\u001b[0m\u001b[0mlower\u001b[0m\u001b[1;33m(\u001b[0m\u001b[1;33m)\u001b[0m\u001b[1;33m)\u001b[0m\u001b[1;33m\u001b[0m\u001b[1;33m\u001b[0m\u001b[0m\n\u001b[0m",
      "\u001b[1;31mAttributeError\u001b[0m: 'list' object has no attribute 'lower'"
     ]
    }
   ],
   "source": [
    "print (words.lower())"
   ]
  },
  {
   "cell_type": "markdown",
   "metadata": {
    "slideshow": {
     "slide_type": "fragment"
    }
   },
   "source": [
    "So you'll either need clean the whole sentence, each word, or both."
   ]
  },
  {
   "cell_type": "code",
   "execution_count": 50,
   "metadata": {
    "slideshow": {
     "slide_type": "slide"
    }
   },
   "outputs": [
    {
     "name": "stdout",
     "output_type": "stream",
     "text": [
      "delightful is a positive word.\n"
     ]
    }
   ],
   "source": [
    "for word in words:\n",
    "    word_lower = word.lower()\n",
    "    if word_lower in positive_words:\n",
    "        print (word_lower + ' is a positive word.')"
   ]
  },
  {
   "cell_type": "markdown",
   "metadata": {
    "slideshow": {
     "slide_type": "slide"
    }
   },
   "source": [
    "Updating our loop, we still don’t find `awesome!!!` yet.\n",
    "\n",
    "Why?\n"
   ]
  },
  {
   "cell_type": "code",
   "execution_count": 51,
   "metadata": {
    "slideshow": {
     "slide_type": "fragment"
    }
   },
   "outputs": [
    {
     "name": "stdout",
     "output_type": "stream",
     "text": [
      "awesome\n"
     ]
    }
   ],
   "source": [
    "print ('awesome!!!'.strip('!'))"
   ]
  },
  {
   "cell_type": "markdown",
   "metadata": {
    "slideshow": {
     "slide_type": "slide"
    }
   },
   "source": [
    "Getting rid of `'!\"#$%&\\'()*+,-./:;<=>?@[\\\\]^_`{|}~'`"
   ]
  },
  {
   "cell_type": "code",
   "execution_count": 52,
   "metadata": {
    "slideshow": {
     "slide_type": "fragment"
    }
   },
   "outputs": [],
   "source": [
    "from string import punctuation"
   ]
  },
  {
   "cell_type": "code",
   "execution_count": 53,
   "metadata": {
    "slideshow": {
     "slide_type": "fragment"
    }
   },
   "outputs": [
    {
     "data": {
      "text/plain": [
       "'!\"#$%&\\'()*+,-./:;<=>?@[\\\\]^_`{|}~'"
      ]
     },
     "execution_count": 53,
     "metadata": {},
     "output_type": "execute_result"
    }
   ],
   "source": [
    "punctuation"
   ]
  },
  {
   "cell_type": "code",
   "execution_count": 54,
   "metadata": {
    "slideshow": {
     "slide_type": "fragment"
    }
   },
   "outputs": [
    {
     "data": {
      "text/plain": [
       "'awesome'"
      ]
     },
     "execution_count": 54,
     "metadata": {},
     "output_type": "execute_result"
    }
   ],
   "source": [
    "'awesome!!!!'.strip(punctuation)"
   ]
  },
  {
   "cell_type": "code",
   "execution_count": 55,
   "metadata": {
    "slideshow": {
     "slide_type": "slide"
    }
   },
   "outputs": [
    {
     "data": {
      "text/plain": [
       "'awesome'"
      ]
     },
     "execution_count": 55,
     "metadata": {},
     "output_type": "execute_result"
    }
   ],
   "source": [
    "'awesome?!?!'.strip(punctuation)"
   ]
  },
  {
   "cell_type": "code",
   "execution_count": 56,
   "metadata": {
    "slideshow": {
     "slide_type": "fragment"
    }
   },
   "outputs": [
    {
     "data": {
      "text/plain": [
       "'awesome!!!! party'"
      ]
     },
     "execution_count": 56,
     "metadata": {},
     "output_type": "execute_result"
    }
   ],
   "source": [
    "'awesome!!!! party'.strip(punctuation)"
   ]
  },
  {
   "cell_type": "code",
   "execution_count": 57,
   "metadata": {
    "slideshow": {
     "slide_type": "fragment"
    }
   },
   "outputs": [
    {
     "name": "stdout",
     "output_type": "stream",
     "text": [
      "awesome!!! party\n",
      "awesome party\n"
     ]
    }
   ],
   "source": [
    "print ('awesome!!! party')\n",
    "print ('awesome!!! party'.replace('!',''))"
   ]
  },
  {
   "cell_type": "code",
   "execution_count": 58,
   "metadata": {
    "slideshow": {
     "slide_type": "slide"
    }
   },
   "outputs": [
    {
     "name": "stdout",
     "output_type": "stream",
     "text": [
      "awesome\n"
     ]
    }
   ],
   "source": [
    "word = 'awesome!!!'\n",
    "\n",
    "word_processed = word.strip('!')\n",
    "word_processed = word_processed.lower()\n",
    "\n",
    "print (word_processed)\n"
   ]
  },
  {
   "cell_type": "code",
   "execution_count": 59,
   "metadata": {
    "slideshow": {
     "slide_type": "fragment"
    }
   },
   "outputs": [
    {
     "name": "stdout",
     "output_type": "stream",
     "text": [
      "awesome\n"
     ]
    }
   ],
   "source": [
    "word = 'awesome!!!'\n",
    "word_processed = word.strip('!').lower()\n",
    "print (word_processed)"
   ]
  },
  {
   "cell_type": "code",
   "execution_count": 60,
   "metadata": {
    "slideshow": {
     "slide_type": "slide"
    }
   },
   "outputs": [
    {
     "name": "stdout",
     "output_type": "stream",
     "text": [
      "delightful is a positive word\n",
      "Awesome!!! is a positive word\n"
     ]
    }
   ],
   "source": [
    "for word in words:\n",
    "    word_processed = word.lower()\n",
    "    word_processed = word_processed.strip(punctuation)\n",
    "    if word_processed in positive_words:\n",
    "        print (word + ' is a positive word')"
   ]
  },
  {
   "cell_type": "markdown",
   "metadata": {
    "slideshow": {
     "slide_type": "fragment"
    }
   },
   "source": [
    "It worked!!!\n",
    "\n"
   ]
  },
  {
   "cell_type": "markdown",
   "metadata": {
    "slideshow": {
     "slide_type": "slide"
    }
   },
   "source": [
    "But what we really care about is the count of words."
   ]
  },
  {
   "cell_type": "code",
   "execution_count": 61,
   "metadata": {
    "slideshow": {
     "slide_type": "fragment"
    }
   },
   "outputs": [
    {
     "name": "stdout",
     "output_type": "stream",
     "text": [
      "2\n"
     ]
    }
   ],
   "source": [
    "postive_counter = 0\n",
    "\n",
    "for word in words:\n",
    "    word_processed = word.lower()\n",
    "    word_processed = word_processed.strip(punctuation)\n",
    "    if word_processed in positive_words:\n",
    "        postive_counter = postive_counter + 1\n",
    "print (postive_counter)"
   ]
  },
  {
   "cell_type": "markdown",
   "metadata": {
    "slideshow": {
     "slide_type": "slide"
    }
   },
   "source": [
    "Let's do this for real.\n",
    "\n",
    "- Get a real list of affect words.\n",
    "- Get a real list of tweets.\n",
    "- Output the results to a csv file for additional analysis."
   ]
  },
  {
   "cell_type": "markdown",
   "metadata": {
    "slideshow": {
     "slide_type": "slide"
    }
   },
   "source": [
    "LIWC is what all the cool kids use, but there list is copyrighted. So we'll use lists of positive and negative words from:\n",
    "\n",
    "Theresa Wilson, Janyce Wiebe and Paul Hoffmann (2005). \"Recognizing Contextual \n",
    "Polarity in Phrase-Level Sentiment Analysis.\" Proceedings of HLT/EMNLP 2005,\n",
    "Vancouver, Canada."
   ]
  },
  {
   "cell_type": "code",
   "execution_count": 62,
   "metadata": {
    "slideshow": {
     "slide_type": "slide"
    }
   },
   "outputs": [],
   "source": [
    "negative_file = open('negative.txt', 'r').read()"
   ]
  },
  {
   "cell_type": "markdown",
   "metadata": {},
   "source": [
    "The basic way to open and read a text file. \n",
    "\n",
    "`r` tells the operating system you want permission to read it.  \n",
    "`.read()` tells Python to import all the text"
   ]
  },
  {
   "cell_type": "markdown",
   "metadata": {
    "slideshow": {
     "slide_type": "slide"
    }
   },
   "source": [
    "Let's take a look at `negative_file` by slicing it up."
   ]
  },
  {
   "cell_type": "code",
   "execution_count": 63,
   "metadata": {
    "slideshow": {
     "slide_type": "fragment"
    }
   },
   "outputs": [
    {
     "data": {
      "text/plain": [
       "'abandoned\\nabandonment\\naberration\\naberration\\nabhorr'"
      ]
     },
     "execution_count": 63,
     "metadata": {},
     "output_type": "execute_result"
    }
   ],
   "source": [
    "negative_file[:50]"
   ]
  },
  {
   "cell_type": "markdown",
   "metadata": {
    "slideshow": {
     "slide_type": "fragment"
    }
   },
   "source": [
    "`\\n` is an End of Line character\n",
    "\n",
    "`[:50]` took the first 50 characters"
   ]
  },
  {
   "cell_type": "code",
   "execution_count": 64,
   "metadata": {
    "slideshow": {
     "slide_type": "fragment"
    }
   },
   "outputs": [],
   "source": [
    "negative_list = negative_file.splitlines()"
   ]
  },
  {
   "cell_type": "code",
   "execution_count": 65,
   "metadata": {
    "slideshow": {
     "slide_type": "fragment"
    }
   },
   "outputs": [
    {
     "data": {
      "text/plain": [
       "['abandoned', 'abandonment', 'aberration', 'aberration', 'abhorred']"
      ]
     },
     "execution_count": 65,
     "metadata": {},
     "output_type": "execute_result"
    }
   ],
   "source": [
    "negative_list[:5]"
   ]
  },
  {
   "cell_type": "markdown",
   "metadata": {
    "slideshow": {
     "slide_type": "slide"
    }
   },
   "source": [
    "### Python starts at 0"
   ]
  },
  {
   "cell_type": "code",
   "execution_count": 66,
   "metadata": {},
   "outputs": [
    {
     "name": "stdout",
     "output_type": "stream",
     "text": [
      "abandoned\n"
     ]
    }
   ],
   "source": [
    "print (negative_list[0])"
   ]
  },
  {
   "cell_type": "code",
   "execution_count": 67,
   "metadata": {
    "slideshow": {
     "slide_type": "fragment"
    }
   },
   "outputs": [
    {
     "name": "stdout",
     "output_type": "stream",
     "text": [
      "['abandoned']\n"
     ]
    }
   ],
   "source": [
    "print (negative_list[0:1])"
   ]
  },
  {
   "cell_type": "code",
   "execution_count": 68,
   "metadata": {
    "slideshow": {
     "slide_type": "fragment"
    }
   },
   "outputs": [
    {
     "name": "stdout",
     "output_type": "stream",
     "text": [
      "['wrought', 'yawn', 'zealot', 'zealous', 'zealously']\n"
     ]
    }
   ],
   "source": [
    "print (negative_list[-5:])"
   ]
  },
  {
   "cell_type": "markdown",
   "metadata": {},
   "source": [
    "Let's do it again for the postive words"
   ]
  },
  {
   "cell_type": "code",
   "execution_count": 69,
   "metadata": {
    "slideshow": {
     "slide_type": "slide"
    }
   },
   "outputs": [],
   "source": [
    "postive_file = open('positive.txt', 'r').read()\n",
    "postive_list = postive_file.splitlines()\n"
   ]
  },
  {
   "cell_type": "markdown",
   "metadata": {
    "slideshow": {
     "slide_type": "slide"
    }
   },
   "source": [
    "Quiz: How many words are in the two lists combined?"
   ]
  },
  {
   "cell_type": "code",
   "execution_count": 70,
   "metadata": {
    "slideshow": {
     "slide_type": "slide"
    }
   },
   "outputs": [
    {
     "name": "stdout",
     "output_type": "stream",
     "text": [
      "6135\n"
     ]
    }
   ],
   "source": [
    "print (len(postive_list) + len(negative_list))"
   ]
  },
  {
   "cell_type": "markdown",
   "metadata": {
    "slideshow": {
     "slide_type": "slide"
    }
   },
   "source": [
    "A while back, I use the Twitter API to get some Tweets, or status updates, that mentioned President Obama."
   ]
  },
  {
   "cell_type": "code",
   "execution_count": 71,
   "metadata": {
    "slideshow": {
     "slide_type": "fragment"
    }
   },
   "outputs": [],
   "source": [
    "obama_tweets = open('obama_tweets.txt', 'r').read()\n",
    "obama_tweets = obama_tweets.splitlines()"
   ]
  },
  {
   "cell_type": "markdown",
   "metadata": {
    "slideshow": {
     "slide_type": "slide"
    }
   },
   "source": [
    "Avoid copy and paste text in file! Make a function! "
   ]
  },
  {
   "cell_type": "code",
   "execution_count": 72,
   "metadata": {
    "slideshow": {
     "slide_type": "fragment"
    }
   },
   "outputs": [],
   "source": [
    "def open_list(filename):\n",
    "    list_file = open(filename, 'r').read()\n",
    "    list_file = list_file.splitlines()\n",
    "    return list_file\n",
    "\n",
    "obama_tweets = open_list('obama_tweets.txt')"
   ]
  },
  {
   "cell_type": "markdown",
   "metadata": {
    "slideshow": {
     "slide_type": "slide"
    }
   },
   "source": [
    "More slicing"
   ]
  },
  {
   "cell_type": "code",
   "execution_count": 73,
   "metadata": {
    "slideshow": {
     "slide_type": "-"
    }
   },
   "outputs": [
    {
     "data": {
      "text/plain": [
       "['Obama has called the GOP budget social Darwinism. Nice try, but they believe in social creationism.',\n",
       " 'In his teen years, Obama has been known to use marijuana and cocaine.',\n",
       " 'IPA Congratulates President Barack Obama for Leadership Regarding JOBS Act: WASHINGTON, Apr 05, 2012 (BUSINESS W... http://t.co/8le3DC8E',\n",
       " 'RT @Professor_Why: #WhatsRomneyHiding - his connection to supporters of Critical Race Theory.... Oh wait, that was Obama, not Romney...',\n",
       " 'RT @wardollarshome: Obama has approved more targeted assassinations than any modern US prez; READ & RT: http://t.co/bfC4gbBW']"
      ]
     },
     "execution_count": 73,
     "metadata": {},
     "output_type": "execute_result"
    }
   ],
   "source": [
    "obama_tweets[:5]"
   ]
  },
  {
   "cell_type": "markdown",
   "metadata": {
    "slideshow": {
     "slide_type": "slide"
    }
   },
   "source": [
    "Some from the middle?"
   ]
  },
  {
   "cell_type": "code",
   "execution_count": 74,
   "metadata": {
    "slideshow": {
     "slide_type": "-"
    }
   },
   "outputs": [
    {
     "name": "stdout",
     "output_type": "stream",
     "text": [
      "[\"Barack Obama President Ronald Reagan's Initial Actions Project: President Ronald Reagan was also facing an econo... http://t.co/8Go8oCpf\", 'RT @TXGaryM: Yes #WHFail RT @jltho: This #WhatsRomneyHiding hashtag is entertaining. Is this another social media backfire from the Obama administration?', 'Barack Obama LONGBOARD Package CORE 7\" TRUCKS 76mm BIGFOOT WHEELS: The newest addition to the Bigfoot Collection... http://t.co/cnHRuUBZ']\n"
     ]
    }
   ],
   "source": [
    "print (obama_tweets[52:55])"
   ]
  },
  {
   "cell_type": "markdown",
   "metadata": {},
   "source": [
    "That's ugly."
   ]
  },
  {
   "cell_type": "code",
   "execution_count": 75,
   "metadata": {
    "slideshow": {
     "slide_type": "slide"
    }
   },
   "outputs": [
    {
     "name": "stdout",
     "output_type": "stream",
     "text": [
      "Barack Obama President Ronald Reagan's Initial Actions Project: President Ronald Reagan was also facing an econo... http://t.co/8Go8oCpf\n",
      "RT @TXGaryM: Yes #WHFail RT @jltho: This #WhatsRomneyHiding hashtag is entertaining. Is this another social media backfire from the Obama administration?\n",
      "Barack Obama LONGBOARD Package CORE 7\" TRUCKS 76mm BIGFOOT WHEELS: The newest addition to the Bigfoot Collection... http://t.co/cnHRuUBZ\n"
     ]
    }
   ],
   "source": [
    "for tweet in obama_tweets[52:55]:\n",
    "    print (tweet)"
   ]
  },
  {
   "cell_type": "markdown",
   "metadata": {
    "slideshow": {
     "slide_type": "slide"
    }
   },
   "source": [
    "Let's get going!!!"
   ]
  },
  {
   "cell_type": "code",
   "execution_count": 77,
   "metadata": {
    "slideshow": {
     "slide_type": "fragment"
    }
   },
   "outputs": [
    {
     "name": "stdout",
     "output_type": "stream",
     "text": [
      "Obama has called the GOP budget social Darwinism. Nice try, but they believe in social creationism.\n",
      "nice\n",
      "1 16\n",
      "In his teen years, Obama has been known to use marijuana and cocaine.\n",
      "0 13\n",
      "IPA Congratulates President Barack Obama for Leadership Regarding JOBS Act: WASHINGTON, Apr 05, 2012 (BUSINESS W... http://t.co/8le3DC8E\n",
      "0 17\n",
      "RT @Professor_Why: #WhatsRomneyHiding - his connection to supporters of Critical Race Theory.... Oh wait, that was Obama, not Romney...\n",
      "0 19\n",
      "RT @wardollarshome: Obama has approved more targeted assassinations than any modern US prez; READ & RT: http://t.co/bfC4gbBW\n",
      "modern\n",
      "1 17\n"
     ]
    }
   ],
   "source": [
    "#loop, but don't go through everything yet\n",
    "for tweet in obama_tweets[:5]:\n",
    "    print (tweet)\n",
    "    positive_counter=0\n",
    "    #Lower case everything\n",
    "    tweet_processed=tweet.lower()\n",
    "    \n",
    "    #split by ' ' into a list of words\n",
    "    words = tweet_processed.split()\n",
    "    \n",
    "    #Loop through each word in the tweet\n",
    "    for word in words:\n",
    "        clean_word = word.strip(punctuation)\n",
    "        \n",
    "        if clean_word in postive_list:\n",
    "            print (clean_word)\n",
    "            positive_counter=positive_counter+1\n",
    "    \n",
    "    print (positive_counter,len(words))"
   ]
  },
  {
   "cell_type": "markdown",
   "metadata": {
    "slideshow": {
     "slide_type": "slide"
    }
   },
   "source": [
    "Your turn. Add a negative_counter!"
   ]
  },
  {
   "cell_type": "code",
   "execution_count": 78,
   "metadata": {
    "slideshow": {
     "slide_type": "fragment"
    }
   },
   "outputs": [
    {
     "name": "stdout",
     "output_type": "stream",
     "text": [
      "1 0 16\n",
      "0 0 13\n",
      "0 0 17\n",
      "0 0 19\n",
      "1 0 17\n"
     ]
    }
   ],
   "source": [
    "#loop, but don't go through everything yet\n",
    "for tweet in obama_tweets[:5]:\n",
    "\n",
    "    positive_counter = 0\n",
    "    negative_counter = 0\n",
    "    #Lower case everything\n",
    "    tweet_processed = tweet.lower()\n",
    "    \n",
    "    #split by ' ' into a list of words\n",
    "    words = tweet_processed.split()\n",
    "    \n",
    "    #Loop through each word in the tweet\n",
    "    for word in words:\n",
    "        clean_word = word.strip(punctuation)\n",
    "        \n",
    "        if clean_word in postive_list:\n",
    "            positive_counter = positive_counter + 1\n",
    "        elif clean_word in negative_list:\n",
    "            negative_counter = negative_counter + 1\n",
    "    \n",
    "    print (positive_counter, negative_counter, len(words))"
   ]
  },
  {
   "cell_type": "markdown",
   "metadata": {
    "slideshow": {
     "slide_type": "slide"
    }
   },
   "source": [
    "Now let's get this out of Python"
   ]
  },
  {
   "cell_type": "code",
   "execution_count": 79,
   "metadata": {
    "slideshow": {
     "slide_type": "-"
    }
   },
   "outputs": [],
   "source": [
    "import csv"
   ]
  },
  {
   "cell_type": "code",
   "execution_count": 80,
   "metadata": {
    "slideshow": {
     "slide_type": "fragment"
    }
   },
   "outputs": [],
   "source": [
    "csv_file = open('tweet_sentiment.csv','w')\n",
    "csv_writer = csv.writer( csv_file )"
   ]
  },
  {
   "cell_type": "code",
   "execution_count": 81,
   "metadata": {
    "slideshow": {
     "slide_type": "slide"
    }
   },
   "outputs": [],
   "source": [
    "#loop, but don't go through everything yet\n",
    "for tweet in obama_tweets[:5]:\n",
    "\n",
    "    positive_counter = 0\n",
    "    negative_counter = 0\n",
    "    #Lower case everything\n",
    "    tweet_processed = tweet.lower()\n",
    "    \n",
    "    #split by ' ' into a list of words\n",
    "    words = tweet_processed.split()\n",
    "    \n",
    "    #Loop through each word in the tweet\n",
    "    for word in words:\n",
    "        clean_word = word.strip(punctuation)\n",
    "        \n",
    "        if clean_word in postive_list:\n",
    "            positive_counter = positive_counter + 1\n",
    "        elif clean_word in negative_list:\n",
    "            negative_counter = negative_counter + 1\n",
    "    \n",
    "    csv_writer.writerow( [positive_counter, negative_counter, len(words)] )\n",
    "\n",
    "csv_file.close()"
   ]
  },
  {
   "cell_type": "markdown",
   "metadata": {
    "slideshow": {
     "slide_type": "slide"
    }
   },
   "source": [
    "Let's look at the results. If `!cat` doesn't work, try `!type` which is the Windows equivalent."
   ]
  },
  {
   "cell_type": "code",
   "execution_count": 83,
   "metadata": {
    "slideshow": {
     "slide_type": "-"
    }
   },
   "outputs": [
    {
     "name": "stdout",
     "output_type": "stream",
     "text": [
      "1,0,16\n",
      "\n",
      "0,0,13\n",
      "\n",
      "0,0,17\n",
      "\n",
      "0,0,19\n",
      "\n",
      "1,0,17\n",
      "\n"
     ]
    }
   ],
   "source": [
    "#!cat tweet_sentiment.csv\n",
    "!type tweet_sentiment.csv"
   ]
  },
  {
   "cell_type": "markdown",
   "metadata": {},
   "source": [
    "We only wrote data for 5 tweets. Let's repeat the process and write tha data for all tweets"
   ]
  },
  {
   "cell_type": "code",
   "execution_count": 84,
   "metadata": {
    "slideshow": {
     "slide_type": "slide"
    }
   },
   "outputs": [],
   "source": [
    "csv_file = open('tweet_sentiment.csv','w')\n",
    "csv_writer = csv.writer( csv_file )\n",
    "\n",
    "#loop\n",
    "for tweet in obama_tweets[:]:\n",
    "    positive_counter = 0\n",
    "    negative_counter = 0\n",
    "    #Lower case everything\n",
    "    tweet_processed = tweet.lower()\n",
    "    \n",
    "    #split by ' ' into a list of words\n",
    "    words = tweet_processed.split()\n",
    "\n",
    "    #Loop through each word in the tweet\n",
    "    for word in words:\n",
    "        clean_word = word.strip(punctuation)\n",
    "        \n",
    "        if clean_word in postive_list:\n",
    "            positive_counter = positive_counter + 1\n",
    "            \n",
    "        if clean_word in negative_list:\n",
    "            negative_counter = negative_counter + 1\n",
    "\n",
    "    csv_writer.writerow( [ positive_counter, negative_counter, len(words)] )\n",
    "\n",
    "csv_file.close()"
   ]
  },
  {
   "cell_type": "markdown",
   "metadata": {
    "slideshow": {
     "slide_type": "slide"
    }
   },
   "source": [
    "The `csv` file can be read in other programs."
   ]
  },
  {
   "cell_type": "markdown",
   "metadata": {
    "slideshow": {
     "slide_type": "fragment"
    }
   },
   "source": [
    "![](files/stata7.png)\n",
    "\n",
    "That's not Python"
   ]
  },
  {
   "cell_type": "markdown",
   "metadata": {
    "slideshow": {
     "slide_type": "slide"
    }
   },
   "source": [
    "If you wanted to add a header, you could by putting \n",
    "\n",
    "`csv_writer.writerow( [ 'postive', 'negative', 'length'] )`\n",
    "\n",
    "before you start writing the values."
   ]
  },
  {
   "cell_type": "markdown",
   "metadata": {
    "slideshow": {
     "slide_type": "slide"
    }
   },
   "source": [
    "In case your wondering, I would probably make my code a little different"
   ]
  },
  {
   "cell_type": "code",
   "execution_count": 85,
   "metadata": {
    "slideshow": {
     "slide_type": "fragment"
    }
   },
   "outputs": [],
   "source": [
    "def clean_split(tweet):\n",
    "    ''' Take sentence and return cleaned list of words '''\n",
    "    return [word.strip(punctuation) for word in tweet.lower().split()]\n",
    "\n",
    "#turn the lists into sets so we can do intersections\n",
    "postive_set  = set(postive_list)\n",
    "negative_set = set(negative_list)\n",
    "\n",
    "\n",
    "sentiment = []\n",
    "for tweet in obama_tweets:\n",
    "    words = clean_split(tweet)\n",
    "    postive_counter =  len( postive_set.intersection(words) )\n",
    "    negative_counter = len( negative_set.intersection(words) )\n",
    "    sentiment.append ( [ postive_counter , negative_counter, len(words)] )\n",
    "\n",
    "with  open('tweet_sentiment_2.csv','w') as csv_file:\n",
    "    csv_writer = csv.writer( csv_file )\n",
    "    csv_writer.writerows(sentiment)"
   ]
  },
  {
   "cell_type": "markdown",
   "metadata": {},
   "source": [
    "#### Some takeaways\n",
    "\n",
    "1. That's most of what you need to know in Python. \n",
    "    1. List comprehension\n",
    "    1. Functions/Classes\n",
    "2. Start simple.\n",
    "    1.  Develop a solution for one case\n",
    "    2.  Scale up "
   ]
  },
  {
   "cell_type": "code",
   "execution_count": null,
   "metadata": {},
   "outputs": [],
   "source": []
  }
 ],
 "metadata": {
  "kernelspec": {
   "display_name": "Python 3",
   "language": "python",
   "name": "python3"
  },
  "language_info": {
   "codemirror_mode": {
    "name": "ipython",
    "version": 3
   },
   "file_extension": ".py",
   "mimetype": "text/x-python",
   "name": "python",
   "nbconvert_exporter": "python",
   "pygments_lexer": "ipython3",
   "version": "3.7.1"
  }
 },
 "nbformat": 4,
 "nbformat_minor": 1
}
