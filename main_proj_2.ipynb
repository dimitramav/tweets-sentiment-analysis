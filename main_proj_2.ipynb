{
 "cells": [
  {
   "cell_type": "code",
   "execution_count": 1,
   "metadata": {},
   "outputs": [
    {
     "name": "stdout",
     "output_type": "stream",
     "text": [
      "['gas by my house hit 339 im going to chapel hill on sat  😂', 'theo walcott is still shit fan watch rafa and johnny deal with him on saturday', 'its not that im a gsp fan i just hate nick diaz cant wait for february', 'iranian general says israels iron dome cant deal with their missiles keep talking like that and we may end up finding out', 'tehran mon amour obama tried to establish ties with the mullahs  via no barack obama  vote mitt romney', 'i sat through this whole movie just for harry and ron at christmas ohlawd 911', 'mashed out to niggas in paris in the club while in paris as cliche as it may sound weouthere', 'larry bird is ranked 4th alltime not including lebron or kobe just sayin']\n",
      "['arianagrande ari by ariana grande 80 full singer actress', 'ariana grande kiis fm yours truly cd listening party in burbank arianagrande', 'ariana grande white house easter egg roll in washington arianagrande', 'cd musics ariana grande sweet like candy 34 oz 100 ml sealed in box 100 authenic new', 'side to side   sidetoside arianagrande musically comunidadgay lgbt  lotb ', 'hairspray live previews at the macys thanksgiving day parade arianagrande televisionnbc', 'lindsaylohan is feeling thankful after blasting arianagrande for wearing toomuch ', 'i hate her but i love her songs dammit arianagrande']\n"
     ]
    }
   ],
   "source": [
    "#######################################################\n",
    "##### STRIP TWEET #####################################\n",
    "#######################################################\n",
    "\n",
    "#import pandas as pd\n",
    "#df = pd.read_csv(\"train2017.tsv\", sep='\\t', header=None)\n",
    "#df[2].tolist() #sentiments\n",
    "#corpus = df[3].tolist()\n",
    "\n",
    "import pandas as pd\n",
    "import re\n",
    "import nltk\n",
    "import string\n",
    "import pickle\n",
    "#READ TRAINING SET\n",
    "df = pd.read_csv(\"small_train.tsv\", sep='\\t', header=None)\n",
    "#df[2].tolist() #sentiments\n",
    "train_corpus = df[3].tolist()\n",
    "\n",
    "#READ TEST SET\n",
    "df = pd.read_csv(\"small_test.tsv\", sep='\\t', header=None)\n",
    "#df[2].tolist() #sentiments\n",
    "test_corpus = df[3].tolist()\n",
    "\n",
    "translate_table = dict((ord(char), None) for char in string.punctuation)   \n",
    "\n",
    "def clean_corpus(corpus):\n",
    "    clean_corpus = []\n",
    "    for tweet in corpus:\n",
    "        tweet = re.sub(r\"http\\S+\", \"\", tweet) #remove link\n",
    "        tweet = ' '.join([word for word in tweet.split(' ')  if not word.startswith('@')])\n",
    "        tweet = tweet.translate(translate_table) #remove symbols \n",
    "        tweet = tweet.lower()\n",
    "        clean_corpus.append(tweet)\n",
    "    return clean_corpus\n",
    "    \n",
    "clean_train_corpus = clean_corpus(train_corpus)\n",
    "clean_test_corpus = clean_corpus(test_corpus)\n",
    "\n",
    "print(clean_train_corpus)\n",
    "print(clean_test_corpus)\n"
   ]
  },
  {
   "cell_type": "code",
   "execution_count": 2,
   "metadata": {},
   "outputs": [
    {
     "name": "stdout",
     "output_type": "stream",
     "text": [
      "[['gas', 'by', 'my', 'house', 'hit', '339', 'im', 'going', 'to', 'chapel', 'hill', 'on', 'sat', '😂'], ['theo', 'walcott', 'is', 'still', 'shit', 'fan', 'watch', 'rafa', 'and', 'johnny', 'deal', 'with', 'him', 'on', 'saturday'], ['its', 'not', 'that', 'im', 'a', 'gsp', 'fan', 'i', 'just', 'hate', 'nick', 'diaz', 'cant', 'wait', 'for', 'february'], ['iranian', 'general', 'says', 'israels', 'iron', 'dome', 'cant', 'deal', 'with', 'their', 'missiles', 'keep', 'talking', 'like', 'that', 'and', 'we', 'may', 'end', 'up', 'finding', 'out'], ['tehran', 'mon', 'amour', 'obama', 'tried', 'to', 'establish', 'ties', 'with', 'the', 'mullahs', 'via', 'no', 'barack', 'obama', 'vote', 'mitt', 'romney'], ['i', 'sat', 'through', 'this', 'whole', 'movie', 'just', 'for', 'harry', 'and', 'ron', 'at', 'christmas', 'ohlawd', '911'], ['mashed', 'out', 'to', 'niggas', 'in', 'paris', 'in', 'the', 'club', 'while', 'in', 'paris', 'as', 'cliche', 'as', 'it', 'may', 'sound', 'weouthere'], ['larry', 'bird', 'is', 'ranked', '4th', 'alltime', 'not', 'including', 'lebron', 'or', 'kobe', 'just', 'sayin']]\n",
      "[['arianagrande', 'ari', 'by', 'ariana', 'grande', '80', 'full', 'singer', 'actress'], ['ariana', 'grande', 'kiis', 'fm', 'yours', 'truly', 'cd', 'listening', 'party', 'in', 'burbank', 'arianagrande'], ['ariana', 'grande', 'white', 'house', 'easter', 'egg', 'roll', 'in', 'washington', 'arianagrande'], ['cd', 'musics', 'ariana', 'grande', 'sweet', 'like', 'candy', '34', 'oz', '100', 'ml', 'sealed', 'in', 'box', '100', 'authenic', 'new'], ['side', 'to', 'side', 'sidetoside', 'arianagrande', 'musically', 'comunidadgay', 'lgbt', 'lotb'], ['hairspray', 'live', 'previews', 'at', 'the', 'macys', 'thanksgiving', 'day', 'parade', 'arianagrande', 'televisionnbc'], ['lindsaylohan', 'is', 'feeling', 'thankful', 'after', 'blasting', 'arianagrande', 'for', 'wearing', 'toomuch'], ['i', 'hate', 'her', 'but', 'i', 'love', 'her', 'songs', 'dammit', 'arianagrande']]\n"
     ]
    }
   ],
   "source": [
    "#######################################################\n",
    "##### TOKENIZATION ####################################\n",
    "#######################################################\n",
    "\n",
    "from nltk import word_tokenize\n",
    "\n",
    "def tokenize(clean_corpus):\n",
    "    tokens = []\n",
    "    for tweet in clean_corpus:\n",
    "        token = []\n",
    "        token = word_tokenize(tweet)\n",
    "        tokens.append(token)\n",
    "    return tokens\n",
    "\n",
    "train_tokens = tokenize(clean_train_corpus)\n",
    "test_tokens = tokenize(clean_test_corpus)\n",
    "\n",
    "    \n",
    "print(train_tokens)\n",
    "print(test_tokens)"
   ]
  },
  {
   "cell_type": "code",
   "execution_count": 3,
   "metadata": {},
   "outputs": [
    {
     "name": "stdout",
     "output_type": "stream",
     "text": [
      "[['gas', 'by', 'my', 'house', 'hit', '339', 'im', 'go', 'to', 'chapel', 'hill', 'on', 'sat', '😂'], ['theo', 'walcott', 'be', 'still', 'shit', 'fan', 'watch', 'rafa', 'and', 'johnny', 'deal', 'with', 'him', 'on', 'saturday'], ['it', 'not', 'that', 'im', 'a', 'gsp', 'fan', 'i', 'just', 'hate', 'nick', 'diaz', 'cant', 'wait', 'for', 'february'], ['iranian', 'general', 'say', 'israel', 'iron', 'dome', 'cant', 'deal', 'with', 'their', 'missile', 'keep', 'talk', 'like', 'that', 'and', 'we', 'may', 'end', 'up', 'find', 'out'], ['tehran', 'mon', 'amour', 'obama', 'try', 'to', 'establish', 'tie', 'with', 'the', 'mullah', 'via', 'no', 'barack', 'obama', 'vote', 'mitt', 'romney'], ['i', 'sat', 'through', 'this', 'whole', 'movie', 'just', 'for', 'harry', 'and', 'ron', 'at', 'christmas', 'ohlawd', '911'], ['mash', 'out', 'to', 'nigga', 'in', 'paris', 'in', 'the', 'club', 'while', 'in', 'paris', 'a', 'cliche', 'a', 'it', 'may', 'sound', 'weouthere'], ['larry', 'bird', 'be', 'ranked', '4th', 'alltime', 'not', 'include', 'lebron', 'or', 'kobe', 'just', 'sayin']]\n",
      "[['arianagrande', 'ari', 'by', 'ariana', 'grande', '80', 'full', 'singer', 'actress'], ['ariana', 'grande', 'kiis', 'fm', 'yours', 'truly', 'cd', 'listen', 'party', 'in', 'burbank', 'arianagrande'], ['ariana', 'grande', 'white', 'house', 'easter', 'egg', 'roll', 'in', 'washington', 'arianagrande'], ['cd', 'music', 'ariana', 'grande', 'sweet', 'like', 'candy', '34', 'oz', '100', 'ml', 'seal', 'in', 'box', '100', 'authenic', 'new'], ['side', 'to', 'side', 'sidetoside', 'arianagrande', 'musically', 'comunidadgay', 'lgbt', 'lotb'], ['hairspray', 'live', 'preview', 'at', 'the', 'macys', 'thanksgiving', 'day', 'parade', 'arianagrande', 'televisionnbc'], ['lindsaylohan', 'be', 'feel', 'thankful', 'after', 'blasting', 'arianagrande', 'for', 'wear', 'toomuch'], ['i', 'hate', 'her', 'but', 'i', 'love', 'her', 'song', 'dammit', 'arianagrande']]\n"
     ]
    }
   ],
   "source": [
    "from nltk import pos_tag\n",
    "\n",
    "from nltk.corpus import wordnet\n",
    "from nltk.stem import  WordNetLemmatizer\n",
    "# Lemmatize with POS Tag\n",
    "\n",
    "def get_wordnet_pos(word):\n",
    "    \"\"\"Map POS tag to first character lemmatize() accepts\"\"\"\n",
    "    tag = pos_tag([word])[0][1][0].upper()\n",
    "    tag_dict = {\"J\": wordnet.ADJ,\n",
    "                \"N\": wordnet.NOUN,\n",
    "                \"V\": wordnet.VERB,\n",
    "                \"R\": wordnet.ADV}\n",
    "\n",
    "    return tag_dict.get(tag, wordnet.NOUN)\n",
    "\n",
    "lemmatizer = WordNetLemmatizer()\n",
    "\n",
    "def lemmatize(tokens):\n",
    "    tweets = []\n",
    "    for token_list in tokens:\n",
    "        lemmatized = []\n",
    "        for word in token_list:\n",
    "            lemmatized.append(lemmatizer.lemmatize(word, get_wordnet_pos(word)))\n",
    "        tweets.append(lemmatized)\n",
    "    return tweets\n",
    "    \n",
    "train_tweets = lemmatize(train_tokens)\n",
    "test_tweets = lemmatize(test_tokens)\n",
    "\n",
    "print(train_tweets)\n",
    "print(test_tweets)"
   ]
  },
  {
   "cell_type": "code",
   "execution_count": 4,
   "metadata": {},
   "outputs": [
    {
     "name": "stdout",
     "output_type": "stream",
     "text": [
      "['gas by my house hit 339 im go to chapel hill on sat 😂', 'theo walcott be still shit fan watch rafa and johnny deal with him on saturday', 'it not that im a gsp fan i just hate nick diaz cant wait for february', 'iranian general say israel iron dome cant deal with their missile keep talk like that and we may end up find out', 'tehran mon amour obama try to establish tie with the mullah via no barack obama vote mitt romney', 'i sat through this whole movie just for harry and ron at christmas ohlawd 911', 'mash out to nigga in paris in the club while in paris a cliche a it may sound weouthere', 'larry bird be ranked 4th alltime not include lebron or kobe just sayin']\n",
      "['arianagrande ari by ariana grande 80 full singer actress', 'ariana grande kiis fm yours truly cd listen party in burbank arianagrande', 'ariana grande white house easter egg roll in washington arianagrande', 'cd music ariana grande sweet like candy 34 oz 100 ml seal in box 100 authenic new', 'side to side sidetoside arianagrande musically comunidadgay lgbt lotb', 'hairspray live preview at the macys thanksgiving day parade arianagrande televisionnbc', 'lindsaylohan be feel thankful after blasting arianagrande for wear toomuch', 'i hate her but i love her song dammit arianagrande']\n"
     ]
    }
   ],
   "source": [
    "final_train_corpus = []\n",
    "for tweet in train_tweets:\n",
    "    final_train_corpus.append(\" \".join(str(word) for word in tweet))\n",
    "\n",
    "final_test_corpus = []\n",
    "for tweet in test_tweets:\n",
    "    final_test_corpus.append(\" \".join(str(word) for word in tweet))\n",
    "\n",
    "print(final_train_corpus)\n",
    "print(final_test_corpus)"
   ]
  },
  {
   "cell_type": "code",
   "execution_count": 5,
   "metadata": {},
   "outputs": [],
   "source": [
    "#BAG-OF-WORDS VECTORIZATION\n",
    "from sklearn.feature_extraction.text import CountVectorizer\n",
    "\n",
    "vectorizer = CountVectorizer()\n",
    "X_BOW_train = vectorizer.fit_transform(final_train_corpus)\n",
    "with open('X_BOW_train.pickle','wb') as handle: \n",
    "    pickle.dump(X_BOW_train.toarray(),handle,protocol = pickle.HIGHEST_PROTOCOL)\n",
    "X_BOW_test = vectorizer.transform(final_test_corpus)\n",
    "with open('X_BOW_test.pickle','wb') as handle: \n",
    "    pickle.dump(X_BOW_test.toarray(),handle,protocol = pickle.HIGHEST_PROTOCOL)\n",
    "#print(vectorizer.get_feature_names())\n",
    "#print(X.toarray()[0])\n",
    "#print(X_BOW.toarray())\n"
   ]
  },
  {
   "cell_type": "code",
   "execution_count": 6,
   "metadata": {
    "scrolled": false
   },
   "outputs": [],
   "source": [
    "#TF-IDF VECTORIZATION\n",
    "from sklearn.feature_extraction.text import TfidfVectorizer\n",
    "vectorizer = TfidfVectorizer()\n",
    "X_TFIDF_train = vectorizer.fit_transform(final_train_corpus)\n",
    "with open('X_TFIDF_train.pickle','wb') as handle: \n",
    "    pickle.dump(X_TFIDF_train.toarray(),handle,protocol = pickle.HIGHEST_PROTOCOL)\n",
    "X_TFIDF_test = vectorizer.transform(final_test_corpus)\n",
    "with open('X_TFIDF_test.pickle','wb') as handle: \n",
    "    pickle.dump(X_TFIDF_test.toarray(),handle,protocol = pickle.HIGHEST_PROTOCOL)\n",
    "#print(X_TFIDF.toarray())\n"
   ]
  },
  {
   "cell_type": "code",
   "execution_count": 7,
   "metadata": {},
   "outputs": [
    {
     "name": "stdout",
     "output_type": "stream",
     "text": [
      "[ 8.6550339e-04  3.7666331e-03 -2.8304749e-03  4.8740273e-03\n",
      " -4.6850224e-03 -1.3770612e-03  4.0721167e-03 -1.0661335e-03\n",
      "  2.9324458e-03  1.6510003e-03  4.7233524e-03 -1.0090447e-04\n",
      "  4.7558676e-03 -1.6884842e-03 -2.7878843e-03  3.1515592e-04\n",
      " -3.8524542e-03 -3.0449566e-03 -1.7987649e-03 -3.0707258e-03\n",
      " -2.2889639e-03 -5.1669223e-04 -4.3611936e-03  1.4329320e-03\n",
      " -1.8364601e-03  2.2451638e-03  4.0119304e-03  2.5372619e-03\n",
      "  3.7916503e-03  2.2004209e-05 -2.3847730e-03 -3.6203216e-03\n",
      "  4.1954066e-03 -4.0809349e-03  6.7968300e-05  2.5232981e-03\n",
      " -1.3606463e-03 -4.5724846e-03 -4.2750710e-03 -1.2212028e-03\n",
      "  4.0177256e-03 -4.3929047e-03  4.2277412e-03 -1.3191985e-03\n",
      " -4.6297037e-03  1.0275571e-03  2.9392831e-03  3.6987986e-03\n",
      "  2.6837431e-03 -2.2856514e-03  3.6893978e-03 -8.5424643e-04\n",
      "  1.8517004e-03 -1.7326403e-03  4.7195428e-03  2.5462734e-03\n",
      "  3.3437405e-03 -1.2904737e-03  2.7567529e-04 -1.0356794e-03\n",
      "  7.9813710e-04 -2.4833248e-03  7.0597121e-04  1.7828703e-03\n",
      " -2.4351141e-04 -4.5297798e-03 -2.1504762e-03  1.3286478e-03\n",
      "  1.7880737e-03 -7.5320125e-04  4.8122387e-03 -4.9861530e-03\n",
      " -4.6676877e-03  1.4002983e-03 -9.2995487e-04 -3.6074633e-03\n",
      "  5.6672870e-04 -1.0512174e-03 -3.9155241e-03  2.0706574e-03\n",
      " -5.8249640e-04 -6.9704157e-04  3.6134750e-03  4.8548836e-04\n",
      "  1.4945149e-03 -3.4384541e-03 -2.3455180e-03  4.4014263e-03\n",
      " -8.1270479e-04  1.0639138e-03 -1.7685049e-03 -3.2246758e-03\n",
      " -2.3868089e-03  1.0334481e-03 -4.9394979e-03 -3.5121602e-03\n",
      " -2.7573293e-03 -4.1215187e-03  1.0856632e-03  3.9118119e-03]\n"
     ]
    },
    {
     "name": "stderr",
     "output_type": "stream",
     "text": [
      "/home/dimitra/anaconda3/lib/python3.7/site-packages/ipykernel_launcher.py:9: DeprecationWarning: Call to deprecated `__getitem__` (Method will be removed in 4.0.0, use self.wv.__getitem__() instead).\n",
      "  if __name__ == '__main__':\n"
     ]
    }
   ],
   "source": [
    "#we have 3 options: word2vec, word2vec in sklearn, doc2vec\n",
    "from gensim.test.utils import common_texts\n",
    "\n",
    "#IMPORT WORD2VEC\n",
    "from gensim.models import Word2Vec\n",
    "nested_corpus = [final_train_corpus[i:i+1] for i in range(0, len(final_train_corpus), 1)]\n",
    "model = Word2Vec(train_tokens, size=100, window=5, min_count=1, workers=4) #size of vector is 100\n",
    "model.train(train_tokens, total_examples=model.corpus_count,epochs=model.epochs)  # train word vectors\n",
    "print(model['gas'])\n",
    "\n",
    "#IMPORT WORD2VEC LIBRARY AVAILABLE IN SKLEARN\n",
    "\n",
    "#from gensim.sklearn_api import W2VTransformer\n",
    "#total = sum(tokens,[])\n",
    "#vectorizer = W2VTransformer(size=10, min_count=1, seed=1)\n",
    "#print(corpus)\n",
    "#X_embeddings = vectorizer.fit(total).transform(tokens)\n",
    "\n"
   ]
  },
  {
   "cell_type": "code",
   "execution_count": 8,
   "metadata": {},
   "outputs": [
    {
     "name": "stderr",
     "output_type": "stream",
     "text": [
      "/home/dimitra/anaconda3/lib/python3.7/site-packages/gensim/models/doc2vec.py:366: UserWarning: The parameter `size` is deprecated, will be removed in 4.0.0, use `vector_size` instead.\n",
      "  warnings.warn(\"The parameter `size` is deprecated, will be removed in 4.0.0, use `vector_size` instead.\")\n",
      "/home/dimitra/anaconda3/lib/python3.7/site-packages/ipykernel_launcher.py:26: DeprecationWarning: Call to deprecated `iter` (Attribute will be removed in 4.0.0, use self.epochs instead).\n"
     ]
    },
    {
     "name": "stdout",
     "output_type": "stream",
     "text": [
      "[TaggedDocument(words=['gas', 'by', 'my', 'house', 'hit', '339', 'im', 'go', 'to', 'chapel', 'hill', 'on', 'sat', '😂'], tags=['0']), TaggedDocument(words=['theo', 'walcott', 'be', 'still', 'shit', 'fan', 'watch', 'rafa', 'and', 'johnny', 'deal', 'with', 'him', 'on', 'saturday'], tags=['1']), TaggedDocument(words=['it', 'not', 'that', 'im', 'a', 'gsp', 'fan', 'i', 'just', 'hate', 'nick', 'diaz', 'cant', 'wait', 'for', 'february'], tags=['2']), TaggedDocument(words=['iranian', 'general', 'say', 'israel', 'iron', 'dome', 'cant', 'deal', 'with', 'their', 'missile', 'keep', 'talk', 'like', 'that', 'and', 'we', 'may', 'end', 'up', 'find', 'out'], tags=['3']), TaggedDocument(words=['tehran', 'mon', 'amour', 'obama', 'try', 'to', 'establish', 'tie', 'with', 'the', 'mullah', 'via', 'no', 'barack', 'obama', 'vote', 'mitt', 'romney'], tags=['4']), TaggedDocument(words=['i', 'sat', 'through', 'this', 'whole', 'movie', 'just', 'for', 'harry', 'and', 'ron', 'at', 'christmas', 'ohlawd', '911'], tags=['5']), TaggedDocument(words=['mash', 'out', 'to', 'nigga', 'in', 'paris', 'in', 'the', 'club', 'while', 'in', 'paris', 'a', 'cliche', 'a', 'it', 'may', 'sound', 'weouthere'], tags=['6']), TaggedDocument(words=['larry', 'bird', 'be', 'ranked', '4th', 'alltime', 'not', 'include', 'lebron', 'or', 'kobe', 'just', 'sayin'], tags=['7'])]\n",
      "[TaggedDocument(words=['arianagrande', 'ari', 'by', 'ariana', 'grande', '80', 'full', 'singer', 'actress'], tags=['0']), TaggedDocument(words=['ariana', 'grande', 'kiis', 'fm', 'yours', 'truly', 'cd', 'listen', 'party', 'in', 'burbank', 'arianagrande'], tags=['1']), TaggedDocument(words=['ariana', 'grande', 'white', 'house', 'easter', 'egg', 'roll', 'in', 'washington', 'arianagrande'], tags=['2']), TaggedDocument(words=['cd', 'music', 'ariana', 'grande', 'sweet', 'like', 'candy', '34', 'oz', '100', 'ml', 'seal', 'in', 'box', '100', 'authenic', 'new'], tags=['3']), TaggedDocument(words=['side', 'to', 'side', 'sidetoside', 'arianagrande', 'musically', 'comunidadgay', 'lgbt', 'lotb'], tags=['4']), TaggedDocument(words=['hairspray', 'live', 'preview', 'at', 'the', 'macys', 'thanksgiving', 'day', 'parade', 'arianagrande', 'televisionnbc'], tags=['5']), TaggedDocument(words=['lindsaylohan', 'be', 'feel', 'thankful', 'after', 'blasting', 'arianagrande', 'for', 'wear', 'toomuch'], tags=['6']), TaggedDocument(words=['i', 'hate', 'her', 'but', 'i', 'love', 'her', 'song', 'dammit', 'arianagrande'], tags=['7'])]\n"
     ]
    }
   ],
   "source": [
    "#Doc2vec is equal with word2vec but is more appropriate for phrases (vectorize phrases instead of words). I.e \n",
    "#1.Manos leaves the office every day at 18:00 to catch his train\n",
    "#2. This season is called Fall, because leaves fall from the trees.\n",
    "#In this way we can capture the difference between the same word used in a different context. For example we now have a\n",
    "#different representation of the word “leaves” in the above two sentences\n",
    "\n",
    "#IMPORTANT: parameteres in my case is random, we have to pay attention to select the right ones\n",
    "\n",
    "#Import all the dependencies\n",
    "from gensim.models.doc2vec import Doc2Vec, TaggedDocument\n",
    "from nltk.tokenize import word_tokenize\n",
    "\n",
    "def word_embeddings(final_corpus):\n",
    "    tagged_data = [TaggedDocument(words=word_tokenize(_d.lower()), tags=[str(i)]) for i, _d in enumerate(final_corpus)]\n",
    "    print(tagged_data)\n",
    "    model = Doc2Vec(size=200,\n",
    "                min_alpha=0.00025,\n",
    "                min_count=1,\n",
    "                dm =1)\n",
    "  \n",
    "    model.build_vocab(tagged_data)\n",
    "    max_epoch = 20\n",
    "    for epoch in range(max_epoch):\n",
    "        model.train(tagged_data,\n",
    "                total_examples=model.corpus_count,\n",
    "                epochs=model.iter)\n",
    "    X_embeddings_array = model.docvecs\n",
    "    return X_embeddings_array\n",
    "\n",
    "#convert array to list\n",
    "\n",
    "X_embeddings_array_train = word_embeddings(final_train_corpus)\n",
    "X_embeddings_array_test = word_embeddings(final_test_corpus)\n",
    "\n",
    "X_embeddings_train=[]\n",
    "for i in range(len(X_embeddings_array_train)):\n",
    "    X_embeddings_train.append(X_embeddings_array_train[i].tolist())\n",
    "    \n",
    "with open('X_embeddings_train.pickle','wb') as handle: \n",
    "    pickle.dump(X_embeddings_train,handle,protocol = pickle.HIGHEST_PROTOCOL)\n",
    "    \n",
    "X_embeddings_test=[]\n",
    "for i in range(len(X_embeddings_array_test)):\n",
    "    X_embeddings_test.append(X_embeddings_array_test[i].tolist())\n",
    "    \n",
    "with open('X_embeddings_test.pickle','wb') as handle: \n",
    "    pickle.dump(X_embeddings_test,handle,protocol = pickle.HIGHEST_PROTOCOL)"
   ]
  },
  {
   "cell_type": "code",
   "execution_count": 9,
   "metadata": {},
   "outputs": [],
   "source": [
    "# #Add characteristics to embeddings\n",
    "# import pandas as pd\n",
    "# import csv\n",
    "# lexica =[pd.read_csv(\"lexica/affin/affin.txt\", sep='\\t', header=None),\n",
    "#               pd.read_csv(\"lexica/emotweet/valence_tweet.txt\", sep='\\t', header=None),\n",
    "#               pd.read_csv(\"lexica/generic/generic.txt\", sep='\\t', engine=\"python\" ,quoting=csv.QUOTE_NONE,header=None),\n",
    "#               pd.read_csv(\"lexica/nrc/val.txt\", sep='\\t', engine=\"python\",quoting=csv.QUOTE_NONE, header=None),\n",
    "#               pd.read_csv(\"lexica/nrctag/val.txt\", sep='\\t', header=None)]\n",
    "\n",
    "# def mean_valence(tokens,X_embeddings): #mean valence of each tweet\n",
    "#     for tweet in range(len(train_tokens)):   #for each tweet\n",
    "#         for df in lexica:         #for each lexicon\n",
    "#             if not df[df[0].isin(tokens[tweet])].empty: #search for tweets' tokens in lexicon\n",
    "#                 average_tweet_sentiment = df[df[0].isin(tokens[tweet])][1].mean() #get average sentiment for this tweet\n",
    "#                 X_embeddings[tweet].append(average_tweet_sentiment)\n",
    "#             else:\n",
    "#                  X_embeddings[tweet].append(0)   #if is zero should we add mean or it will affect the vector\n",
    "#     return X_embeddings\n",
    "\n",
    "# def min_max_valence(tokens,X_embeddings): #min and max valence of each tweet\n",
    "#     for tweet in range(len(tokens)):   #for each tweet\n",
    "#         for df in lexica:         #for each lexicon\n",
    "#             if not df[df[0].isin(tokens[tweet])].empty: #search for tweets' tokens in lexicon\n",
    "#                 max_valence = df[df[0].isin(tokens[tweet])][1].max() #get average sentiment for this tweet\n",
    "#                 min_valence = df[df[0].isin(tokens[tweet])][1].min()\n",
    "#                 X_embeddings[tweet].append(max_valence)\n",
    "#                 X_embeddings[tweet].append(min_valence)\n",
    "#             else:  # add two values to keep all the vectors the same size\n",
    "#                 X_embeddings[tweet].append(0)   #if is zero should we add mean or it will affect the vector\n",
    "#                 X_embeddings[tweet].append(0)   #if is zero should we add mean or it will affect the vector\n",
    "#     return X_embeddings\n",
    "\n",
    "# def mean_for_two(tokens,X_embeddings):#mean valence for each half of a tweet\n",
    "#     for tweet in range(len(train_tokens)):   #for each tweet\n",
    "#         entire_tweet = train_tokens[tweet]\n",
    "#         first_half= entire_tweet[:len(entire_tweet)//2]\n",
    "#         second_half= entire_tweet[len(entire_tweet)//2:]\n",
    "#         for df in lexica:         #for each lexicon\n",
    "#             if not df[df[0].isin(first_half)].empty: #search for tweets' tokens in lexicon\n",
    "#                 average_tweet_sentiment = df[df[0].isin(first_half)][1].mean() #get average sentiment for this tweet\n",
    "#                 X_embeddings[tweet].append(average_tweet_sentiment)\n",
    "#             else:  # add two values to keep all the vectors the same size\n",
    "#                 X_embeddings[tweet].append(0)   #if is zero should we add mean or it will affect the vector\n",
    "#             if not df[df[0].isin(second_half)].empty: #search for tweets' tokens in lexicon\n",
    "#                 average_tweet_sentiment = df[df[0].isin(second_half)][1].mean() #get average sentiment for this tweet\n",
    "#                 X_embeddings[tweet].append(average_tweet_sentiment)\n",
    "#             else:  # add two values to keep all the vectors the same size\n",
    "#                 X_embeddings[tweet].append(0)   #if is zero should we add mean or it will affect the vector\n",
    "#     return X_embeddings\n",
    "\n",
    "# X_embeddings_train = mean_valence(train_tokens,X_embeddings_train)\n",
    "# X_embeddings_test = mean_valence(test_tokens,X_embeddings_test)\n",
    "# X_embeddings_train = min_max_valence(train_tokens,X_embeddings_train)\n",
    "# X_embeddings_test = min_max_valence(test_tokens,X_embeddings_test)\n",
    "# X_embeddings_train = mean_for_two(train_tokens,X_embeddings_train)\n",
    "# X_embeddings_test = mean_for_two(test_tokens,X_embeddings_test)\n",
    "# #length of each tweet               \n",
    "# for tweet in range(len(train_tokens)):   #for each tweet\n",
    "#     X_embeddings_train[tweet].append(len(train_tokens[tweet]))\n",
    "\n",
    "# #length of each tweet               \n",
    "# for tweet in range(len(test_tokens)):   #for each tweet\n",
    "#     X_embeddings_test[tweet].append(len(test_tokens[tweet]))\n",
    "  \n",
    "            \n",
    "# for i in range(len(X_embeddings_train)):\n",
    "#     print(X_embeddings_train[i])\n",
    "\n",
    "# for i in range(len(X_embeddings_train)):\n",
    "#     print(X_embeddings_test[i])\n",
    "#sentiment_sum = 0\n",
    "#words_found = 0\n",
    "#for j in range(len(tokens[i])):\n",
    "#    if not df[df[0] == tokens[i][j]].empty: #search for tweets' tokens in lexicon\n",
    "#        sentiment_sum += df[df[0] == tokens[i][j]].iloc[0][1] #get sentiment\n",
    "#        words_found++\n",
    "        \n",
    "\n",
    "        \n"
   ]
  },
  {
   "cell_type": "code",
   "execution_count": 10,
   "metadata": {},
   "outputs": [],
   "source": [
    "####################\n",
    "#CONSTRUCT Y_LABELS#\n",
    "####################\n",
    "\n",
    "df = pd.read_csv(\"small_train.tsv\", sep='\\t', header=None)\n",
    "y_labels = df[2].tolist() #sentiments\n",
    "\n",
    "\n",
    "for n, value in enumerate(y_labels):\n",
    "    if value == \"positive\":\n",
    "        y_labels[n] = 2\n",
    "    elif value ==\"negative\":\n",
    "        y_labels[n] = 0\n",
    "    else:\n",
    "        y_labels[n] =1\n",
    "\n"
   ]
  },
  {
   "cell_type": "code",
   "execution_count": 11,
   "metadata": {},
   "outputs": [],
   "source": [
    "#LOAD PICKLE FILES\n",
    "with open('X_embeddings_train.pickle','rb') as handle: \n",
    "    X_embeddings_train = pickle.load(handle)\n",
    "with open('X_embeddings_test.pickle','rb') as handle: \n",
    "    X_embeddings_test = pickle.load(handle)\n",
    "with open('X_TFIDF_train.pickle','rb') as handle: \n",
    "    X_TFIDF_train = pickle.load(handle)\n",
    "with open('X_TFIDF_test.pickle','rb') as handle: \n",
    "    X_TFIDF_test = pickle.load(handle)\n",
    "with open('X_BOW_train.pickle','rb') as handle: \n",
    "    X_BOW_train = pickle.load(handle)\n",
    "with open('X_BOW_test.pickle','rb') as handle: \n",
    "    X_BOW_test = pickle.load(handle)"
   ]
  },
  {
   "cell_type": "code",
   "execution_count": 12,
   "metadata": {},
   "outputs": [
    {
     "name": "stdout",
     "output_type": "stream",
     "text": [
      "8\n",
      "8\n",
      "0.375\n",
      "0.25\n",
      "0.625\n"
     ]
    }
   ],
   "source": [
    "#################\n",
    "#KNN CLASSIFIER##\n",
    "#################\n",
    "\n",
    "from sklearn.neighbors import KNeighborsClassifier\n",
    "from sklearn import metrics\n",
    "\n",
    "print(len(X_BOW_train))\n",
    "print(len(y_labels))\n",
    "knn = KNeighborsClassifier(n_neighbors=1)\n",
    "knn.fit(X_BOW_train , y_labels)\n",
    "y_pred = knn.predict(X_BOW_test)\n",
    "print(metrics.accuracy_score(y_labels, y_pred))\n",
    "\n",
    "knn.fit(X_TFIDF_train , y_labels)\n",
    "y_pred = knn.predict(X_TFIDF_test)\n",
    "print(metrics.accuracy_score(y_labels, y_pred))\n",
    "\n",
    "knn.fit(X_embeddings_train , y_labels)\n",
    "y_pred = knn.predict(X_embeddings_test)\n",
    "print(metrics.accuracy_score(y_labels, y_pred))\n"
   ]
  },
  {
   "cell_type": "code",
   "execution_count": 13,
   "metadata": {},
   "outputs": [
    {
     "ename": "AttributeError",
     "evalue": "'numpy.ndarray' object has no attribute 'toarray'",
     "output_type": "error",
     "traceback": [
      "\u001b[0;31m---------------------------------------------------------------------------\u001b[0m",
      "\u001b[0;31mAttributeError\u001b[0m                            Traceback (most recent call last)",
      "\u001b[0;32m<ipython-input-13-510e109c6e50>\u001b[0m in \u001b[0;36m<module>\u001b[0;34m\u001b[0m\n\u001b[1;32m      6\u001b[0m \u001b[0;32mfrom\u001b[0m \u001b[0msklearn\u001b[0m \u001b[0;32mimport\u001b[0m \u001b[0mmetrics\u001b[0m\u001b[0;34m\u001b[0m\u001b[0;34m\u001b[0m\u001b[0m\n\u001b[1;32m      7\u001b[0m \u001b[0;34m\u001b[0m\u001b[0m\n\u001b[0;32m----> 8\u001b[0;31m \u001b[0mprint\u001b[0m\u001b[0;34m(\u001b[0m\u001b[0mlen\u001b[0m\u001b[0;34m(\u001b[0m\u001b[0mX_BOW_train\u001b[0m\u001b[0;34m.\u001b[0m\u001b[0mtoarray\u001b[0m\u001b[0;34m(\u001b[0m\u001b[0;34m)\u001b[0m\u001b[0;34m)\u001b[0m\u001b[0;34m)\u001b[0m\u001b[0;34m\u001b[0m\u001b[0;34m\u001b[0m\u001b[0m\n\u001b[0m\u001b[1;32m      9\u001b[0m \u001b[0mprint\u001b[0m\u001b[0;34m(\u001b[0m\u001b[0mlen\u001b[0m\u001b[0;34m(\u001b[0m\u001b[0my_labels\u001b[0m\u001b[0;34m)\u001b[0m\u001b[0;34m)\u001b[0m\u001b[0;34m\u001b[0m\u001b[0;34m\u001b[0m\u001b[0m\n\u001b[1;32m     10\u001b[0m \u001b[0mclf\u001b[0m \u001b[0;34m=\u001b[0m \u001b[0msvm\u001b[0m\u001b[0;34m.\u001b[0m\u001b[0mSVC\u001b[0m\u001b[0;34m(\u001b[0m\u001b[0mgamma\u001b[0m\u001b[0;34m=\u001b[0m\u001b[0;34m'scale'\u001b[0m\u001b[0;34m)\u001b[0m\u001b[0;34m\u001b[0m\u001b[0;34m\u001b[0m\u001b[0m\n",
      "\u001b[0;31mAttributeError\u001b[0m: 'numpy.ndarray' object has no attribute 'toarray'"
     ]
    }
   ],
   "source": [
    "#################\n",
    "#SVM CLASSIFIER##\n",
    "#################\n",
    "\n",
    "from sklearn import svm\n",
    "from sklearn import metrics\n",
    "\n",
    "print(len(X_BOW_train.toarray()))\n",
    "print(len(y_labels))\n",
    "clf = svm.SVC(gamma='scale')\n",
    "clf.fit(X_BOW_train, y_labels)\n",
    "y_pred = clf.predict(X_BOW_test.toarray())\n",
    "print(metrics.accuracy_score(y_labels, y_pred))\n",
    "\n",
    "clf = svm.SVC(gamma='scale')\n",
    "clf.fit(X_TFIDF_train, y_labels)\n",
    "y_pred = clf.predict(X_TFIDF_test.toarray())\n",
    "print(metrics.accuracy_score(y_labels, y_pred))\n",
    "\n",
    "clf = svm.SVC(gamma='scale')\n",
    "clf.fit(X_embeddings_train, y_labels)\n",
    "y_pred = clf.predict(X_embeddings_test)\n",
    "print(metrics.accuracy_score(y_labels, y_pred))"
   ]
  },
  {
   "cell_type": "code",
   "execution_count": null,
   "metadata": {},
   "outputs": [],
   "source": [
    "#round robin \n"
   ]
  },
  {
   "cell_type": "code",
   "execution_count": null,
   "metadata": {},
   "outputs": [],
   "source": []
  }
 ],
 "metadata": {
  "kernelspec": {
   "display_name": "Python 3",
   "language": "python",
   "name": "python3"
  },
  "language_info": {
   "codemirror_mode": {
    "name": "ipython",
    "version": 3
   },
   "file_extension": ".py",
   "mimetype": "text/x-python",
   "name": "python",
   "nbconvert_exporter": "python",
   "pygments_lexer": "ipython3",
   "version": "3.7.1"
  }
 },
 "nbformat": 4,
 "nbformat_minor": 2
}
