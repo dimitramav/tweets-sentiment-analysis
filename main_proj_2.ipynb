{
 "cells": [
  {
   "cell_type": "code",
   "execution_count": 1,
   "metadata": {},
   "outputs": [
    {
     "name": "stdout",
     "output_type": "stream",
     "text": [
      "['gas by my house hit 339 im going to chapel hill on sat  😂', 'theo walcott is still shit fan watch rafa and johnny deal with him on saturday', 'its not that im a gsp fan i just hate nick diaz cant wait for february', 'iranian general says israels iron dome cant deal with their missiles keep talking like that and we may end up finding out', 'tehran mon amour obama tried to establish ties with the mullahs  via no barack obama  vote mitt romney', 'i sat through this whole movie just for harry and ron at christmas ohlawd 911', 'mashed out to niggas in paris in the club while in paris as cliche as it may sound weouthere', 'larry bird is ranked 4th alltime not including lebron or kobe just sayin']\n",
      "['arianagrande ari by ariana grande 80 full singer actress', 'ariana grande kiis fm yours truly cd listening party in burbank arianagrande', 'ariana grande white house easter egg roll in washington arianagrande', 'cd musics ariana grande sweet like candy 34 oz 100 ml sealed in box 100 authenic new', 'side to side   sidetoside arianagrande musically comunidadgay lgbt  lotb ', 'hairspray live previews at the macys thanksgiving day parade arianagrande televisionnbc', 'lindsaylohan is feeling thankful after blasting arianagrande for wearing toomuch ', 'i hate her but i love her songs dammit arianagrande']\n"
     ]
    }
   ],
   "source": [
    "#######################################################\n",
    "##### STRIP TWEET #####################################\n",
    "#######################################################\n",
    "\n",
    "#import pandas as pd\n",
    "#df = pd.read_csv(\"train2017.tsv\", sep='\\t', header=None)\n",
    "#df[2].tolist() #sentiments\n",
    "#corpus = df[3].tolist()\n",
    "\n",
    "import pandas as pd\n",
    "import re\n",
    "import nltk\n",
    "import string\n",
    "#READ TRAINING SET\n",
    "df = pd.read_csv(\"small_train.tsv\", sep='\\t', header=None)\n",
    "#df[2].tolist() #sentiments\n",
    "train_corpus = df[3].tolist()\n",
    "\n",
    "#READ TEST SET\n",
    "df = pd.read_csv(\"small_test.tsv\", sep='\\t', header=None)\n",
    "#df[2].tolist() #sentiments\n",
    "test_corpus = df[3].tolist()\n",
    "\n",
    "translate_table = dict((ord(char), None) for char in string.punctuation)   \n",
    "\n",
    "def clean_corpus(corpus):\n",
    "    clean_corpus = []\n",
    "    for tweet in corpus:\n",
    "        tweet = re.sub(r\"http\\S+\", \"\", tweet) #remove link\n",
    "        tweet = ' '.join([word for word in tweet.split(' ')  if not word.startswith('@')])\n",
    "        tweet = tweet.translate(translate_table) #remove symbols \n",
    "        tweet = tweet.lower()\n",
    "        clean_corpus.append(tweet)\n",
    "    return clean_corpus\n",
    "    \n",
    "clean_train_corpus = clean_corpus(train_corpus)\n",
    "clean_test_corpus = clean_corpus(test_corpus)\n",
    "\n",
    "print(clean_train_corpus)\n",
    "print(clean_test_corpus)\n"
   ]
  },
  {
   "cell_type": "code",
   "execution_count": 2,
   "metadata": {},
   "outputs": [
    {
     "name": "stdout",
     "output_type": "stream",
     "text": [
      "[['gas', 'by', 'my', 'house', 'hit', '339', 'im', 'going', 'to', 'chapel', 'hill', 'on', 'sat', '😂'], ['theo', 'walcott', 'is', 'still', 'shit', 'fan', 'watch', 'rafa', 'and', 'johnny', 'deal', 'with', 'him', 'on', 'saturday'], ['its', 'not', 'that', 'im', 'a', 'gsp', 'fan', 'i', 'just', 'hate', 'nick', 'diaz', 'cant', 'wait', 'for', 'february'], ['iranian', 'general', 'says', 'israels', 'iron', 'dome', 'cant', 'deal', 'with', 'their', 'missiles', 'keep', 'talking', 'like', 'that', 'and', 'we', 'may', 'end', 'up', 'finding', 'out'], ['tehran', 'mon', 'amour', 'obama', 'tried', 'to', 'establish', 'ties', 'with', 'the', 'mullahs', 'via', 'no', 'barack', 'obama', 'vote', 'mitt', 'romney'], ['i', 'sat', 'through', 'this', 'whole', 'movie', 'just', 'for', 'harry', 'and', 'ron', 'at', 'christmas', 'ohlawd', '911'], ['mashed', 'out', 'to', 'niggas', 'in', 'paris', 'in', 'the', 'club', 'while', 'in', 'paris', 'as', 'cliche', 'as', 'it', 'may', 'sound', 'weouthere'], ['larry', 'bird', 'is', 'ranked', '4th', 'alltime', 'not', 'including', 'lebron', 'or', 'kobe', 'just', 'sayin']]\n",
      "[['arianagrande', 'ari', 'by', 'ariana', 'grande', '80', 'full', 'singer', 'actress'], ['ariana', 'grande', 'kiis', 'fm', 'yours', 'truly', 'cd', 'listening', 'party', 'in', 'burbank', 'arianagrande'], ['ariana', 'grande', 'white', 'house', 'easter', 'egg', 'roll', 'in', 'washington', 'arianagrande'], ['cd', 'musics', 'ariana', 'grande', 'sweet', 'like', 'candy', '34', 'oz', '100', 'ml', 'sealed', 'in', 'box', '100', 'authenic', 'new'], ['side', 'to', 'side', 'sidetoside', 'arianagrande', 'musically', 'comunidadgay', 'lgbt', 'lotb'], ['hairspray', 'live', 'previews', 'at', 'the', 'macys', 'thanksgiving', 'day', 'parade', 'arianagrande', 'televisionnbc'], ['lindsaylohan', 'is', 'feeling', 'thankful', 'after', 'blasting', 'arianagrande', 'for', 'wearing', 'toomuch'], ['i', 'hate', 'her', 'but', 'i', 'love', 'her', 'songs', 'dammit', 'arianagrande']]\n"
     ]
    }
   ],
   "source": [
    "#######################################################\n",
    "##### TOKENIZATION ####################################\n",
    "#######################################################\n",
    "\n",
    "from nltk import word_tokenize\n",
    "\n",
    "def tokenize(clean_corpus):\n",
    "    tokens = []\n",
    "    for tweet in clean_corpus:\n",
    "        token = []\n",
    "        token = word_tokenize(tweet)\n",
    "        tokens.append(token)\n",
    "    return tokens\n",
    "\n",
    "train_tokens = tokenize(clean_train_corpus)\n",
    "test_tokens = tokenize(clean_test_corpus)\n",
    "\n",
    "    \n",
    "print(train_tokens)\n",
    "print(test_tokens)"
   ]
  },
  {
   "cell_type": "code",
   "execution_count": 3,
   "metadata": {},
   "outputs": [
    {
     "name": "stdout",
     "output_type": "stream",
     "text": [
      "[['gas', 'by', 'my', 'house', 'hit', '339', 'im', 'go', 'to', 'chapel', 'hill', 'on', 'sat', '😂'], ['theo', 'walcott', 'be', 'still', 'shit', 'fan', 'watch', 'rafa', 'and', 'johnny', 'deal', 'with', 'him', 'on', 'saturday'], ['it', 'not', 'that', 'im', 'a', 'gsp', 'fan', 'i', 'just', 'hate', 'nick', 'diaz', 'cant', 'wait', 'for', 'february'], ['iranian', 'general', 'say', 'israel', 'iron', 'dome', 'cant', 'deal', 'with', 'their', 'missile', 'keep', 'talk', 'like', 'that', 'and', 'we', 'may', 'end', 'up', 'find', 'out'], ['tehran', 'mon', 'amour', 'obama', 'try', 'to', 'establish', 'tie', 'with', 'the', 'mullah', 'via', 'no', 'barack', 'obama', 'vote', 'mitt', 'romney'], ['i', 'sat', 'through', 'this', 'whole', 'movie', 'just', 'for', 'harry', 'and', 'ron', 'at', 'christmas', 'ohlawd', '911'], ['mash', 'out', 'to', 'nigga', 'in', 'paris', 'in', 'the', 'club', 'while', 'in', 'paris', 'a', 'cliche', 'a', 'it', 'may', 'sound', 'weouthere'], ['larry', 'bird', 'be', 'ranked', '4th', 'alltime', 'not', 'include', 'lebron', 'or', 'kobe', 'just', 'sayin']]\n",
      "[['arianagrande', 'ari', 'by', 'ariana', 'grande', '80', 'full', 'singer', 'actress'], ['ariana', 'grande', 'kiis', 'fm', 'yours', 'truly', 'cd', 'listen', 'party', 'in', 'burbank', 'arianagrande'], ['ariana', 'grande', 'white', 'house', 'easter', 'egg', 'roll', 'in', 'washington', 'arianagrande'], ['cd', 'music', 'ariana', 'grande', 'sweet', 'like', 'candy', '34', 'oz', '100', 'ml', 'seal', 'in', 'box', '100', 'authenic', 'new'], ['side', 'to', 'side', 'sidetoside', 'arianagrande', 'musically', 'comunidadgay', 'lgbt', 'lotb'], ['hairspray', 'live', 'preview', 'at', 'the', 'macys', 'thanksgiving', 'day', 'parade', 'arianagrande', 'televisionnbc'], ['lindsaylohan', 'be', 'feel', 'thankful', 'after', 'blasting', 'arianagrande', 'for', 'wear', 'toomuch'], ['i', 'hate', 'her', 'but', 'i', 'love', 'her', 'song', 'dammit', 'arianagrande']]\n"
     ]
    }
   ],
   "source": [
    "from nltk import pos_tag\n",
    "\n",
    "from nltk.corpus import wordnet\n",
    "from nltk.stem import  WordNetLemmatizer\n",
    "# Lemmatize with POS Tag\n",
    "\n",
    "def get_wordnet_pos(word):\n",
    "    \"\"\"Map POS tag to first character lemmatize() accepts\"\"\"\n",
    "    tag = pos_tag([word])[0][1][0].upper()\n",
    "    tag_dict = {\"J\": wordnet.ADJ,\n",
    "                \"N\": wordnet.NOUN,\n",
    "                \"V\": wordnet.VERB,\n",
    "                \"R\": wordnet.ADV}\n",
    "\n",
    "    return tag_dict.get(tag, wordnet.NOUN)\n",
    "\n",
    "lemmatizer = WordNetLemmatizer()\n",
    "\n",
    "def lemmatize(tokens):\n",
    "    tweets = []\n",
    "    for token_list in tokens:\n",
    "        lemmatized = []\n",
    "        for word in token_list:\n",
    "            lemmatized.append(lemmatizer.lemmatize(word, get_wordnet_pos(word)))\n",
    "        tweets.append(lemmatized)\n",
    "    return tweets\n",
    "    \n",
    "train_tweets = lemmatize(train_tokens)\n",
    "test_tweets = lemmatize(test_tokens)\n",
    "\n",
    "print(train_tweets)\n",
    "print(test_tweets)"
   ]
  },
  {
   "cell_type": "code",
   "execution_count": 4,
   "metadata": {},
   "outputs": [
    {
     "name": "stdout",
     "output_type": "stream",
     "text": [
      "['gas by my house hit 339 im go to chapel hill on sat 😂', 'theo walcott be still shit fan watch rafa and johnny deal with him on saturday', 'it not that im a gsp fan i just hate nick diaz cant wait for february', 'iranian general say israel iron dome cant deal with their missile keep talk like that and we may end up find out', 'tehran mon amour obama try to establish tie with the mullah via no barack obama vote mitt romney', 'i sat through this whole movie just for harry and ron at christmas ohlawd 911', 'mash out to nigga in paris in the club while in paris a cliche a it may sound weouthere', 'larry bird be ranked 4th alltime not include lebron or kobe just sayin']\n",
      "['arianagrande ari by ariana grande 80 full singer actress', 'ariana grande kiis fm yours truly cd listen party in burbank arianagrande', 'ariana grande white house easter egg roll in washington arianagrande', 'cd music ariana grande sweet like candy 34 oz 100 ml seal in box 100 authenic new', 'side to side sidetoside arianagrande musically comunidadgay lgbt lotb', 'hairspray live preview at the macys thanksgiving day parade arianagrande televisionnbc', 'lindsaylohan be feel thankful after blasting arianagrande for wear toomuch', 'i hate her but i love her song dammit arianagrande']\n"
     ]
    }
   ],
   "source": [
    "final_train_corpus = []\n",
    "for tweet in train_tweets:\n",
    "    final_train_corpus.append(\" \".join(str(word) for word in tweet))\n",
    "\n",
    "final_test_corpus = []\n",
    "for tweet in test_tweets:\n",
    "    final_test_corpus.append(\" \".join(str(word) for word in tweet))\n",
    "\n",
    "print(final_train_corpus)\n",
    "print(final_test_corpus)"
   ]
  },
  {
   "cell_type": "code",
   "execution_count": 5,
   "metadata": {},
   "outputs": [],
   "source": [
    "#BAG-OF-WORDS VECTORIZATION\n",
    "from sklearn.feature_extraction.text import CountVectorizer\n",
    "\n",
    "vectorizer = CountVectorizer()\n",
    "X_BOW_train = vectorizer.fit_transform(final_train_corpus)\n",
    "X_BOW_test = vectorizer.transform(final_test_corpus)\n",
    "#print(vectorizer.get_feature_names())\n",
    "#print(X.toarray()[0])\n",
    "#print(X_BOW.toarray())\n"
   ]
  },
  {
   "cell_type": "code",
   "execution_count": 14,
   "metadata": {
    "scrolled": false
   },
   "outputs": [],
   "source": [
    "#TF-IDF VECTORIZATION\n",
    "from sklearn.feature_extraction.text import TfidfVectorizer\n",
    "vectorizer = TfidfVectorizer()\n",
    "X_TFIDF_train = vectorizer.fit_transform(final_train_corpus)\n",
    "X_TFIDF_test = vectorizer.transform(final_test_corpus)\n",
    "#print(X_TFIDF.toarray())\n"
   ]
  },
  {
   "cell_type": "code",
   "execution_count": 7,
   "metadata": {},
   "outputs": [
    {
     "name": "stdout",
     "output_type": "stream",
     "text": [
      "[-1.7970912e-03  1.7661349e-03  4.5261128e-05  4.5036855e-03\n",
      " -3.5812522e-03  1.0284071e-03 -3.5598399e-03  2.0866271e-03\n",
      "  8.2872203e-04  1.2778654e-03  4.8514516e-03 -4.6154712e-03\n",
      "  3.5849626e-03 -1.1987811e-04 -2.3448842e-03  1.8076826e-03\n",
      " -4.2484254e-03 -2.8943187e-03 -3.0342035e-03  4.2067477e-03\n",
      "  5.7692308e-04  2.5178541e-03  9.1553206e-04 -4.0281783e-03\n",
      "  1.2886210e-03  3.5501302e-03  9.4500603e-04 -1.8646988e-03\n",
      " -2.6635937e-03  4.5118793e-03  4.4304440e-03 -3.0069966e-03\n",
      " -3.5963610e-03  6.4182706e-04 -2.8020570e-03  2.0971608e-03\n",
      "  4.9677379e-03  3.7628456e-03  2.8599228e-03  3.3389253e-03\n",
      "  2.3375626e-03 -4.5419778e-04  2.7836699e-03 -3.1577323e-03\n",
      " -2.3504540e-03 -3.9583882e-03 -3.9943173e-03  3.5859998e-03\n",
      "  3.8255367e-03  1.5682844e-03  9.1101669e-05 -3.8606388e-04\n",
      "  2.1937480e-03  1.2108803e-03 -4.4098432e-04  2.1583214e-04\n",
      " -4.9225292e-03  2.1529081e-03  1.2504996e-03 -1.2907727e-03\n",
      " -3.7939148e-03 -2.8824601e-03 -1.3852770e-04  4.7147130e-03\n",
      "  4.3265130e-03  1.4687101e-03  2.1340803e-03 -4.0395181e-03\n",
      " -4.8209731e-03  3.0968108e-03 -3.7083700e-03 -3.4338210e-03\n",
      " -2.7258103e-03 -3.2964742e-03  3.1211113e-03 -3.6491174e-03\n",
      " -2.8882395e-03 -4.4575804e-03 -1.5548626e-03 -3.2505981e-05\n",
      "  3.5304588e-03  9.9837966e-04 -2.2192178e-03 -2.0399289e-03\n",
      "  3.6097916e-03 -2.9885937e-03  4.2873076e-03  5.3762854e-04\n",
      "  3.6976498e-03  3.1604324e-03  4.4760583e-03  1.1347346e-03\n",
      " -2.3538100e-03 -2.6787780e-03 -1.5506585e-04 -3.0881204e-03\n",
      " -3.3069095e-03 -3.6765886e-03  4.7715246e-03 -1.1915704e-03]\n"
     ]
    },
    {
     "name": "stderr",
     "output_type": "stream",
     "text": [
      "/home/dimitra/anaconda3/lib/python3.7/site-packages/ipykernel_launcher.py:9: DeprecationWarning: Call to deprecated `__getitem__` (Method will be removed in 4.0.0, use self.wv.__getitem__() instead).\n",
      "  if __name__ == '__main__':\n"
     ]
    }
   ],
   "source": [
    "#we have 3 options: word2vec, word2vec in sklearn, doc2vec\n",
    "from gensim.test.utils import common_texts\n",
    "\n",
    "#IMPORT WORD2VEC\n",
    "from gensim.models import Word2Vec\n",
    "nested_corpus = [final_train_corpus[i:i+1] for i in range(0, len(final_train_corpus), 1)]\n",
    "model = Word2Vec(train_tokens, size=100, window=5, min_count=1, workers=4) #size of vector is 100\n",
    "model.train(train_tokens, total_examples=model.corpus_count,epochs=model.epochs)  # train word vectors\n",
    "print(model['gas'])\n",
    "\n",
    "#IMPORT WORD2VEC LIBRARY AVAILABLE IN SKLEARN\n",
    "\n",
    "#from gensim.sklearn_api import W2VTransformer\n",
    "#total = sum(tokens,[])\n",
    "#vectorizer = W2VTransformer(size=10, min_count=1, seed=1)\n",
    "#print(corpus)\n",
    "#X_embeddings = vectorizer.fit(total).transform(tokens)\n",
    "\n"
   ]
  },
  {
   "cell_type": "code",
   "execution_count": 8,
   "metadata": {},
   "outputs": [
    {
     "name": "stderr",
     "output_type": "stream",
     "text": [
      "/home/dimitra/anaconda3/lib/python3.7/site-packages/gensim/models/doc2vec.py:366: UserWarning: The parameter `size` is deprecated, will be removed in 4.0.0, use `vector_size` instead.\n",
      "  warnings.warn(\"The parameter `size` is deprecated, will be removed in 4.0.0, use `vector_size` instead.\")\n",
      "/home/dimitra/anaconda3/lib/python3.7/site-packages/ipykernel_launcher.py:26: DeprecationWarning: Call to deprecated `iter` (Attribute will be removed in 4.0.0, use self.epochs instead).\n"
     ]
    },
    {
     "name": "stdout",
     "output_type": "stream",
     "text": [
      "[TaggedDocument(words=['gas', 'by', 'my', 'house', 'hit', '339', 'im', 'go', 'to', 'chapel', 'hill', 'on', 'sat', '😂'], tags=['0']), TaggedDocument(words=['theo', 'walcott', 'be', 'still', 'shit', 'fan', 'watch', 'rafa', 'and', 'johnny', 'deal', 'with', 'him', 'on', 'saturday'], tags=['1']), TaggedDocument(words=['it', 'not', 'that', 'im', 'a', 'gsp', 'fan', 'i', 'just', 'hate', 'nick', 'diaz', 'cant', 'wait', 'for', 'february'], tags=['2']), TaggedDocument(words=['iranian', 'general', 'say', 'israel', 'iron', 'dome', 'cant', 'deal', 'with', 'their', 'missile', 'keep', 'talk', 'like', 'that', 'and', 'we', 'may', 'end', 'up', 'find', 'out'], tags=['3']), TaggedDocument(words=['tehran', 'mon', 'amour', 'obama', 'try', 'to', 'establish', 'tie', 'with', 'the', 'mullah', 'via', 'no', 'barack', 'obama', 'vote', 'mitt', 'romney'], tags=['4']), TaggedDocument(words=['i', 'sat', 'through', 'this', 'whole', 'movie', 'just', 'for', 'harry', 'and', 'ron', 'at', 'christmas', 'ohlawd', '911'], tags=['5']), TaggedDocument(words=['mash', 'out', 'to', 'nigga', 'in', 'paris', 'in', 'the', 'club', 'while', 'in', 'paris', 'a', 'cliche', 'a', 'it', 'may', 'sound', 'weouthere'], tags=['6']), TaggedDocument(words=['larry', 'bird', 'be', 'ranked', '4th', 'alltime', 'not', 'include', 'lebron', 'or', 'kobe', 'just', 'sayin'], tags=['7'])]\n",
      "[TaggedDocument(words=['arianagrande', 'ari', 'by', 'ariana', 'grande', '80', 'full', 'singer', 'actress'], tags=['0']), TaggedDocument(words=['ariana', 'grande', 'kiis', 'fm', 'yours', 'truly', 'cd', 'listen', 'party', 'in', 'burbank', 'arianagrande'], tags=['1']), TaggedDocument(words=['ariana', 'grande', 'white', 'house', 'easter', 'egg', 'roll', 'in', 'washington', 'arianagrande'], tags=['2']), TaggedDocument(words=['cd', 'music', 'ariana', 'grande', 'sweet', 'like', 'candy', '34', 'oz', '100', 'ml', 'seal', 'in', 'box', '100', 'authenic', 'new'], tags=['3']), TaggedDocument(words=['side', 'to', 'side', 'sidetoside', 'arianagrande', 'musically', 'comunidadgay', 'lgbt', 'lotb'], tags=['4']), TaggedDocument(words=['hairspray', 'live', 'preview', 'at', 'the', 'macys', 'thanksgiving', 'day', 'parade', 'arianagrande', 'televisionnbc'], tags=['5']), TaggedDocument(words=['lindsaylohan', 'be', 'feel', 'thankful', 'after', 'blasting', 'arianagrande', 'for', 'wear', 'toomuch'], tags=['6']), TaggedDocument(words=['i', 'hate', 'her', 'but', 'i', 'love', 'her', 'song', 'dammit', 'arianagrande'], tags=['7'])]\n"
     ]
    }
   ],
   "source": [
    "#Doc2vec is equal with word2vec but is more appropriate for phrases (vectorize phrases instead of words). I.e \n",
    "#1.Manos leaves the office every day at 18:00 to catch his train\n",
    "#2. This season is called Fall, because leaves fall from the trees.\n",
    "#In this way we can capture the difference between the same word used in a different context. For example we now have a\n",
    "#different representation of the word “leaves” in the above two sentences\n",
    "\n",
    "#IMPORTANT: parameteres in my case is random, we have to pay attention to select the right ones\n",
    "\n",
    "#Import all the dependencies\n",
    "from gensim.models.doc2vec import Doc2Vec, TaggedDocument\n",
    "from nltk.tokenize import word_tokenize\n",
    "\n",
    "def word_embeddings(final_corpus):\n",
    "    tagged_data = [TaggedDocument(words=word_tokenize(_d.lower()), tags=[str(i)]) for i, _d in enumerate(final_corpus)]\n",
    "    print(tagged_data)\n",
    "    model = Doc2Vec(size=200,\n",
    "                min_alpha=0.00025,\n",
    "                min_count=1,\n",
    "                dm =1)\n",
    "  \n",
    "    model.build_vocab(tagged_data)\n",
    "    max_epoch = 20\n",
    "    for epoch in range(max_epoch):\n",
    "        model.train(tagged_data,\n",
    "                total_examples=model.corpus_count,\n",
    "                epochs=model.iter)\n",
    "    X_embeddings_array = model.docvecs\n",
    "    return X_embeddings_array\n",
    "\n",
    "#convert array to list\n",
    "\n",
    "X_embeddings_array_train = word_embeddings(final_train_corpus)\n",
    "X_embeddings_array_test = word_embeddings(final_test_corpus)\n",
    "\n",
    "X_embeddings_train=[]\n",
    "for i in range(len(X_embeddings_array_train)):\n",
    "    X_embeddings_train.append(X_embeddings_array_train[i].tolist())\n",
    "    \n",
    "X_embeddings_test=[]\n",
    "for i in range(len(X_embeddings_array_test)):\n",
    "    X_embeddings_test.append(X_embeddings_array_test[i].tolist())\n",
    "    "
   ]
  },
  {
   "cell_type": "code",
   "execution_count": 9,
   "metadata": {},
   "outputs": [
    {
     "name": "stdout",
     "output_type": "stream",
     "text": [
      "[8.280195470433682e-05, -0.004165752325206995, -0.012724961154162884, -0.007462586276233196, -0.0037083930801600218, -0.002938271965831518, 0.003622401738539338, -0.011832217685878277, -0.012015908025205135, -0.009698732756078243, -0.007150963414460421, -0.0037150944117456675, 0.005122510250657797, 0.004554823972284794, -0.005240775179117918, 0.010813333094120026, -0.007200093939900398, 0.011832067742943764, -0.0018380525289103389, -0.0017506113508716226, 0.014273354783654213, -0.0169181227684021, 0.006822411436587572, -0.015263635665178299, 0.002846532966941595, 0.00878536980599165, 0.024624479934573174, 0.01962990313768387, -0.02690444141626358, 0.006702134385704994, 0.005091353785246611, -0.00043220253428444266, -0.002683635102584958, 0.01665465719997883, -0.0019104951061308384, -0.0008445231360383332, -0.0078485868871212, 0.009386228397488594, -0.005578610580414534, -0.0047179111279547215, 0.01449370663613081, -0.006740313023328781, 0.01405541505664587, -0.007755258120596409, -0.008806846104562283, 0.0031317700631916523, -0.007399555295705795, -0.011817551217973232, 0.004206464625895023, -0.0034008182119578123, 0.01220252737402916, 0.007700694724917412, -0.015826445072889328, 0.00088543351739645, -0.011483682319521904, -0.025940651074051857, -0.018440399318933487, 0.00788574106991291, 0.0023032505996525288, -0.011126532219350338, -0.017249837517738342, -0.008106239140033722, 0.0008977019460871816, -0.014334794133901596, -0.0021380933467298746, -0.0042597209103405476, 0.02053644321858883, 0.0034981518983840942, 0.0004340713203419, -0.003617949550971389, 0.009577934630215168, -0.0021346171852201223, 0.012217680923640728, 0.004713898990303278, -0.0004111703601665795, 0.009367980994284153, -0.001189137576147914, -0.013125542551279068, 0.010757998563349247, 0.0035677107516676188, 0.011633707210421562, 0.01703278161585331, 0.0012738938676193357, -0.005462131928652525, -0.010389063507318497, -0.013221241533756256, -0.0029636372346431017, 0.015591551549732685, -0.006435621064156294, 0.008256811648607254, 0.00910064484924078, -0.0008156328112818301, 0.012487726286053658, -0.006526291836053133, -0.0027237331960350275, 0.002948206849396229, 0.011125772260129452, 0.019921671599149704, -0.000618399353697896, 0.0005069111939519644, 0.008139665238559246, 0.0149106215685606, 0.007822556421160698, -0.005099259316921234, -0.008350401185452938, -0.02585241198539734, -0.012198899872601032, -0.019728628918528557, 0.007661235518753529, -0.0027114010881632566, -0.0187880527228117, 0.0069349780678749084, -0.002420473378151655, -0.01833028718829155, 0.011220062151551247, -0.013577418401837349, 0.0014035175554454327, -0.011382308788597584, 0.017694644629955292, 0.026521878316998482, -0.006751198321580887, 0.0017348021501675248, 0.005288019776344299, 0.016745664179325104, -0.006185081787407398, 0.007407921366393566, -0.015435797162353992, 0.006792569067329168, -0.008245543576776981, 0.0035209027118980885, 0.0006307606236077845, -0.004139176569879055, 0.004153773188591003, 0.025544576346874237, 0.006740857381373644, -0.009845832362771034, 0.0046361214481294155, 0.004573075566440821, -0.016987303271889687, -0.007534919772297144, -0.003469684161245823, -0.006270498037338257, 0.00584033690392971, -0.005846379324793816, 0.007188873831182718, -0.0036742226220667362, -0.004360178019851446, -0.010494815185666084, -0.007419927511364222, 0.008549962192773819, 0.009430223144590855, -0.00015409347543027252, -0.02315940149128437, -0.007974156178534031, 0.00020058891095686704, 0.006278501357883215, -0.007563920225948095, 0.0017833976307883859, 0.005692759063094854, 0.0032617030665278435, 0.00796435959637165, 0.0007982313982211053, 0.007790537551045418, 0.008848356083035469, 0.005968831479549408, -0.014343184418976307, 0.013653311878442764, 0.010803880169987679, 0.005645242519676685, -0.007747541647404432, 0.007941747084259987, -0.0067925103940069675, 0.008938349783420563, -0.000620676320977509, 0.00542718218639493, -0.001094650593586266, 0.0014721695333719254, -0.02369595691561699, -0.004630281124264002, -0.014972430653870106, -0.017736557871103287, 0.002500090515241027, -0.004753324668854475, 0.0054115671664476395, 0.0036823595874011517, -0.009911449626088142, -0.0017824812093749642, 0.013793377205729485, -0.006853981409221888, 0.0025832054670900106, 0.003212137147784233, 0.004565506242215633, 0.01649865135550499, -0.008699135854840279, 0.022856326773762703, 0.0064186109229922295, -0.00826075579971075, -0.011910058557987213, 0.00942715909332037, 0.007094115484505892, 0, 0.2303, 0.10738428571428571, -0.1415, 0.16625, 0, 0, 0.31443000000000004, 0.16055, 0.36721, -0.16516, 0.6709999999999999, -0.972, 0.78, -0.335, 0, 0, 0.25039500000000003, 0.21020499999999998, 0.029426666666666667, 0.1658525, -0.33516666666666667, 0.052166666666666646, 0.04983333333333331, 0.2826666666666667, 14]\n",
      "[0.0025659590028226376, -0.0043838233686983585, -0.011214914731681347, -0.006525374483317137, -0.0025682589039206505, -0.002210014732554555, 0.003945872653275728, -0.015108160674571991, -0.007974465377628803, -0.007490606512874365, -0.010962748900055885, 0.00031681277323514223, 0.010763143189251423, 0.001743488130159676, -0.002721549477428198, 0.007319502532482147, -0.01024541910737753, 0.012435170821845531, -0.0031921595800668, -0.004029904492199421, 0.013852604664862156, -0.01958557590842247, 0.0054808976128697395, -0.01135336421430111, 0.006021872628480196, 0.009142224676907063, 0.021413614973425865, 0.02191540040075779, -0.028646983206272125, 0.0065092723816633224, 0.009256376884877682, -0.0043666367419064045, 0.0022557363845407963, 0.022350622341036797, -0.0003855826798826456, -0.0016783166211098433, -0.004864504560828209, 0.007709213066846132, -0.0075967516750097275, -0.0012171261478215456, 0.010324684903025627, -0.002917983802035451, 0.012083355337381363, -0.008087451569736004, -0.006915997248142958, 0.007861155085265636, -0.009756610728800297, -0.011128109879791737, 0.0004943861858919263, 0.002847757888957858, 0.01051188725978136, 0.008794425055384636, -0.015252677723765373, 0.0012779277749359608, -0.011114781722426414, -0.027850691229104996, -0.01679915003478527, 0.007365847937762737, 0.006442001089453697, -0.015844104811549187, -0.013900071382522583, -0.006672635208815336, -0.000678201497066766, -0.014424090273678303, 0.003383589442819357, -0.00939427874982357, 0.019807860255241394, 0.0021246846299618483, 0.0037797540426254272, -0.00044704487663693726, 0.012285739183425903, 0.0010847048833966255, 0.010942471213638783, -0.0011609388748183846, -0.001288295374251902, 0.010460195131599903, -0.004119127988815308, -0.0157229695469141, 0.009637306444346905, 0.0001655836240388453, 0.012781290337443352, 0.016144435852766037, -0.002662811428308487, -0.008334551937878132, -0.006039369385689497, -0.012830779887735844, -0.008304369635879993, 0.014573076739907265, -0.005982543807476759, 0.0033305096440017223, 0.004813995212316513, 0.0021686903201043606, 0.015391109511256218, -0.006899263244122267, -0.0021147062070667744, 0.004483195021748543, 0.011310095898807049, 0.017871452495455742, 0.004962465725839138, -0.0022116517648100853, 0.010992255993187428, 0.018543772399425507, 0.005149072501808405, 0.0010095717152580619, -0.011417556554079056, -0.02863394469022751, -0.014961976557970047, -0.01576615497469902, 0.002924574539065361, 0.0010747489286586642, -0.015338145196437836, 0.010947328060865402, -0.003977462183684111, -0.022703519091010094, 0.01192307285964489, -0.015626966953277588, 0.004050236660987139, -0.0120040038600564, 0.0179266519844532, 0.024643022567033768, -0.0034429733641445637, 0.003213294083252549, 0.0042525096796453, 0.013376102782785892, -0.005461873020976782, 0.005555571056902409, -0.016405565664172173, 0.01166003942489624, -0.004396283533424139, -0.0006135637522675097, 0.002040979452431202, -0.008416465483605862, 0.008267614059150219, 0.02622482366859913, 0.0011062247212976217, -0.010756266303360462, 0.007774736266583204, 0.005467700306326151, -0.02193748764693737, -0.010210927575826645, -0.003861190052703023, -0.004304527770727873, 0.002961693564429879, -0.0021945792250335217, 0.004097094759345055, -0.006964041385799646, -0.005508939735591412, -0.010396001860499382, -0.004146812483668327, 0.009523126296699047, 0.0074671669863164425, -0.0029663345776498318, -0.025139598175883293, -0.013087103143334389, 0.00036793455365113914, 0.004682614933699369, -0.008357654325664043, 0.003423431422561407, 0.006023912224918604, 0.0006262054666876793, 0.009021488949656487, 0.004532418213784695, 0.00966618862003088, 0.009512906894087791, 0.011502761393785477, -0.011294856667518616, 0.016598964110016823, 0.013108910992741585, 0.008031549863517284, -0.007161542773246765, 0.010517630726099014, -0.007552716881036758, 0.009354650042951107, 3.941586328437552e-05, 0.008029513992369175, 0.0022650384344160557, -0.0020715126302093267, -0.028978915885090828, -0.006982813123613596, -0.013896001502871513, -0.01727018691599369, 0.00033352788886986673, -0.003308046841993928, 0.0036555768456310034, 0.0015243521193042397, -0.006390988361090422, -0.001188550959341228, 0.012444023042917252, -0.0057225581258535385, 0.0065304976888000965, -0.0002922652056440711, 0.004269634839147329, 0.014857020229101181, -0.008602424524724483, 0.021694738417863846, 0.003848769934847951, -0.00700781587511301, -0.01611911691725254, 0.009620017372071743, 0.008187574334442616, -0.5, 0.2616625, 0.1538327, -0.12478571428571428, -0.034599999999999985, 3, -4, 0.41552, 0.16055, 0.43046999999999996, -0.24443, 0.66, -1.4569999999999999, 0.897, -1.025, -0.5, 0, 0.23529, 0.288035, 0.17545666666666668, 0.12139675, -0.09533333333333334, -0.14687499999999995, -0.14185714285714285, 0.05925000000000005, 15]\n",
      "[0.0017362200887873769, -0.0029405918903648853, -0.012780526652932167, -0.008157827891409397, -0.002950030844658613, -0.0014199031284078956, 0.0006791987689211965, -0.014420890249311924, -0.0120204146951437, -0.011662089265882969, -0.005991141311824322, -0.0036085923202335835, 0.008817493915557861, 0.001717011327855289, -0.00720432261005044, 0.00842368882149458, -0.010673810727894306, 0.011671578511595726, -0.00515013700351119, -0.0009064351906999946, 0.01049263309687376, -0.020865703001618385, 0.004630615469068289, -0.015213198028504848, 0.0032531716860830784, 0.005178719758987427, 0.023695390671491623, 0.021933168172836304, -0.024151546880602837, 0.008051680400967598, 0.009490673430263996, -0.0012534497072920203, 0.0008873531478457153, 0.018839554861187935, 0.0003924624470528215, 0.0038604806177318096, -0.0018261264776811004, 0.008178181014955044, -0.004382592160254717, 5.6712960940785706e-05, 0.013196367770433426, -0.0017693579429760575, 0.012396806851029396, -0.005630640313029289, -0.008228687569499016, 0.004878039471805096, -0.00640416843816638, -0.007502307184040546, 0.004928742069751024, -0.0032442137598991394, 0.009743312373757362, 0.009001347236335278, -0.01583642140030861, 0.004177849739789963, -0.008079913444817066, -0.0247818473726511, -0.018189379945397377, 0.004708460066467524, 0.006537553854286671, -0.012344288639724255, -0.015648389235138893, -0.0026155998930335045, -0.003524089464917779, -0.012469454668462276, -0.0018448835471644998, -0.009106259793043137, 0.016140056774020195, 0.0027305646799504757, 0.004685962572693825, -0.0020958962850272655, 0.012213900685310364, -0.0004228829056955874, 0.007632271386682987, 0.004287579096853733, -0.002063194988295436, 0.006058146245777607, -0.001555930357426405, -0.010219407267868519, 0.009303510189056396, 0.002440372947603464, 0.01119996141642332, 0.018064450472593307, 0.001582006341777742, -0.006021171808242798, -0.010763924568891525, -0.010803546756505966, -0.007270383182913065, 0.013659507967531681, -0.00426865927875042, 0.007887518964707851, 0.008735962212085724, -0.0027704888489097357, 0.01384873129427433, -0.005003949627280235, -0.0031040506437420845, 0.004797939211130142, 0.006536377128213644, 0.02070915326476097, 0.0007217322126962245, -0.0029302474576979876, 0.010003329254686832, 0.014695326797664165, 0.004185836762189865, -0.0014746141387149692, -0.008179129101336002, -0.021706897765398026, -0.01174055878072977, -0.014842189848423004, 0.0030487896874547005, -0.00216770451515913, -0.014493287540972233, 0.009179236367344856, -0.003785017179325223, -0.017194055020809174, 0.007728560362011194, -0.01586724817752838, 0.005170105490833521, -0.014792785048484802, 0.017820769920945168, 0.025143485516309738, -0.007826129905879498, 0.003609738778322935, 0.0014285999350249767, 0.01712416484951973, -0.005663618911057711, 0.008033988066017628, -0.014198972843587399, 0.010116214863955975, -0.007773141376674175, 0.0031661796383559704, -0.0005272421985864639, -0.005810639355331659, 0.005697512533515692, 0.021300116553902626, 0.001020304043777287, -0.009560340084135532, 0.008138498291373253, 0.0021933813113719225, -0.01778685860335827, -0.009095804765820503, -0.004559199325740337, -0.005492574069648981, 0.005403254181146622, -0.005636328365653753, 0.004152867943048477, -0.005364662501960993, -0.0027629814576357603, -0.010362992063164711, -0.006310753989964724, 0.008963518775999546, 0.011063632555305958, -0.002181611256673932, -0.021288299933075905, -0.011192168109118938, 4.6569221012759954e-05, 0.003828286426141858, -0.007191547192633152, 0.005168616306036711, 0.0009571993723511696, -0.0009666942059993744, 0.009961716830730438, 0.0018106536008417606, 0.010630052536725998, 0.004342510364949703, 0.01015939936041832, -0.01111631840467453, 0.011410997249186039, 0.012194355018436909, 0.006544408388435841, -0.00779265770688653, 0.008171219378709793, -0.005872249137610197, 0.010960927233099937, 0.002746007638052106, 0.007245857268571854, 0.0014938224339857697, 0.0023011937737464905, -0.02639511227607727, -0.005446573253720999, -0.013826195150613785, -0.016495753079652786, 0.0013061354402452707, -0.0057165352627635, 0.0054879384115338326, 0.0059745535254478455, -0.007003373466432095, 0.0026877103373408318, 0.011997307650744915, -0.003341307630762458, 0.0065139043144881725, 0.003426558570936322, 0.003383856499567628, 0.01169806532561779, -0.006682141218334436, 0.019736398011446, 0.0019831068348139524, -0.007281898520886898, -0.012191320769488811, 0.006247882731258869, 0.002703712787479162, 0.0, 0.240584, 0.079153, -0.22553333333333334, -0.0794375, 3, -3, 0.40395, 0.1106, 0.29861, -0.7306699999999999, 0.66, -1.851, 1.528, -1.681, 3.0, -3.0, 0.1997425, 0.40395, 0.1984955, 0.03141600000000001, -0.1424285714285714, -0.29825, -0.22725, 0.06837499999999996, 16]\n",
      "[0.003400275716558099, -0.005631919950246811, -0.01769072934985161, -0.008628422394394875, -0.0060539813712239265, -0.0019503252115100622, 0.0016163786640390754, -0.01751827821135521, -0.015176204964518547, -0.015702171251177788, -0.015066752210259438, -0.0027710122521966696, 0.00911641400307417, 0.0037875953130424023, -0.007640552241355181, 0.012625745497643948, -0.010941375978291035, 0.015815140679478645, -0.0034930931869894266, -0.0034424629993736744, 0.018925687298178673, -0.026028260588645935, 0.006192956585437059, -0.018269287422299385, 0.005853666923940182, 0.014328934252262115, 0.03295169025659561, 0.028372665867209435, -0.0369633212685585, 0.008764989674091339, 0.008520757779479027, -0.002353464253246784, 0.001607295940630138, 0.029305508360266685, 0.0031245523132383823, 0.003017861396074295, -0.003934717271476984, 0.011329946108162403, -0.0036731413565576077, -0.002915864111855626, 0.01822810433804989, -0.007854094728827477, 0.013705975376069546, -0.011832200922071934, -0.009051701985299587, 0.009535997174680233, -0.012085153721272945, -0.014143377542495728, 0.0019989756401628256, -0.0013119010254740715, 0.020380664616823196, 0.016375340521335602, -0.01766926422715187, 0.0067310091108083725, -0.01288031879812479, -0.036502208560705185, -0.026802826672792435, 0.010293343104422092, 0.0036091026850044727, -0.0200384221971035, -0.021005036309361458, -0.010031012818217278, 0.000851335353218019, -0.01896584965288639, -0.0018872794462367892, -0.013205861672759056, 0.02586003765463829, 0.0034395952243357897, 0.0011513197096064687, 0.0010236010421067476, 0.016620004549622536, -0.0013563040411099792, 0.014484304003417492, 0.003342471783980727, -0.0021532601676881313, 0.014422767795622349, -0.0016909934347495437, -0.018243515864014626, 0.011900903657078743, 0.0013182931579649448, 0.011699846014380455, 0.024415435269474983, 0.0020410974975675344, -0.008404916152358055, -0.008711601607501507, -0.013183637522161007, -0.0093015655875206, 0.020683566108345985, -0.006664452143013477, 0.007207617163658142, 0.010467184707522392, -0.001987554831430316, 0.022093085572123528, -0.01026118639856577, -0.0005246982327662408, 0.006663699634373188, 0.013343525119125843, 0.02830647863447666, 0.005531262140721083, -0.005053640343248844, 0.010203080251812935, 0.022854501381516457, 0.007056009024381638, 0.00034409452928230166, -0.012191303074359894, -0.03735196590423584, -0.013407374732196331, -0.022207269445061684, 0.006210495717823505, -0.00041659455746412277, -0.02477710321545601, 0.011865532957017422, -0.006348679307848215, -0.029408251866698265, 0.011709023267030716, -0.018604503944516182, 0.003837148193269968, -0.01925540715456009, 0.023715602234005928, 0.03518013283610344, -0.00662649143487215, 0.0030257655307650566, 0.0031177035998553038, 0.02115306816995144, -0.008988205343484879, 0.012476266361773014, -0.017286518588662148, 0.016092360019683838, -0.00855641532689333, 0.0021289598662406206, -0.002115028677508235, -0.006902126595377922, 0.007838152348995209, 0.03244049474596977, 0.0038140753749758005, -0.015587792731821537, 0.00707049947232008, 0.004257760010659695, -0.02666419930756092, -0.01527914684265852, -0.0075543285347521305, -0.0064483159221708775, 0.007333992514759302, -0.004809000063687563, 0.009026164188981056, -0.008162478916347027, -0.004561322275549173, -0.019955016672611237, -0.006426504347473383, 0.011824729852378368, 0.012933412566781044, -0.007225472945719957, -0.03363630175590515, -0.01627681963145733, 0.0021802939008921385, 0.010794720612466335, -0.006736739072948694, 0.008750515058636665, 0.00213524978607893, 0.0028757748659700155, 0.010934138670563698, 0.002455418696627021, 0.014109347946941853, 0.011894961819052696, 0.014653456397354603, -0.01752263680100441, 0.021880140528082848, 0.01704781875014305, 0.01350290235131979, -0.00980175007134676, 0.01309997122734785, -0.009384837001562119, 0.01759174093604088, -0.0006342043052427471, 0.009377200156450272, 0.00034856831189244986, -0.0005749708507210016, -0.03879126161336899, -0.005525382235646248, -0.0196387842297554, -0.022140871733427048, -0.0015718105714768171, -0.009360039606690407, 0.005177290644496679, 0.006309140473604202, -0.01231510378420353, 0.0020002403762191534, 0.018882552161812782, -0.005875399801880121, 0.003705635666847229, 0.005286651663482189, 0.0035381040070205927, 0.02368694730103016, -0.008651417680084705, 0.032198064029216766, 0.005667378194630146, -0.011304609477519989, -0.019490545615553856, 0.0120067885145545, 0.00889578741043806, 2.0, -0.07359633333333336, 0.03389824999999999, -0.04265000000000001, -0.20666666666666667, 2, 2, 0.41552, -0.54046, 0.42078000000000004, -0.32329, 0.374, -0.847, 0.434, -1.3130000000000002, 0, 2.0, -0.3181545, 0.41552, -0.052801375, 0.20729749999999997, -0.1363333333333333, 0.034, -0.41270000000000007, -0.01936363636363636, 22]\n",
      "[0.004057177342474461, -0.0023923811968415976, -0.011298445984721184, -0.011360471136868, -0.008610454387962818, 0.0011999706039205194, 0.00015228254778776318, -0.019940819591283798, -0.01520561520010233, -0.013655470684170723, -0.012685121037065983, -0.004442159086465836, 0.010220358148217201, -7.643933349754661e-05, -0.004955850075930357, 0.010823636315762997, -0.01156275998800993, 0.012233687564730644, -0.0068236361257731915, -0.005483604967594147, 0.016887737438082695, -0.025404782965779305, 0.007394121959805489, -0.019434381276369095, 0.002719698939472437, 0.013241113163530827, 0.030806297436356544, 0.028381813317537308, -0.031090307980775833, 0.007554498501121998, 0.010218246839940548, -0.000752243387978524, 0.0005876101204194129, 0.0268314927816391, -0.0038874943275004625, -0.00026927783619612455, -0.00543808750808239, 0.012021111324429512, -0.00879471655935049, -0.0026100974064320326, 0.014564341865479946, -0.0067201172932982445, 0.017123986035585403, -0.009355993010103703, -0.00892616156488657, 0.005267939064651728, -0.010557970032095909, -0.010875158943235874, 0.004395986907184124, 0.0009296543430536985, 0.017669232562184334, 0.016321592032909393, -0.019434606656432152, 0.0054383110255002975, -0.01605285331606865, -0.03108876571059227, -0.018828772008419037, 0.006654686294496059, 0.007421481888741255, -0.020456239581108093, -0.02058841846883297, -0.005734122823923826, 0.002069817390292883, -0.017841078341007233, 0.000523655500728637, -0.00909860897809267, 0.026104792952537537, -0.00035339026362635195, 0.005423371214419603, -0.0041905054822564125, 0.01151663064956665, 0.0004041228967253119, 0.010883754119277, 0.004053404089063406, 0.004014212638139725, 0.014135412871837616, -0.00432705320417881, -0.012768913060426712, 0.009122504852712154, 0.006529881153255701, 0.016156937927007675, 0.019831089302897453, 0.0007498966879211366, -0.01017675269395113, -0.011499189771711826, -0.014604114927351475, -0.008506536483764648, 0.017383791506290436, -0.004646540153771639, 0.009375986643135548, 0.012364259921014309, 0.0024900941643863916, 0.016253428533673286, -0.006623813416808844, -0.0035480621736496687, 0.0053441645577549934, 0.014738152734935284, 0.02607446163892746, 0.0036620304454118013, 0.0004665566957555711, 0.013155118562281132, 0.021635837852954865, 0.009064496494829655, -0.002037660451605916, -0.010118512436747551, -0.035253915935754776, -0.017857328057289124, -0.02110641822218895, 0.008688075467944145, -0.0028056190349161625, -0.02195553667843342, 0.009264039807021618, -0.005431853700429201, -0.022921698167920113, 0.01393129676580429, -0.022081883624196053, 0.0065140570513904095, -0.014968181028962135, 0.02197517640888691, 0.03349776193499565, -0.010204153135418892, 0.0012326103169471025, 0.0032015019096434116, 0.022404348477721214, -0.0069091226905584335, 0.011702864430844784, -0.01826869137585163, 0.014972756616771221, -0.009261276572942734, 0.006345001515001059, -0.00032302498584613204, -0.009734478779137135, 0.009490805678069592, 0.02893364056944847, 0.0012134764110669494, -0.013265222311019897, 0.007723261136561632, 0.00513877859339118, -0.02915327250957489, -0.013785679824650288, -0.007469729986041784, -0.007292118854820728, 0.004478856455534697, -0.007168466690927744, 0.008039846085011959, -0.0025399294681847095, -0.007398610934615135, -0.016890471801161766, -0.005620745941996574, 0.009961286559700966, 0.01420433446764946, -0.0035927491262555122, -0.029578514397144318, -0.016191644594073296, 0.004420742392539978, 0.009924042038619518, -0.010796787217259407, 0.007253237068653107, 0.0035539167001843452, -0.00038592173950746655, 0.01412829291075468, 0.005085581447929144, 0.013420021161437035, 0.009651580825448036, 0.011181777343153954, -0.012462591752409935, 0.01704959012567997, 0.013061917386949062, 0.008649185299873352, -0.01004117727279663, 0.014824382029473782, -0.00788609404116869, 0.01823762245476246, -0.0015154968714341521, 0.007560627069324255, 0.003923946991562843, -0.0022630696184933186, -0.03276472166180611, -0.005576258525252342, -0.014627852477133274, -0.022280212491750717, -0.0012676239712163806, -0.009457500651478767, 0.003369574900716543, 0.003388764103874564, -0.01312862616032362, 0.00327328871935606, 0.018524296581745148, -0.00666073290631175, 0.0085590286180377, 0.004447038285434246, 0.0009641312644816935, 0.02170281484723091, -0.0057485997676849365, 0.02955615147948265, 0.004835627507418394, -0.006136153358966112, -0.01831040531396866, 0.013417616486549377, 0.008000466041266918, -1.0, -0.027469999999999994, 0.041143583333333324, 0.08530769230769233, -0.04006666666666662, -1, -1, 0.25986, -0.42408999999999997, 0.40375, -0.30088000000000004, 1.03, -1.673, 2.27, -0.816, 0, -1.0, -0.0030633333333333393, -0.05187666666666665, 0.073145, 0.007253666666666658, -0.058875000000000066, 0.318, 0.17450000000000004, -0.3355, 18]\n",
      "[0.0013617618242278695, -0.003744998248293996, -0.011927736923098564, -0.009671431966125965, -0.002621730323880911, 0.0028531334828585386, -0.0012019402347505093, -0.01595454476773739, -0.014406079426407814, -0.008003950119018555, -0.009283811785280704, -0.002347492380067706, 0.008149337023496628, 0.00343465618789196, -0.0014139037812128663, 0.010011749342083931, -0.006984454579651356, 0.009424816817045212, -0.0038470784202218056, -0.0038594852667301893, 0.012514282017946243, -0.021593132987618446, 0.003683514893054962, -0.013322267681360245, 0.002776848617941141, 0.010794728063046932, 0.026319416239857674, 0.019584132358431816, -0.026565583422780037, 0.00811883993446827, 0.006017431616783142, -0.0032808221876621246, -0.0033327355049550533, 0.02023719996213913, -0.00020137513638474047, 0.0007183012785390019, -0.0026518425438553095, 0.010923921130597591, -0.004642677027732134, 0.0008285410003736615, 0.01645737700164318, -0.005206675734370947, 0.011874701827764511, -0.004363699350506067, -0.009340987540781498, 0.008369564078748226, -0.008823984302580357, -0.009147503413259983, 9.727983706397936e-05, -0.002296580234542489, 0.012531044892966747, 0.014082436449825764, -0.011250081472098827, 0.0047095948830246925, -0.010026696138083935, -0.029157111421227455, -0.017882995307445526, 0.003715005237609148, 0.003318750998005271, -0.013539757579565048, -0.014207028783857822, -0.0034319357946515083, -0.0032779499888420105, -0.014646035619080067, 0.001000895514152944, -0.007809350732713938, 0.022121509537100792, 0.004259132314473391, 0.00266232225112617, 0.0016508566914126277, 0.013535573147237301, 0.0010482262587174773, 0.011021552607417107, 0.004006018862128258, 0.002352591371163726, 0.009644115343689919, 0.0010785231133922935, -0.013807160779833794, 0.007701186928898096, 0.004212206229567528, 0.013832511380314827, 0.01917266473174095, -0.0025316441897302866, -0.009295018389821053, -0.010227623395621777, -0.01466592587530613, -0.0033264991361647844, 0.018339313566684723, -0.0043481080792844296, 0.00406116247177124, 0.005759065039455891, 0.002349321963265538, 0.017594004049897194, -0.010065671056509018, 0.0007302215090021491, 0.006567891221493483, 0.009770728647708893, 0.021325495094060898, 0.0014682610053569078, 0.0002723673824220896, 0.01251890230923891, 0.0149954529479146, 0.003919028677046299, -0.0038486269768327475, -0.010736373253166676, -0.026867330074310303, -0.009752247482538223, -0.016442546620965004, 0.0026449079159647226, -0.0017715037101879716, -0.014535179361701012, 0.006792012602090836, 0.00043848418863490224, -0.02285417728126049, 0.010410791262984276, -0.015992525964975357, 0.001306714490056038, -0.014608582481741905, 0.01964801736176014, 0.02650894597172737, -0.009074702858924866, 0.002185794757679105, 0.004210583865642548, 0.01626954972743988, -0.0074619692750275135, 0.010910410434007645, -0.01810639165341854, 0.012941999360918999, -0.005760617088526487, 0.0043006278574466705, 0.0029699443839490414, -0.007808827795088291, 0.007380079012364149, 0.027081342414021492, 0.006939624901860952, -0.007853272370994091, 0.008434615097939968, 0.003797586541622877, -0.023490969091653824, -0.013649183325469494, -0.005511629860848188, -0.0037222590763121843, 0.004288134165108204, -0.008382725529372692, 0.002495836466550827, -0.007684844546020031, -0.002951953560113907, -0.012619663029909134, -0.004597127437591553, 0.00789150781929493, 0.010158383287489414, -0.004530628677457571, -0.023874789476394653, -0.013955407775938511, 0.0004459571500774473, 0.008944750763475895, -0.006120254285633564, 0.0016244191210716963, 0.006495767273008823, 0.0030409356113523245, 0.00656133284792304, 0.0015322540421038866, 0.008423932828009129, 0.00923294946551323, 0.011742412112653255, -0.011059320531785488, 0.01732136309146881, 0.013274194672703743, 0.007893250323832035, -0.004474008921533823, 0.008829628117382526, -0.00789619516581297, 0.009283644147217274, -0.0005375150358304381, 0.008249331265687943, 0.0025145690888166428, -0.0023570775520056486, -0.026272473856806755, -0.004089059308171272, -0.015582173131406307, -0.019158925861120224, -0.0003941535542253405, -0.00669594993814826, 0.0044995518401265144, 0.001138646504841745, -0.005891389213502407, -0.00011219205043744296, 0.01573396474123001, -0.0014381236396729946, 0.0019632966723293066, 0.0019089680863544345, 0.001288597472012043, 0.017347102984786034, -0.00609460286796093, 0.02326585352420807, 0.005678476765751839, -0.006460209377110004, -0.01408181618899107, 0.010229377076029778, 0.0028257425874471664, 0, 0.259645, 0.22774875000000003, 0.10828571428571429, 0.11678571428571428, 0, 0, 0.41552, 0.091935, 0.66017, 0.11402000000000001, 0.65, -0.418, 0.522, -0.397, 0, 0, 0.24295999999999998, 0.26381625, 0.222225, 0.22959, -0.0887142857142857, 0.30528571428571427, 0.014857142857142855, 0.21871428571428572, 15]\n",
      "[0.003574058646336198, -0.0052880095317959785, -0.010551785118877888, -0.010414893738925457, -0.0070602791383862495, -0.001068798592314124, 0.0007637057569809258, -0.013822556473314762, -0.009646321646869183, -0.010236457921564579, -0.006195391993969679, 0.0007036813767626882, 0.006749642081558704, -0.00033772052847780287, -0.004114302806556225, 0.008739294484257698, -0.008373859338462353, 0.01125786267220974, -0.00431277509778738, -0.00028539029881358147, 0.012760775163769722, -0.020352764055132866, 0.002012892859056592, -0.01593613252043724, 0.0026723865885287523, 0.005969839170575142, 0.023126116022467613, 0.020085489377379417, -0.02374173514544964, 0.003348209895193577, 0.010119494050741196, -0.002128812950104475, 0.0028137103654444218, 0.016370007768273354, 0.0034519184846431017, -0.0011607769411057234, -0.006674508098512888, 0.010442237369716167, -0.003331099869683385, -0.0049944082275033, 0.010038980282843113, -0.003897154936566949, 0.013206549920141697, -0.009623074904084206, -0.006516430992633104, 0.002328439150005579, -0.005001346115022898, -0.010938211344182491, 0.0015967715298756957, -0.00026166567113250494, 0.013755246996879578, 0.013358942233026028, -0.01234007254242897, 0.00025949583505280316, -0.013606399297714233, -0.026699697598814964, -0.017823142930865288, 0.003047579899430275, 0.0071266028098762035, -0.015652285888791084, -0.016680490225553513, -0.00811900943517685, -0.000939131248742342, -0.013801489025354385, 0.0035877302289009094, -0.00514172064140439, 0.01954672858119011, 0.004262920003384352, 0.004557148553431034, -0.0023946338333189487, 0.007547388318926096, 0.00114984973333776, 0.00922266487032175, 0.00162885885220021, 0.0002302011998835951, 0.008722142316401005, 0.00033902443828992546, -0.011532552540302277, 0.007226612418889999, 0.0028847395442426205, 0.008203533478081226, 0.017861206084489822, -0.001703897025436163, -0.00871103536337614, -0.0055654821917414665, -0.012993053533136845, -0.004889668431133032, 0.011444954201579094, -0.003743208246305585, 0.004007968585938215, 0.0069629596546292305, -0.0025541719514876604, 0.014246335253119469, -0.007891802117228508, -0.0040197474882006645, 0.0010737146949395537, 0.010518399998545647, 0.02203976735472679, -0.0003346406447235495, -0.005144181195646524, 0.009581984020769596, 0.01274247094988823, 0.0051651750691235065, -0.0013071313733235002, -0.010853144340217113, -0.027461063116788864, -0.013681727461516857, -0.0168923307210207, 0.0070787821896374226, 7.935050962259993e-05, -0.0184493288397789, 0.006456996314227581, -0.004978723358362913, -0.02161416970193386, 0.008885405026376247, -0.015231991186738014, 0.005849488545209169, -0.011081245727837086, 0.01594524271786213, 0.02480231039226055, -0.008154592476785183, 0.000361002137651667, 0.004939811769872904, 0.016222065314650536, -0.007955240085721016, 0.008278739638626575, -0.014704370871186256, 0.0122263478115201, -0.008349308744072914, 0.00030825601425021887, 0.0005851037567481399, -0.0034108536783605814, 0.007684688549488783, 0.020163148641586304, 0.0027758607175201178, -0.007341715972870588, 0.009868292137980461, 0.0063138240948319435, -0.01986132375895977, -0.009820220060646534, -0.007097695022821426, -0.007448539137840271, 0.00280901906080544, -0.0066658672876656055, 0.007790661882609129, -0.003112714271992445, -0.0031753077637404203, -0.010701054707169533, -0.0010165777057409286, 0.006094879005104303, 0.009766265749931335, -0.004858617205172777, -0.02041875198483467, -0.013794133439660072, 0.0014460914535447955, 0.005553452763706446, -0.007092845626175404, 0.00751953711733222, 0.004973256029188633, -0.002457581227645278, 0.011021620593965054, -0.0008689917158335447, 0.009063033387064934, 0.004041273146867752, 0.005960916168987751, -0.009311686269938946, 0.015162716619670391, 0.007202509790658951, 0.011344391852617264, -0.004612633027136326, 0.010471492074429989, -0.005601682234555483, 0.013535026460886002, 0.0007888691616244614, 0.004471516236662865, 0.0016601706156507134, 0.001271564862690866, -0.027040567249059677, -0.0009680387447588146, -0.015782728791236877, -0.015584247186779976, 0.0029676216654479504, -0.002734796842560172, 0.00739951990544796, 0.0013587742578238249, -0.00782780908048153, 0.0035973042249679565, 0.009497211314737797, -0.005963578820228577, 0.0028954087756574154, -0.00018107550567947328, 0.0034888857044279575, 0.016310790553689003, -0.007762816734611988, 0.02376646175980568, 0.0021415327209979296, -0.007375179789960384, -0.010151451453566551, 0.00919709075242281, 0.006874988321214914, -5.0, 0.12079142857142856, 0.16696199999999997, 0.09435714285714288, -0.04599999999999999, -5, -5, 0.25986, -0.3985, 0.58395, -0.35496, 0.397, -0.165, 1.0490000000000002, -1.945, -5.0, 0, 0.20095249999999998, 0.061937499999999986, 0.22326799999999997, 0.15057666666666666, 0.061, 0.10675, 0.015625000000000028, 0.03375, 19]\n",
      "[0.0023922657128423452, -0.0006077892030589283, -0.008432759903371334, -0.0043345289304852486, -0.006606484297662973, -0.0032642001751810312, -0.0015543909976258874, -0.011469789780676365, -0.011412755586206913, -0.009304745122790337, -0.0091446777805686, -0.0023619006387889385, 0.009642780758440495, 0.003218658035621047, -0.003820487530902028, 0.009067476727068424, -0.008113067597150803, 0.007887693122029305, -0.0016397397266700864, -0.0009516830905340612, 0.011432633735239506, -0.020209936425089836, 0.001005562487989664, -0.015272858552634716, 0.0034989758860319853, 0.008723580278456211, 0.019021792337298393, 0.02102365903556347, -0.024688156321644783, 0.004048697184771299, 0.005493608303368092, -0.004300746601074934, -0.0006064148037694395, 0.01983354426920414, -0.0002064483123831451, 0.001547782332636416, -0.005381452385336161, 0.006644384004175663, -0.00397838931530714, -0.0037569112610071898, 0.008855652064085007, -0.004515799693763256, 0.009410900063812733, -0.0042472160421311855, -0.004197144415229559, 0.007150711957365274, -0.00454142177477479, -0.012399774976074696, 0.0035120032262057066, 0.0008892109617590904, 0.012433554045855999, 0.01305893063545227, -0.012890263460576534, 0.002713085850700736, -0.012130679562687874, -0.025439539924263954, -0.016836266964673996, 0.006709028035402298, 0.004986958112567663, -0.015600167214870453, -0.016333628445863724, -0.004428384359925985, -0.0024638709146529436, -0.010327947326004505, 6.427021435229108e-05, -0.007538448087871075, 0.016566501930356026, 0.0026687239296734333, 0.00420002918690443, -0.00037499857717193663, 0.011895174160599709, -0.001046859542839229, 0.009209230542182922, -0.000759307702537626, 0.0016526838298887014, 0.010297407396137714, 0.0008788108243606985, -0.012363143265247345, 0.0059032863937318325, 0.002805655123665929, 0.011517089791595936, 0.011996516026556492, -0.0006946222856640816, -0.006163899786770344, -0.00936909019947052, -0.007427386939525604, -0.007838161662220955, 0.01567707024514675, -0.005594316404312849, 0.006628989242017269, 0.007496698293834925, -0.0012477030977606773, 0.01492953673005104, -0.005174124147742987, -0.000961648125667125, 0.003366248682141304, 0.007528167217969894, 0.020239824429154396, 0.0024813776835799217, -0.0019655986689031124, 0.010342342779040337, 0.012346958741545677, 0.0029297838918864727, -0.0043412623926997185, -0.00907895341515541, -0.02142208442091942, -0.011291722767055035, -0.018363919109106064, 0.005209262948483229, 0.00026214015088044107, -0.013895994052290916, 0.006666535511612892, -0.003630021819844842, -0.015822550281882286, 0.009143500588834286, -0.014895398169755936, 0.003353521693497896, -0.01272945199161768, 0.017424549907445908, 0.019846035167574883, -0.008730698376893997, 0.004089335910975933, 0.005087664816528559, 0.015762703493237495, -0.006156914867460728, 0.008400061167776585, -0.01565922610461712, 0.009026563726365566, -0.0051026856526732445, 0.003819108009338379, 0.0006507752696052194, -0.0035327982623130083, 0.008807781152427197, 0.021985746920108795, 0.006349114701151848, -0.008895027451217175, 0.005446745082736015, 0.00679243728518486, -0.020335199311375618, -0.007933550514280796, -0.004566156305372715, -0.006040583364665508, 0.0034812898375093937, -0.006163821555674076, 0.006635620258748531, -0.006021810695528984, -0.005114945117384195, -0.0087730148807168, -0.006983128376305103, 0.004541713744401932, 0.008967507630586624, -0.005226803477853537, -0.01968143880367279, -0.010434669442474842, -0.00029772179550491273, 0.0067640938796103, -0.005857687443494797, 0.0030830414034426212, 0.001772977178916335, 0.0007186551811173558, 0.007013806141912937, -0.0004857896128669381, 0.010231264866888523, 0.009032079949975014, 0.009418209083378315, -0.007143059279769659, 0.012493245303630829, 0.008692270144820213, 0.007294563576579094, -0.004076062701642513, 0.010761495679616928, -0.007950067520141602, 0.012422611005604267, 0.0034462925978004932, 0.0034609115682542324, -0.0014279501046985388, 0.0001437793835066259, -0.02650686353445053, -0.0014202363090589643, -0.010282915085554123, -0.012030393816530704, 0.0024730092845857143, -0.004103844985365868, 0.004347976762801409, 0.006051805801689625, -0.004425011109560728, 0.002114922972396016, 0.010473502799868584, -0.002603108063340187, 0.002591249765828252, 0.0032096647191792727, 0.0002412826579529792, 0.012947584502398968, -0.006893245968967676, 0.017183635383844376, 0.003782642539590597, -0.0053220330737531185, -0.010684607550501823, 0.010136173106729984, 0.0074730380438268185, 0, 0.19001866666666667, 0.17898033750000003, 0.16849999999999998, -0.3274166666666667, 0, 0, 0.29114, 0.094826, 0.55801, -0.0053343, 1.84, -0.753, 0.36700000000000005, -0.862, 0, 0, 0.19298300000000002, 0.18409, 0.26516500000000004, 0.092795675, 0.3414, 0.04499999999999998, -0.03819999999999999, -0.534, 13]\n",
      "[-0.0023421719670295715, -0.00045838113874197006, -0.004534638486802578, -0.0018482592422515154, 0.0011301665799692273, -0.0029957008082419634, 0.0035435219760984182, -0.0022705374285578728, -0.004549909848719835, -0.002543530659750104, -0.0014726120280101895, -0.0005002244142815471, 8.806386176729575e-05, 0.001482014893554151, -0.0009739870438352227, 0.0033906525932252407, 0.0025617838837206364, 0.005207106005400419, 0.002604423789307475, 0.0011049931636080146, 0.0072835939936339855, -0.0007791707757860422, 0.0023727042134851217, -0.004354954697191715, -0.00040453430847264826, 0.0024525034241378307, 0.007299174554646015, 0.0022002896293997765, -0.005121361929923296, 0.004312852863222361, -0.0030788357835263014, 0.00270572816953063, 0.0004128426662646234, -0.0032921035308390856, -0.0016845503123477101, -0.0023429468274116516, -0.002859746338799596, 0.005216803401708603, -0.0024122819304466248, -0.0009034296381287277, 0.0013710757484659553, -0.003493713680654764, 0.004878514911979437, -0.002158188261091709, -0.00364712905138731, -1.4017310604685917e-05, -0.001417896943166852, 0.0009205287205986679, 0.001606736914254725, -0.0049408720806241035, 0.0023504947312176228, -0.00017644427134655416, -0.003970190417021513, 0.0005329080740921199, -0.0007464390364475548, -0.004109271336346865, -0.0013406131183728576, 0.0026742424815893173, 0.0011039834935218096, -0.0007805344648659229, -0.00550557766109705, -0.003401703666895628, 0.0011624046601355076, -0.003308130195364356, -0.0023463554680347443, -0.00021594583813566715, 0.0051410384476184845, 0.0046995654702186584, -0.00039906639722175896, -0.003094753483310342, -0.0009937564609572291, -0.0030332827009260654, 0.002438398078083992, 0.0022118305787444115, -0.00020909772138111293, 0.003409066004678607, 0.0032288695219904184, -0.0015483169117942452, 0.0029828445985913277, -0.0004828627279493958, 0.002519338857382536, 0.0063283974304795265, 0.004756751470267773, 0.002326064510270953, -0.000499575980938971, -0.0033431064803153276, -0.000851605786010623, 0.003067637560889125, -0.001251524779945612, -0.0008910908945836127, 0.001360805006697774, -0.003070036880671978, 0.0017775889718905091, -0.002068792236968875, -0.004158422816544771, 0.0011082339333370328, 0.0027414935175329447, 0.003129777265712619, -0.0012110231909900904, 0.002669708803296089, 0.0008534899679943919, 0.00038689826033078134, 0.003773874370381236, -0.0011830638395622373, -0.0023774616420269012, -0.004880047868937254, -0.002048960654065013, -0.006222084630280733, 0.0028533712029457092, -0.0019382169703021646, -0.0012002199655398726, -0.004440848249942064, 0.0007798020378686488, -0.0027666029054671526, 0.0002403862017672509, 0.00048182057798840106, 0.0018319269875064492, -0.0017758484464138746, 0.00013050132838543504, 0.004902361426502466, -0.0030871685594320297, 0.0021989012602716684, 0.0024510950315743685, 0.0023869683500379324, -0.00165200000628829, 0.00023522714036516845, -0.002077715005725622, 0.0031904163770377636, -0.006021319422870874, 0.001117170206271112, 7.970694423420355e-05, 0.0011928982567042112, -0.001638814457692206, 0.006149877328425646, 0.0013182518305256963, -0.0010593970073387027, -6.863864109618589e-05, 0.00037836021510884166, -0.00012770095781888813, -0.0011971970088779926, -0.0014774417504668236, -9.155325824394822e-05, 0.0014595778193324804, -0.002097298623993993, 0.0022638866212219, -0.001749631599523127, 0.0010767821222543716, 0.000690271204803139, -0.002468617632985115, 0.0036252408754080534, 0.002605652902275324, -0.0009408146142959595, -0.004334290511906147, 0.0006668174755759537, -0.0019243077840656042, 0.0035837895702570677, -0.002271211240440607, -0.004145991988480091, 0.00404910184442997, 0.003109314478933811, -0.002484847791492939, -0.000839324900880456, 0.0033595385029911995, 0.005596229340881109, -0.0013923021033406258, -0.0031042543705552816, 0.004564308561384678, 0.0021638881880789995, -0.003335928777232766, -0.005282344296574593, -0.00284213968552649, -0.004974605515599251, -0.0010574666084721684, -0.0030825359281152487, 0.0015440246788784862, 3.5867211408913136e-05, -0.001224396750330925, -0.0020014590118080378, -0.003515284275636077, -0.0002531392383389175, -0.005155092570930719, -0.0003203874221071601, -0.002073324052616954, -3.448134521022439e-05, 0.0003222167433705181, -0.00264888652600348, 0.0002804729447234422, 0.0029181353747844696, 0.0003568360407371074, -0.001304938574321568, 0.0008494015783071518, 0.0015524171758443117, 0.004399693105369806, -0.0018523568287491798, 0.0054711755365133286, 0.0003205829707439989, -0.0013835184508934617, -0.00294221262447536, 0.003974747844040394, 0.0047347950749099255, 0, 0.37696, 0.2796214285714286, 0.440125, 0.6061249999999999, 0, 0, 0.37696, 0.37696, 0.48773999999999995, 0.09516000000000001, 1.253, -0.20600000000000002, 1.8330000000000002, 0.07200000000000001, 0, 0, 0.25039500000000003, 0.21020499999999998, 0.029426666666666667, 0.1658525, -0.33516666666666667, 0.052166666666666646, 0.04983333333333331, 0.2826666666666667, 9]\n",
      "[-0.0019106637919321656, -0.0001869628467829898, -0.004269873723387718, -0.0013324380852282047, 0.003398495726287365, -0.0028450083918869495, 0.004614749923348427, -0.006722256075590849, -0.0039024457801133394, -0.0016735880635678768, -0.005225811153650284, 0.003451740136370063, 0.006922684609889984, -0.0012034291867166758, 0.0009292018949054182, 0.0009271130547858775, 0.0010878065368160605, 0.008015892468392849, 0.002159808063879609, 0.00041334383422508836, 0.00973441544920206, -0.004587529692798853, 0.0006311706965789199, -0.0027759368531405926, 0.0031154428143054247, 0.004063024185597897, 0.006672703195363283, 0.004549472127109766, -0.00807234551757574, 0.006669946014881134, -0.0006969586247578263, 0.00036957798874937, 0.0058892872184515, 0.0005954161752015352, -0.00042449412285350263, -0.003632165724411607, 1.215433167089941e-05, 0.006198963150382042, -0.0040955194272100925, 0.003579207928851247, -0.0013795685954391956, 9.698795111034997e-06, 0.004445463884621859, -0.0020110290497541428, -0.002292996272444725, 0.00412639370188117, -0.002984717721119523, 0.003940901719033718, -0.002091237111017108, -0.0014470055466517806, 0.0007640545954927802, 0.0017816321924328804, -0.004581043031066656, 0.0031643016263842583, 0.00011090270709246397, -0.007142546586692333, 0.00048344398965127766, 0.0018157922895625234, 0.006601461209356785, -0.0061378502286970615, -0.004299398977309465, -0.0024410048499703407, -0.0010972836753353477, -0.0038325905334204435, 0.0020514812786132097, -0.006801404524594545, 0.004990274086594582, 0.0046805874444544315, 0.003735547186806798, -0.0008908654563128948, 0.0003686087147798389, -0.001851360546424985, 0.0012120488099753857, -0.002357003977522254, -8.791832806309685e-05, 0.005414067767560482, 0.001967021729797125, -0.003724378068000078, 0.0015865276800468564, -0.0033003310672938824, 0.005281866528093815, 0.008461779914796352, 0.003174793440848589, -0.00037711334880441427, 0.004914123099297285, -0.0034532775171101093, -0.006414285395294428, 0.0027555532287806273, -0.0004982921527698636, -0.006720276549458504, -0.0021545954514294863, -0.0015596349257975817, 0.006109841633588076, -0.003415660932660103, -0.0045302812941372395, 0.002879612846300006, 0.002525264397263527, 0.001989401876926422, 0.0034393223468214273, 0.0010451625566929579, 0.005378239788115025, 0.0035790088586509228, 0.0023002964444458485, 0.003846693318337202, -0.005719104781746864, -0.00885243434458971, -0.004478603135794401, -0.005156263709068298, -0.0009392218198627234, 0.0005055293440818787, 0.003142867237329483, -0.004479018971323967, -0.0011595302494242787, -0.00712522491812706, -0.0004554377228487283, -0.001177214551717043, 0.005240339785814285, -0.004454996436834335, -6.048507202649489e-05, 0.004443857353180647, -0.002509152749553323, 0.00577574921771884, 0.0012845913879573345, -4.108895154786296e-05, -0.001979157328605652, -0.0005004409467801452, -0.00275033013895154, 0.010973888449370861, -0.004331981297582388, -0.0018725870177149773, 0.0011829149443656206, -0.0025119788479059935, 0.0015468227211385965, 0.007958664558827877, -0.00444583548232913, -0.0007300020079128444, 0.00323128723539412, 0.0010454179719090462, -0.005405552219599485, -0.005306621547788382, -0.003256128868088126, 0.0033309629652649164, -0.002337873447686434, -0.0003585954545997083, -0.0009416097891516984, -0.005961287766695023, 0.0018157220911234617, 0.0008527280297130346, -0.0002183600445277989, 0.006740153301507235, 0.002041788073256612, -0.005579402204602957, -0.0072938804514706135, -0.005257738754153252, -0.00256599229760468, 0.005079024005681276, -0.0033660579938441515, -0.004430461209267378, 0.0059667229652404785, 0.00197833264246583, -0.0037771849893033504, 0.002089107409119606, 0.007206191774457693, 0.009778475388884544, 0.003907955251634121, -0.0004098344361409545, 0.011164790019392967, 0.004589615389704704, -0.0029750484973192215, -0.006820911541581154, -0.002006205264478922, -0.008312242105603218, -0.0015236538602039218, -0.0045877667143940926, 0.004874089267104864, 0.004142644815146923, -0.005091637838631868, -0.008066801354289055, -0.0075239092111587524, 0.003000885248184204, -0.007639292161911726, -0.0046746330335736275, -0.0019119614735245705, -0.002316421130672097, -0.0006027999916113913, 0.000616262957919389, 0.0023418408818542957, 0.002163280500099063, 0.002921303501352668, 0.0030295124743133783, -0.0034279252868145704, 0.0004856228188145906, 0.004818872548639774, -0.0012374231591820717, 0.006116965319961309, -0.0037602721713483334, -0.0012799501419067383, -0.008464709855616093, 0.003606378333643079, 0.006711853202432394, 0, 0.222175, 0.40237, 0.5773636363636363, 0.671, 0, 0, 0.37696, 0.13360999999999998, 0.81677, 0.11442000000000001, 1.253, -0.083, 1.8330000000000002, -0.14400000000000002, -0.5, 0, 0.23529, 0.288035, 0.17545666666666668, 0.12139675, -0.09533333333333334, -0.14687499999999995, -0.14185714285714285, 0.05925000000000005, 12]\n",
      "[-0.0012469214852899313, 0.0007313170935958624, -0.005564183462411165, -0.0022295364178717136, 0.002220635302364826, -0.002500964095816016, 0.0012531798565760255, -0.006247890647500753, -0.006607580464333296, -0.0051740314811468124, -0.0005754359881393611, -0.0005253406125120819, 0.004898265935480595, -0.0008182693854905665, -0.0032079494558274746, 0.0016143948305398226, -0.0006509877857752144, 0.007009575609117746, -0.000523821625392884, 0.0028944825753569603, 0.0051765660755336285, -0.006203347817063332, 0.0010817418806254864, -0.006360766477882862, 0.00075882812961936, 0.00018481252482160926, 0.008949844166636467, 0.005571662914007902, -0.004793480038642883, 0.0072287144139409065, 0.0004968044813722372, 0.0026294589042663574, 0.004690901376307011, -0.00030559004517272115, 0.0003199760976713151, 0.0016267193714156747, 0.002287790412083268, 0.005820296239107847, -0.001584369339980185, 0.004120431840419769, 0.0009497511782683432, 0.0008179497672244906, 0.0047442056238651276, -0.0002190020604757592, -0.0036947987973690033, 0.0016304112505167723, -0.0006232348969206214, 0.005453615449368954, 0.0026592134963721037, -0.005975574254989624, 0.0009995527798309922, 0.001987458672374487, -0.005478555336594582, 0.0046895574778318405, 0.002115414710715413, -0.005082587245851755, -0.0017980466363951564, -0.00039929928607307374, 0.006151856388896704, -0.0030457826796919107, -0.00632131565362215, 0.0010679947445169091, -0.0035940229427069426, -0.002670511370524764, -0.0025154307950288057, -0.005891748704016209, 0.002064768923446536, 0.004578083287924528, 0.004341898486018181, -0.002738004084676504, 0.001041436567902565, -0.00212187971919775, -0.0010163495317101479, 0.001871432177722454, -0.0016750629292801023, 0.0009837147081270814, 0.0034530481789261103, 0.0009839762933552265, 0.0022334663663059473, -0.0012221252545714378, 0.004060390405356884, 0.00932731106877327, 0.005783876869827509, 0.0016807954525575042, -0.0011452364269644022, -0.0017158493865281343, -0.005811838898807764, 0.002093552378937602, 0.0008888167212717235, -0.0012029987992718816, 0.0011943889549002051, -0.005249920766800642, 0.004555216059088707, -0.0014041534159332514, -0.005798569414764643, 0.0030437218956649303, -0.0007963023381307721, 0.004895239137113094, 0.00026021202211268246, -0.00031906215008348227, 0.004127556923776865, 0.00139632448554039, 0.0015331095783039927, 0.0017224443145096302, -0.0028494205325841904, -0.002745329402387142, -0.0027584985364228487, -0.004066577646881342, -0.00029666529735550284, -0.002144591184332967, 0.0020204572938382626, -0.003344631055369973, -0.0006832703365944326, -0.0032488361466675997, -0.003499237122014165, -0.0028243176639080048, 0.0063308775424957275, -0.006540916860103607, 0.0008963094442151487, 0.00586974760517478, -0.005451071076095104, 0.005471137817949057, -0.0011675968999043107, 0.004131574649363756, -0.0019011662807315588, 0.0017908383160829544, -0.001979885622859001, 0.007617833558470011, -0.006936223711818457, 0.0011790527496486902, -0.0008512056665495038, -0.0002878617087844759, 0.00017883539840113372, 0.0038339265156537294, -0.004236733540892601, -0.0010194855276495218, 0.0037657374050468206, -0.0016543206293135881, -0.0028221679385751486, -0.003806588938459754, -0.0035645384341478348, 0.0018326544668525457, 0.0003157239989377558, -0.0024769906885921955, -0.00033143709879368544, -0.004077858757227659, 0.0030724722892045975, 0.0003172717697452754, -0.002076360397040844, 0.005553996656090021, 0.004904310684651136, -0.003831008216366172, -0.0043691606260836124, -0.003654185216873884, -0.0028250417672097683, 0.002690940862521529, -0.0025991436559706926, -0.0012794001959264278, 0.0005883871344849467, -0.00015225535025820136, -0.001385405077598989, 0.0001482623047195375, 0.007770858239382505, 0.0029905163682997227, 0.0029720808379352093, -0.0014646188355982304, 0.005115651525557041, 0.004021624568849802, -0.0034240400418639183, -0.006871246732771397, -0.002574836602434516, -0.005315697286278009, 0.0008502782438881695, -0.0012617330066859722, 0.0036817349027842283, 0.0026564965955913067, -0.0009654108434915543, -0.006842088419944048, -0.0059473635628819466, 0.0013908268883824348, -0.006532623432576656, -0.0023774649016559124, -0.003771299496293068, 6.465097249019891e-05, 0.0030488830525428057, -0.0004594229394569993, 0.005190419964492321, 0.002730013569816947, 0.0036642481572926044, 0.0032906096894294024, 0.000599900318775326, 0.0004838001914322376, 0.0017061959952116013, -0.0008232916588895023, 0.004486656282097101, -0.005211226642131805, -0.0013885321095585823, -0.005070876330137253, 0.0012704177061095834, 0.001885997480712831, 0, 0.29149, 0.23303825, 0.31944444444444436, 0.521, 0, 0, 0.37696, 0.20601999999999998, 0.50255, 0.016715999999999998, 1.253, -0.172, 1.8330000000000002, -0.077, 3.0, -3.0, 0.1997425, 0.40395, 0.1984955, 0.03141600000000001, -0.1424285714285714, -0.29825, -0.22725, 0.06837499999999996, 10]\n",
      "[-0.002141085918992758, -0.0004192902706563473, -0.007814167067408562, -0.0010200061369687319, 0.002463315846398473, -0.0032957373186945915, 0.0029926879797130823, -0.0064935279078781605, -0.009342055767774582, -0.006786832120269537, -0.006659565027803183, 0.002515629632398486, 0.004835539031773806, -7.517380436183885e-05, -0.0015516753774136305, 0.0031169329304248095, 0.0053976536728441715, 0.010678203776478767, 0.0034206558484584093, 0.0025462934281677008, 0.013225150294601917, -0.006118398159742355, 0.0003386254538781941, -0.0073700519278645515, 0.0020361358765512705, 0.007615532260388136, 0.01313515193760395, 0.004163697827607393, -0.010133318603038788, 0.008973968215286732, -0.004700268618762493, 0.004161746706813574, 0.007555603049695492, -0.0002720069023780525, 0.0023732499685138464, -0.0006079107406549156, 0.002104424638673663, 0.009261485189199448, 0.000275102152954787, 0.0031200970988720655, 0.0008842016686685383, -0.003608675440773368, 0.0040739355608820915, -0.0035998052917420864, -0.003076400374993682, 0.005326516460627317, -0.0034783747978508472, 0.005371814593672752, -0.0013327765045687556, -0.006949814967811108, 0.007687374018132687, 0.0058488440699875355, -0.0030050103086978197, 0.00865128729492426, 0.0027620051987469196, -0.008619319647550583, -0.002716604620218277, 0.0026527943555265665, 0.004365569446235895, -0.00680778082460165, -0.009333891794085503, -0.00434650294482708, -0.00024140880850609392, -0.005117901600897312, -0.003224174492061138, -0.009531116113066673, 0.005852413829416037, 0.007144380826503038, 0.0017106367740780115, -0.00015621157945133746, 0.00017764541553333402, -0.00504295714199543, 0.0016086550895124674, 0.0007791729876771569, -0.0006940659368410707, 0.007938489317893982, 0.0062362318858504295, -0.0024635358713567257, 0.0014085022266954184, -0.003854746464639902, 0.002492517465725541, 0.014341160655021667, 0.009690076112747192, 0.002765852026641369, 0.005748467519879341, -0.0005843130056746304, -0.007193364668637514, 0.00434950040653348, 0.000471433624625206, -0.006956287194043398, 7.417912274831906e-05, -0.006945584900677204, 0.010244601406157017, -0.005330675281584263, -0.005331223364919424, 0.004519955720752478, 0.002611440373584628, 0.006575860548764467, 0.0045605869963765144, -0.0009711295715533197, 0.002324184402823448, 0.0030620580073446035, 0.0034147538244724274, 0.0057753343135118484, -0.0053757550194859505, -0.010649341158568859, -0.00020644758478738368, -0.008789422921836376, 0.0015528115909546614, -0.0011667844373732805, 0.00041146756848320365, -0.009080159477889538, -0.0009891492081806064, -0.009510583244264126, -0.0055509302765131, 0.00031328079057857394, 0.0057593462988734245, -0.008900763466954231, -0.000443877128418535, 0.007587552536278963, -0.005015186965465546, 0.007481932640075684, -0.00015228854317683727, 0.0024256794713437557, -0.004079276695847511, 0.004096140619367361, 0.00027543320902623236, 0.015271634794771671, -0.007840986363589764, -0.0004570770834106952, -0.003100136062130332, 0.0007332310196943581, -0.00040412184898741543, 0.008305002003908157, -0.003783571068197489, -0.0024674225132912397, 0.001215315074659884, -0.0016187492292374372, -0.004166542086750269, -0.0087220948189497, -0.006431108340620995, 0.0034385467879474163, -0.0007198269595392048, -0.0012363129062578082, 0.0023406692780554295, -0.0079127736389637, 0.005188751500099897, -0.0032621638383716345, 2.4246121029136702e-05, 0.008159399963915348, 0.004617887549102306, -0.010075741447508335, -0.010526560246944427, -0.005980112589895725, -0.002427127445116639, 0.010479450225830078, -0.0002683611528482288, -0.0025749090127646923, 0.0023565932642668486, 0.0044439006596803665, -0.006949461065232754, -0.0008786515682004392, 0.011378616094589233, 0.01206701248884201, 0.005070560611784458, -0.0027952934615314007, 0.01486122515052557, 0.006245850119739771, -0.002600032603368163, -0.010025577619671822, -0.003596432041376829, -0.010785220190882683, 0.00242685922421515, -0.007241548504680395, 0.00509545486420393, 0.0025383750908076763, -0.006201616954058409, -0.010906499810516834, -0.007040164899080992, 0.0024651081766933203, -0.008844422176480293, -0.00830107182264328, -0.0071329944767057896, -0.0023413505405187607, 0.0024887286126613617, -0.00352972699329257, 0.00635342625901103, 0.005599187687039375, 0.0058049168437719345, -0.0008524191216565669, 1.857769166235812e-05, -0.001510858302935958, 0.010022972710430622, 0.0003806477761827409, 0.010540582239627838, -0.004827795084565878, -0.003165154019370675, -0.009902539663016796, 0.004811660386621952, 0.007591776549816132, 2.0, 0.11826875, 0.23793015384615387, 0.4569999999999999, 0.45833333333333326, 2, 2, 0.22916, 0.01595, 0.80303, -0.09375800000000001, 1.254, -0.107, 1.8330000000000002, -1.13, 0, 2.0, -0.3181545, 0.41552, -0.052801375, 0.20729749999999997, -0.1363333333333333, 0.034, -0.41270000000000007, -0.01936363636363636, 17]\n",
      "[0.00013014726573601365, 0.001680638175457716, -0.0013557028723880649, -0.0028377186972647905, -0.0011542392894625664, 0.0011368038831278682, -0.00018436320533510298, -0.0061355032958090305, -0.0065275318920612335, -0.0034094788134098053, -0.004235467873513699, -0.0007050958229228854, 0.003815909381955862, -0.003176046535372734, 0.00014565058518201113, 0.002262815600261092, 0.0010823976481333375, 0.004046475514769554, -0.0006561006302945316, -0.0015506931813433766, 0.007011304143816233, -0.004505670629441738, 0.0017306257504969835, -0.0056312475353479385, -0.0008803568780422211, 0.004534279461950064, 0.0074186502024531364, 0.005014562048017979, -0.0034118760377168655, 0.004587948322296143, -0.000558660423848778, 0.0034732872154563665, 0.003708068747073412, 0.00037048483500257134, -0.0023946831934154034, -0.0021412507630884647, 0.0003441715380176902, 0.005767155438661575, -0.003599537070840597, 0.002357646357268095, -0.0010266066528856754, -0.0020403002854436636, 0.005147175397723913, -0.0017676535062491894, -0.002404693281278014, 0.00026095056091435254, -0.0026939355302602053, 0.004624552093446255, 0.0011153598316013813, -0.0024729371070861816, 0.0033848974853754044, 0.004013689700514078, -0.0035972436890006065, 0.004900562111288309, -0.0014495189534500241, -0.0033863552380353212, 0.0022744813468307257, -0.00024270880385302007, 0.005570944864302874, -0.005068682134151459, -0.005666214972734451, -0.00014473752526100725, 0.0014183464227244258, -0.0033338142093271017, -0.0009858732810243964, -0.0031243315897881985, 0.005144704598933458, 0.0008004892733879387, 0.003316915361210704, -0.003535450669005513, -0.0024330862797796726, -0.0005536071839742362, -0.0012436335673555732, 0.001478898455388844, 0.0028890531975775957, 0.0054723843932151794, 0.0012629639822989702, 0.0016053019789978862, -0.001257666852325201, 0.0021774929482489824, 0.00417722761631012, 0.005655976012349129, 0.005013404414057732, 0.0005956982495263219, 0.0006984476931393147, -0.0021709713619202375, -0.004008229821920395, 0.0010933340527117252, 0.0012989240931347013, -0.0019257250241935253, 0.002477857284247875, -0.00033935715327970684, 0.0021253626327961683, -0.0012283476535230875, -0.00443517928943038, 0.0023871585726737976, 0.002572387922555208, 0.003610809799283743, 0.0006771867047064006, 0.002951238537207246, 0.003283772384747863, 0.003002370707690716, 0.003368720645084977, 0.001297101378440857, -0.0021302462555468082, -0.006817265879362822, -0.003440204309299588, -0.005188411567360163, 0.0032319659367203712, -0.0023706385400146246, -8.41555738588795e-05, -0.005364126991480589, -0.0009923216421157122, -0.0012794921640306711, -0.0006329191382974386, -0.0030524113681167364, 0.005796889774501324, -0.00326496921479702, 0.00030450394842773676, 0.005646487232297659, -0.0048375497572124004, 0.0018487805500626564, -0.0007338591967709363, 0.0033676899038255215, -0.0012350741308182478, 0.0024206913076341152, -0.0007094651227816939, 0.008302601985633373, -0.005280698649585247, 0.002931811846792698, -0.0005462522967718542, -0.002920531202107668, 0.00094078597612679, 0.0029971671756356955, -0.00409192219376564, -0.00041113438783213496, 0.0012865628814324737, -0.00038294552359730005, -0.005779491271823645, -0.004963950254023075, -0.0036898350808769464, 0.0009919821750372648, -0.0014827647246420383, -0.0021965361665934324, 0.0008806556579656899, 0.00012487730418797582, 0.0002610590890981257, -0.0019925255328416824, 0.0003612097352743149, 0.004258744418621063, 0.004890116862952709, -0.004338114522397518, -0.004643960855901241, -0.0037847214844077826, 0.0011074108770117164, 0.006434963084757328, -0.002605184679850936, -0.0005469375755637884, 0.0019498617621138692, 0.0010407486697658896, 3.670389924081974e-05, 0.002153331646695733, 0.006724618375301361, 0.005329976789653301, 0.001148735755123198, 0.0010571019956842065, 0.005278006661683321, 0.0013964988756924868, -0.003856167895719409, -0.0060467831790447235, 0.000801387766841799, -0.0045858267694711685, 0.00316831492818892, -0.004294185433536768, 0.002420727163553238, 0.0041595022194087505, -0.0047447639517486095, -0.0036296630278229713, -0.0034934624563902617, 0.0039198980666697025, -0.006328606512397528, -0.004734378773719072, -0.005116196349263191, -0.003261181525886059, 0.0005965714226476848, -0.0036058227997273207, 0.004494680091738701, 0.004066810477524996, 0.0015028531197458506, 0.003188671311363578, 0.0012756327632814646, -0.002846989780664444, 0.005461644846946001, 0.002115647541359067, 0.006781365256756544, -0.002545116236433387, 0.0013128694845363498, -0.006544351112097502, 0.004794564563781023, 0.00347426300868392, 0, 0.24372599999999997, 0.26647, 0.27124999999999994, -1.09875, 0, 0, 0.37696, 0.13389, 0.29763, 0.22866999999999998, 0.6679999999999999, -0.165, 0.37200000000000005, -4.999, 0, -1.0, -0.0030633333333333393, -0.05187666666666665, 0.073145, 0.007253666666666658, -0.058875000000000066, 0.318, 0.17450000000000004, -0.3355, 9]\n",
      "[-0.00228478224016726, -2.686596599232871e-05, -0.0046806251630187035, -0.004054166842252016, 0.0032698451541364193, 0.0004363774787634611, -0.0003357904788572341, -0.006784241180866957, -0.008699413388967514, -0.0019407218787819147, -0.0038371800910681486, 0.001705614966340363, 0.004760379903018475, 0.0007805932546034455, 0.0019220701651647687, 0.0032889158464968204, 0.004142036661505699, 0.005559841170907021, 0.0022695777006447315, -8.810470717435237e-07, 0.00850904081016779, -0.00663259532302618, -0.0010772793320938945, -0.005042700562626123, 0.0007030001725070179, 0.0057464782148599625, 0.011140519753098488, 0.00134314747992903, -0.0068586175329983234, 0.008175158873200417, -0.0036733888555318117, 0.001836183830164373, 0.0018986340146511793, -0.0016579240327700973, -0.00024259384372271597, -0.002124544233083725, 0.0022597038187086582, 0.009063725359737873, -0.0017117491224780679, 0.004741261713206768, 0.0026876514311879873, -0.002252981998026371, 0.0043649375438690186, 0.000712414039298892, -0.0053974781185388565, 0.00448893615975976, -0.0025464834179729223, 0.0052349320612847805, -0.0025012094993144274, -0.005695316940546036, 0.0029770887922495604, 0.006759967189282179, -0.000719779054634273, 0.00535592483356595, 0.0016173914773389697, -0.008510606363415718, -0.00042643892811611295, -0.0013492433354258537, 0.0034928845707327127, -0.0031853346154093742, -0.004622193519026041, 1.2900824003736489e-05, -0.003856661729514599, -0.004489251412451267, 0.0003848296473734081, -0.005077292677015066, 0.00729962857440114, 0.007373372092843056, 0.0025866637006402016, 0.0007008787943050265, 0.001004288555122912, -0.001522391103208065, 0.001564245903864503, 0.0012595508014783263, 0.002963075414299965, 0.00417395681142807, 0.007297827862203121, -0.0015477921115234494, 0.0004912230069749057, -0.00013591948663815856, 0.006749110296368599, 0.01054456364363432, 0.003764381632208824, -0.0004826892400160432, 0.0011861464008688927, -0.004782186355441809, -0.0019899047911167145, 0.006113384384661913, 0.0013294765958562493, -0.007087257690727711, -0.0021674020681530237, -0.0019421556498855352, 0.007986697368323803, -0.0067883883602917194, -0.0029459791257977486, 0.004639124032109976, 0.0013276601675897837, 0.004829391837120056, 0.0006734391208738089, 0.0030675011221319437, 0.006266077980399132, 0.0007939203642308712, 0.001382402260787785, 0.0004923738306388259, -0.005577904637902975, -0.007491006515920162, 0.0008152053342200816, -0.006576975341886282, -0.001044918317347765, -0.0023216053377836943, 0.0035525797866284847, -0.007815040647983551, 0.0031392851378768682, -0.007928074337542057, -0.0026715665590018034, -0.0012857867404818535, 0.003634521970525384, -0.006243569310754538, 0.0011584372259676456, 0.005537336692214012, -0.007566577289253473, 0.005710376426577568, 0.0011562752770259976, 0.0021922828163951635, -0.0036146887578070164, 0.004464565310627222, -0.004132378846406937, 0.011902331374585629, -0.005608222912997007, 0.0017907117726281285, 0.0014675221173092723, -0.0016360741574317217, 0.0013492624275386333, 0.009201371110975742, 2.4133765691658482e-05, 0.0022946582175791264, 0.00403866870328784, -0.0004521857190411538, -0.006815481930971146, -0.008319380693137646, -0.004724487662315369, 0.0036458587273955345, -0.0019197618821635842, -0.005032412242144346, -0.0019443650962784886, -0.006496882997453213, 0.00489010801538825, -0.001684520859271288, 0.0006779137183912098, 0.005529140587896109, 0.004479213617742062, -0.0065063610672950745, -0.006676432676613331, -0.0057668788358569145, -0.00280453241430223, 0.008394748903810978, -0.0014817402698099613, -0.0058130198158323765, 0.006378702353686094, 0.0038148758467286825, -0.0059587168507277966, -0.000899037579074502, 0.006915068719536066, 0.009340540505945683, 0.00415807357057929, -0.0001565920392749831, 0.011582614853978157, 0.004977086558938026, -0.003749554045498371, -0.0047196075320243835, -0.0034255762584507465, -0.008626120164990425, -0.0017269395757466555, -0.00539656775072217, 0.004819947294890881, 0.004082902334630489, -0.005385006777942181, -0.006132432725280523, -0.005456096958369017, 0.0012041836744174361, -0.009324400685727596, -0.004948647692799568, -0.005147172138094902, -0.0014900065725669265, -0.0011697320733219385, 0.0003244385588914156, 0.0037859072908759117, 0.0051442659460008144, 0.006768887396901846, -0.0011070932960137725, -0.0020384544041007757, -0.002243905561044812, 0.006683222949504852, 0.0011698899324983358, 0.007603941019624472, -0.0032450633589178324, -0.00012674865138251334, -0.006814904976636171, 0.005815227050334215, 0.002181879011914134, 0, 0.16103260000000003, 0.28779914285714286, 0.12388888888888891, 0.28774999999999995, 0, 0, 0.37696, 0.0053304, 0.59987, 0.043048, 0.723, -0.67, 0.831, -0.82, 0, 0, 0.24295999999999998, 0.26381625, 0.222225, 0.22959, -0.0887142857142857, 0.30528571428571427, 0.014857142857142855, 0.21871428571428572, 11]\n",
      "[-0.00024619820760563016, -0.0010979699436575174, -0.00483507476747036, -0.00540331844240427, -0.0011075164657086134, -0.0017572944052517414, 0.0019351658411324024, -0.006615424063056707, -0.006979216355830431, -0.004398020450025797, -0.0005620141746476293, 0.003990944474935532, 0.003685192670673132, -0.0033002200070768595, -0.0007843497442081571, 0.00272289733402431, 0.00262655527330935, 0.007610253989696503, 0.000762161856982857, 0.003848772030323744, 0.009508254937827587, -0.006847279611974955, -0.0024900385178625584, -0.0075440434738993645, -0.00010179466335102916, 0.00139287777710706, 0.008788792416453362, 0.0038780474569648504, -0.005244597792625427, 0.0038694264367222786, 0.0003299563250038773, 0.0026027497369796038, 0.006275719031691551, -0.00425692880526185, 0.0026707476936280727, -0.003552536480128765, -0.0027214500587433577, 0.009275853633880615, -0.0008997126133181155, -0.0006318073719739914, -0.002281593158841133, -0.0016623924020677805, 0.006176908500492573, -0.003248279681429267, -0.0018669927958399057, -0.0008855289197526872, 0.0006045831833034754, 0.0030955185648053885, -0.000985850696451962, -0.004764767829328775, 0.0043387203477323055, 0.006723054219037294, -0.0025077173486351967, 0.0024451029021292925, -0.0021583789493888617, -0.007246250286698341, -0.0016941067297011614, -0.0021305051632225513, 0.0073291040025651455, -0.005990119185298681, -0.00803201925009489, -0.004320711828768253, -0.002199184149503708, -0.0042392476461827755, 0.0024835607036948204, -0.0029252232052385807, 0.00630700821056962, 0.0072930059395730495, 0.0037530274130403996, -0.0027376331854611635, -0.0038925965782254934, -0.0013987863203510642, 0.0004799813905265182, -0.00043287972221150994, 0.0008727294625714421, 0.0038194716908037663, 0.0059633213095366955, -0.0006507650832645595, 0.0003295059723313898, -0.0009514449047856033, 0.001512889750301838, 0.010107643902301788, 0.003500379389151931, -0.00035677224514074624, 0.004022454377263784, -0.003768228692933917, -0.004123082850128412, 0.0008746179519221187, 0.001257019117474556, -0.0064364951103925705, -0.0008819682407192886, -0.006685896776616573, 0.006262385286390781, -0.005116322077810764, -0.006611454300582409, 0.0001689110795268789, 0.001985423266887665, 0.006295623257756233, -0.0017329392721876502, -0.0022169621661305428, 0.003752665827050805, -0.0013920278288424015, 0.001976114697754383, 0.0029798473697155714, -0.005856960080564022, -0.008690065704286098, -0.0036923831794410944, -0.007280550431460142, 0.004027080722153187, 0.0002282613277202472, -0.0013996368506923318, -0.008368155919015408, -0.0012723258696496487, -0.00678222207352519, -0.0030892568174749613, -0.0021063119638711214, 0.0071315099485218525, -0.004298482555896044, -0.001261007972061634, 0.005532719194889069, -0.006825692486017942, 0.003525175852701068, 0.0027507024351507425, 0.003347706748172641, -0.003763259155675769, 0.0022949741687625647, -0.0021781721152365208, 0.011486979201436043, -0.009592807851731777, -0.0018681635847315192, 0.0007324882899411023, 0.0021024993620812893, 0.0023390527348965406, 0.003156052203848958, -0.001926383818499744, 0.0025591361336410046, 0.005566053558140993, 0.0027838514652103186, -0.0051674507558345795, -0.005136432126164436, -0.0064317816868424416, -0.0003182991058565676, -0.003137843916192651, -0.004425812046974897, 0.002878298982977867, -0.003297193441540003, 0.0045662447810173035, 0.00017116559320129454, 0.003062708303332329, 0.0040756105445325375, 0.0039495984092354774, -0.007524537388235331, -0.004210877697914839, -0.006558464840054512, -0.002007576636970043, 0.005932830739766359, -0.0020055831409990788, -0.0007686483440920711, 0.004434430040419102, -0.0012647456023842096, -0.0011125467717647552, -0.0030773577746003866, 0.007260853424668312, 0.0046108257956802845, -0.0008883679402060807, 0.0002918731770478189, 0.010327803902328014, -0.00013184384442865849, 0.00043992383871227503, -0.004473489709198475, -0.0011693526757881045, -0.006855465937405825, 0.002964544575661421, -0.004400032106786966, 0.0016758074052631855, 0.0032740712631493807, -0.002922331215813756, -0.007493860088288784, -0.002606268972158432, 0.00011210588127141818, -0.006893902085721493, -0.0021591568365693092, -0.0010445322841405869, 0.001258004573173821, -0.0009676995687186718, -0.0017384008970111609, 0.006216746289283037, 0.00010763691534521058, 0.0020606513135135174, -0.0009349781321361661, -0.003235458629205823, 0.00017027698049787432, 0.006455394439399242, -0.0009090689127333462, 0.008802524767816067, -0.005323323886841536, -0.0014581381110474467, -0.00418562488630414, 0.004524743650108576, 0.005601654294878244, 1.5, 0.264856, 0.138305, 0.19171428571428567, 0.4087142857142857, 2, 1, 0.46825, -0.21602, 0.43399, -0.23390999999999998, 1.36, -0.94, 1.756, -0.11800000000000001, -5.0, 0, 0.20095249999999998, 0.061937499999999986, 0.22326799999999997, 0.15057666666666666, 0.061, 0.10675, 0.015625000000000028, 0.03375, 10]\n",
      "[-0.0008480639662593603, 0.002437011571601033, -0.0014474394265562296, 0.0010255605448037386, -0.0014625313924625516, -0.003828262910246849, -0.0007338116993196309, -0.0033140669111162424, -0.006066629663109779, -0.0031353014055639505, -0.004254637751728296, 0.0007632538327015936, 0.005928576923906803, 0.00047432081191800535, -0.00041392238927073777, 0.002940982114523649, 0.001270122593268752, 0.003857005387544632, 0.002693078713491559, 0.0024728961288928986, 0.006738011259585619, -0.005935093853622675, -0.002585787558928132, -0.0067970906384289265, 0.0010708699701353908, 0.003732754848897457, 0.005162947811186314, 0.005532374605536461, -0.006334845907986164, 0.0036353443283587694, -0.0029243321623653173, 0.0004918621270917356, 0.003623719559982419, 0.0005826533888466656, -0.00045863111154176295, -0.0008859433582983911, -0.0011092053027823567, 0.004531758837401867, -0.0015246012480929494, 0.0003707755240611732, -0.002413231646642089, -0.00162036856636405, 0.0024299398064613342, 0.0008144064922817051, 0.00028596105403266847, 0.004255475476384163, 0.0013776232954114676, 0.0007166455034166574, 0.001800138270482421, -0.0016447502421215177, 0.003698629094287753, 0.005599532276391983, -0.003040285548195243, 0.003503434592857957, -0.0021458971314132214, -0.006072252988815308, -0.0009658223716542125, 0.0016146814450621605, 0.004315652418881655, -0.006026616785675287, -0.006747285835444927, -0.001091889338567853, -0.002249308628961444, -0.00036880018888041377, -0.0008767766412347555, -0.004570611286908388, 0.003167838556692004, 0.004586669150739908, 0.0037896318826824427, -0.0005925504956394434, 0.0011312853312119842, -0.0026217869017273188, 0.0007498961640521884, -0.0025284821167588234, 0.002181743271648884, 0.005051040556281805, 0.005551362410187721, -0.0015053297393023968, -0.0007978060166351497, -0.000811391684692353, 0.004742078483104706, 0.00428305147215724, 0.003785166423767805, 0.0012275647604838014, -7.64131109463051e-05, 0.0008396353805437684, -0.005963995587080717, 0.0045633623376488686, -0.0005659459275193512, -0.0018568559316918254, 0.00033265637466683984, -0.003973501734435558, 0.005312770139425993, -0.002076488919556141, -0.003110540332272649, 0.001472682342864573, 0.00011472163168946281, 0.005473698489367962, 0.0020330818369984627, 0.001241988269612193, 0.0045597669668495655, -2.7190624678041786e-05, 0.0005217833677306771, -0.0012508006766438484, -0.003782708663493395, -0.0037305308505892754, -0.002416634000837803, -0.0077669802121818066, 0.001801776234060526, 0.00015823145804461092, 0.002207695972174406, -0.005930591840296984, -0.0009205029928125441, -0.0017553101060912013, -0.0010986174456775188, -0.0020618548151105642, 0.004427611827850342, -0.004710633773356676, 0.0013817084254696965, 0.0017227698117494583, -0.0063913254998624325, 0.005644618067890406, 0.0016012672567740083, 0.002985389670357108, -0.0019666426815092564, 0.003115353174507618, -0.0035251942463219166, 0.006163428071886301, -0.004480001982301474, 0.0024357778020203114, 1.7962394849746488e-05, 0.0017694783164188266, 0.003301596501842141, 0.005337527021765709, 0.0011703826021403074, -0.0002312657015863806, 0.0015051733935251832, 0.0030761067755520344, -0.00633931253105402, -0.0031880673486739397, -0.0037959017790853977, 0.0007855732110328972, -0.0013794146943837404, -0.002900891937315464, 0.0020705414935946465, -0.004838039167225361, 0.0005865375278517604, 0.0012498252326622605, -0.002716986695304513, 0.0022461656481027603, 0.0035797785967588425, -0.006425521802157164, -0.004115743096917868, -0.0031423845794051886, -0.0033679844345897436, 0.006174186710268259, -0.001721200649626553, -0.0039353882893919945, 0.0016836915165185928, 0.0020973337814211845, -0.003477489808574319, -0.0022614202462136745, 0.007483771536499262, 0.008185897953808308, 0.0026471014134585857, 0.0019082112703472376, 0.006484325043857098, 0.0008954301592893898, -0.0024923933669924736, -0.0036025105509907007, -6.164633668959141e-05, -0.007361724507063627, 0.0023622685112059116, -0.0004790884268004447, 0.0007166091818362474, 0.00016181015234906226, -0.0028310830239206553, -0.007434106431901455, -0.001729978946968913, 0.004279526881873608, -0.00250271987169981, -0.001746680703945458, -0.0028064928483217955, -0.0008211195818148553, 0.003234037896618247, 0.001396331936120987, 0.004678963217884302, 0.0017697386210784316, 0.004230213817209005, -0.0005564992898143828, 0.0004657618992496282, -0.002866987371817231, 0.003656361484900117, -2.2556510884896852e-05, 0.002479996532201767, -0.002808183431625366, 0.0006172785069793463, -0.0033423928543925285, 0.005688141565769911, 0.006170561071485281, 0.0, 0.30996, 0.13318000000000002, -0.44371428571428567, -0.21157142857142855, 3, -3, 0.37696, 0.24295999999999998, 0.9536600000000001, -0.7306699999999999, 1.083, -1.942, 1.034, -1.681, 0, 0, 0.19298300000000002, 0.18409, 0.26516500000000004, 0.092795675, 0.3414, 0.04499999999999998, -0.03819999999999999, -0.534, 10]\n"
     ]
    }
   ],
   "source": [
    "#Add characteristics to embeddings\n",
    "import pandas as pd\n",
    "import csv\n",
    "lexica =[pd.read_csv(\"lexica/affin/affin.txt\", sep='\\t', header=None),\n",
    "              pd.read_csv(\"lexica/emotweet/valence_tweet.txt\", sep='\\t', header=None),\n",
    "              pd.read_csv(\"lexica/generic/generic.txt\", sep='\\t', engine=\"python\" ,quoting=csv.QUOTE_NONE,header=None),\n",
    "              pd.read_csv(\"lexica/nrc/val.txt\", sep='\\t', engine=\"python\",quoting=csv.QUOTE_NONE, header=None),\n",
    "              pd.read_csv(\"lexica/nrctag/val.txt\", sep='\\t', header=None)]\n",
    "\n",
    "def mean_valence(tokens,X_embeddings): #mean valence of each tweet\n",
    "    for tweet in range(len(train_tokens)):   #for each tweet\n",
    "        for df in lexica:         #for each lexicon\n",
    "            if not df[df[0].isin(tokens[tweet])].empty: #search for tweets' tokens in lexicon\n",
    "                average_tweet_sentiment = df[df[0].isin(tokens[tweet])][1].mean() #get average sentiment for this tweet\n",
    "                X_embeddings[tweet].append(average_tweet_sentiment)\n",
    "            else:\n",
    "                 X_embeddings[tweet].append(0)   #if is zero should we add mean or it will affect the vector\n",
    "    return X_embeddings\n",
    "\n",
    "def min_max_valence(tokens,X_embeddings): #min and max valence of each tweet\n",
    "    for tweet in range(len(tokens)):   #for each tweet\n",
    "        for df in lexica:         #for each lexicon\n",
    "            if not df[df[0].isin(tokens[tweet])].empty: #search for tweets' tokens in lexicon\n",
    "                max_valence = df[df[0].isin(tokens[tweet])][1].max() #get average sentiment for this tweet\n",
    "                min_valence = df[df[0].isin(tokens[tweet])][1].min()\n",
    "                X_embeddings[tweet].append(max_valence)\n",
    "                X_embeddings[tweet].append(min_valence)\n",
    "            else:  # add two values to keep all the vectors the same size\n",
    "                X_embeddings[tweet].append(0)   #if is zero should we add mean or it will affect the vector\n",
    "                X_embeddings[tweet].append(0)   #if is zero should we add mean or it will affect the vector\n",
    "    return X_embeddings\n",
    "\n",
    "def mean_for_two(tokens,X_embeddings):#mean valence for each half of a tweet\n",
    "    for tweet in range(len(train_tokens)):   #for each tweet\n",
    "        entire_tweet = train_tokens[tweet]\n",
    "        first_half= entire_tweet[:len(entire_tweet)//2]\n",
    "        second_half= entire_tweet[len(entire_tweet)//2:]\n",
    "        for df in lexica:         #for each lexicon\n",
    "            if not df[df[0].isin(first_half)].empty: #search for tweets' tokens in lexicon\n",
    "                average_tweet_sentiment = df[df[0].isin(first_half)][1].mean() #get average sentiment for this tweet\n",
    "                X_embeddings[tweet].append(average_tweet_sentiment)\n",
    "            else:  # add two values to keep all the vectors the same size\n",
    "                X_embeddings[tweet].append(0)   #if is zero should we add mean or it will affect the vector\n",
    "            if not df[df[0].isin(second_half)].empty: #search for tweets' tokens in lexicon\n",
    "                average_tweet_sentiment = df[df[0].isin(second_half)][1].mean() #get average sentiment for this tweet\n",
    "                X_embeddings[tweet].append(average_tweet_sentiment)\n",
    "            else:  # add two values to keep all the vectors the same size\n",
    "                X_embeddings[tweet].append(0)   #if is zero should we add mean or it will affect the vector\n",
    "    return X_embeddings\n",
    "\n",
    "X_embeddings_train = mean_valence(train_tokens,X_embeddings_train)\n",
    "X_embeddings_test = mean_valence(test_tokens,X_embeddings_test)\n",
    "X_embeddings_train = min_max_valence(train_tokens,X_embeddings_train)\n",
    "X_embeddings_test = min_max_valence(test_tokens,X_embeddings_test)\n",
    "X_embeddings_train = mean_for_two(train_tokens,X_embeddings_train)\n",
    "X_embeddings_test = mean_for_two(test_tokens,X_embeddings_test)\n",
    "#length of each tweet               \n",
    "for tweet in range(len(train_tokens)):   #for each tweet\n",
    "    X_embeddings_train[tweet].append(len(train_tokens[tweet]))\n",
    "\n",
    "#length of each tweet               \n",
    "for tweet in range(len(test_tokens)):   #for each tweet\n",
    "    X_embeddings_test[tweet].append(len(test_tokens[tweet]))\n",
    "  \n",
    "            \n",
    "for i in range(len(X_embeddings_train)):\n",
    "    print(X_embeddings_train[i])\n",
    "\n",
    "for i in range(len(X_embeddings_train)):\n",
    "    print(X_embeddings_test[i])\n",
    "#sentiment_sum = 0\n",
    "#words_found = 0\n",
    "#for j in range(len(tokens[i])):\n",
    "#    if not df[df[0] == tokens[i][j]].empty: #search for tweets' tokens in lexicon\n",
    "#        sentiment_sum += df[df[0] == tokens[i][j]].iloc[0][1] #get sentiment\n",
    "#        words_found++\n",
    "        \n",
    "\n",
    "        \n"
   ]
  },
  {
   "cell_type": "code",
   "execution_count": 10,
   "metadata": {},
   "outputs": [],
   "source": [
    "####################\n",
    "#CONSTRUCT Y_LABELS#\n",
    "####################\n",
    "\n",
    "df = pd.read_csv(\"small.tsv\", sep='\\t', header=None)\n",
    "y_labels = df[2].tolist() #sentiments\n",
    "\n",
    "\n",
    "for n, value in enumerate(y_labels):\n",
    "    if value == \"positive\":\n",
    "        y_labels[n] = 2\n",
    "    elif value ==\"negative\":\n",
    "        y_labels[n] = 0\n",
    "    else:\n",
    "        y_labels[n] =1\n",
    "\n"
   ]
  },
  {
   "cell_type": "code",
   "execution_count": 17,
   "metadata": {},
   "outputs": [
    {
     "name": "stdout",
     "output_type": "stream",
     "text": [
      "8\n",
      "8\n",
      "0.375\n",
      "0.25\n",
      "0.375\n"
     ]
    }
   ],
   "source": [
    "#################\n",
    "#KNN CLASSIFIER##\n",
    "#################\n",
    "\n",
    "from sklearn.neighbors import KNeighborsClassifier\n",
    "from sklearn import metrics\n",
    "\n",
    "print(len(X_BOW_train.toarray()))\n",
    "print(len(y_labels))\n",
    "knn = KNeighborsClassifier(n_neighbors=1)\n",
    "knn.fit(X_BOW_train.toarray() , y_labels)\n",
    "y_pred = knn.predict(X_BOW_test.toarray())\n",
    "print(metrics.accuracy_score(y_labels, y_pred))\n",
    "\n",
    "knn.fit(X_TFIDF_train.toarray() , y_labels)\n",
    "y_pred = knn.predict(X_TFIDF_test.toarray())\n",
    "print(metrics.accuracy_score(y_labels, y_pred))\n",
    "\n",
    "knn.fit(X_embeddings_train , y_labels)\n",
    "y_pred = knn.predict(X_embeddings_test)\n",
    "print(metrics.accuracy_score(y_labels, y_pred))\n"
   ]
  },
  {
   "cell_type": "code",
   "execution_count": null,
   "metadata": {},
   "outputs": [],
   "source": []
  }
 ],
 "metadata": {
  "kernelspec": {
   "display_name": "Python 3",
   "language": "python",
   "name": "python3"
  },
  "language_info": {
   "codemirror_mode": {
    "name": "ipython",
    "version": 3
   },
   "file_extension": ".py",
   "mimetype": "text/x-python",
   "name": "python",
   "nbconvert_exporter": "python",
   "pygments_lexer": "ipython3",
   "version": "3.7.1"
  }
 },
 "nbformat": 4,
 "nbformat_minor": 2
}
