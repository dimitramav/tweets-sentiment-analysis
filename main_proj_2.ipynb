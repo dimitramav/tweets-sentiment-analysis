{
 "cells": [
  {
   "cell_type": "code",
   "execution_count": 1,
   "metadata": {},
   "outputs": [],
   "source": [
    "#######################################################\n",
    "##### STRIP TWEET #####################################\n",
    "#######################################################\n",
    "\n",
    "#import pandas as pd\n",
    "#df = pd.read_csv(\"train2017.tsv\", sep='\\t', header=None)\n",
    "#df[2].tolist() #sentiments\n",
    "#corpus = df[3].tolist()\n",
    "\n",
    "import nltk\n",
    "import string\n",
    "import re\n",
    "\n",
    "f = open(\"small.tsv\")\n",
    "line = f.readline()\n",
    "\n",
    "tweets = []\n",
    "translate_table = dict((ord(char), None) for char in string.punctuation)   \n",
    "cnt = 1\n",
    "while line:\n",
    "    pretext = ' '.join(line.split()[3:])\n",
    "    pretext = ' '.join(word for word in pretext.split(' ') if not word.startswith('@')) #remove @user\n",
    "    pretext = re.sub(r\"http\\S+\", \"\", pretext) #remove link\n",
    "    pretext = pretext.translate(translate_table) #remove symbols \n",
    "    #remove numbers??\n",
    "    \n",
    "    tweet = pretext.lower()\n",
    "    tweets.append(tweet)\n",
    "    line = f.readline()\n",
    "    cnt += 1\n",
    "\n",
    "#print(tweets)"
   ]
  },
  {
   "cell_type": "code",
   "execution_count": 2,
   "metadata": {},
   "outputs": [
    {
     "name": "stdout",
     "output_type": "stream",
     "text": [
      "[['gas', 'by', 'my', 'house', 'hit', '339', 'im', 'going', 'to', 'chapel', 'hill', 'on', 'sat', '😂'], ['theo', 'walcott', 'is', 'still', 'shit', 'watch', 'rafa', 'and', 'johnny', 'deal', 'with', 'him', 'on', 'saturday'], ['its', 'not', 'that', 'im', 'a', 'gsp', 'fan', 'i', 'just', 'hate', 'nick', 'diaz', 'cant', 'wait', 'for', 'february'], ['iranian', 'general', 'says', 'israels', 'iron', 'dome', 'cant', 'deal', 'with', 'their', 'missiles', 'keep', 'talking', 'like', 'that', 'and', 'we', 'may', 'end', 'up', 'finding', 'out'], ['tehran', 'mon', 'amour', 'obama', 'tried', 'to', 'establish', 'ties', 'with', 'the', 'mullahs', 'via', 'no', 'barack', 'obama', 'vote', 'mitt', 'romney'], ['i', 'sat', 'through', 'this', 'whole', 'movie', 'just', 'for', 'harry', 'and', 'ron', 'at', 'christmas', 'ohlawd', '911'], ['mashed', 'out', 'to', 'niggas', 'in', 'paris', 'in', 'the', 'club', 'while', 'in', 'paris', 'as', 'cliche', 'as', 'it', 'may', 'sound', 'weouthere'], ['larry', 'bird', 'is', 'ranked', '4th', 'alltime', 'not', 'including', 'lebron', 'or', 'kobe', 'just', 'sayin']]\n"
     ]
    }
   ],
   "source": [
    "#######################################################\n",
    "##### TOKENIZATION ####################################\n",
    "#######################################################\n",
    "\n",
    "from nltk import word_tokenize\n",
    "\n",
    "tokens = []\n",
    "for tweet in tweets:\n",
    "    token = []\n",
    "    token = word_tokenize(tweet)\n",
    "    tokens.append(token)\n",
    "\n",
    "print(tokens)"
   ]
  },
  {
   "cell_type": "code",
   "execution_count": 3,
   "metadata": {},
   "outputs": [],
   "source": [
    "from nltk import pos_tag\n",
    "\n",
    "from nltk.corpus import wordnet\n",
    "from nltk.stem import  WordNetLemmatizer\n",
    "# Lemmatize with POS Tag\n",
    "\n",
    "def get_wordnet_pos(word):\n",
    "    \"\"\"Map POS tag to first character lemmatize() accepts\"\"\"\n",
    "    tag = pos_tag([word])[0][1][0].upper()\n",
    "    tag_dict = {\"J\": wordnet.ADJ,\n",
    "                \"N\": wordnet.NOUN,\n",
    "                \"V\": wordnet.VERB,\n",
    "                \"R\": wordnet.ADV}\n",
    "\n",
    "    return tag_dict.get(tag, wordnet.NOUN)\n",
    "\n",
    "lemmatizer = WordNetLemmatizer()\n",
    "\n",
    "tweets = []\n",
    "for token_list in tokens:\n",
    "    lemmatized = []\n",
    "    for word in token_list:\n",
    "        lemmatized.append(lemmatizer.lemmatize(word, get_wordnet_pos(word)))\n",
    "    tweets.append(lemmatized)\n",
    "\n",
    "#Rprint(tweets)"
   ]
  },
  {
   "cell_type": "code",
   "execution_count": 4,
   "metadata": {},
   "outputs": [
    {
     "name": "stdout",
     "output_type": "stream",
     "text": [
      "['gas by my house hit 339 im go to chapel hill on sat 😂', 'theo walcott be still shit watch rafa and johnny deal with him on saturday', 'it not that im a gsp fan i just hate nick diaz cant wait for february', 'iranian general say israel iron dome cant deal with their missile keep talk like that and we may end up find out', 'tehran mon amour obama try to establish tie with the mullah via no barack obama vote mitt romney', 'i sat through this whole movie just for harry and ron at christmas ohlawd 911', 'mash out to nigga in paris in the club while in paris a cliche a it may sound weouthere', 'larry bird be ranked 4th alltime not include lebron or kobe just sayin']\n"
     ]
    }
   ],
   "source": [
    "corpus = []\n",
    "for tweet in tweets:\n",
    "    corpus.append(\" \".join(str(word) for word in tweet))\n",
    "\n",
    "print(corpus)"
   ]
  },
  {
   "cell_type": "code",
   "execution_count": 5,
   "metadata": {},
   "outputs": [],
   "source": [
    "#BAG-OF-WORDS VECTORIZATION\n",
    "from sklearn.feature_extraction.text import CountVectorizer\n",
    "\n",
    "vectorizer = CountVectorizer()\n",
    "X_BOW = vectorizer.fit_transform(corpus)\n",
    "#print(vectorizer.get_feature_names())\n",
    "#print(X.toarray()[0])\n",
    "#print(X_BOW.toarray())\n"
   ]
  },
  {
   "cell_type": "code",
   "execution_count": 16,
   "metadata": {
    "scrolled": false
   },
   "outputs": [
    {
     "ename": "AttributeError",
     "evalue": "'list' object has no attribute 'split'",
     "output_type": "error",
     "traceback": [
      "\u001b[0;31m---------------------------------------------------------------------------\u001b[0m",
      "\u001b[0;31mAttributeError\u001b[0m                            Traceback (most recent call last)",
      "\u001b[0;32m<ipython-input-16-30af1c28e3b9>\u001b[0m in \u001b[0;36m<module>\u001b[0;34m\u001b[0m\n\u001b[1;32m      2\u001b[0m \u001b[0;32mfrom\u001b[0m \u001b[0msklearn\u001b[0m\u001b[0;34m.\u001b[0m\u001b[0mfeature_extraction\u001b[0m\u001b[0;34m.\u001b[0m\u001b[0mtext\u001b[0m \u001b[0;32mimport\u001b[0m \u001b[0mTfidfVectorizer\u001b[0m\u001b[0;34m\u001b[0m\u001b[0;34m\u001b[0m\u001b[0m\n\u001b[1;32m      3\u001b[0m \u001b[0mvectorizer\u001b[0m \u001b[0;34m=\u001b[0m \u001b[0mTfidfVectorizer\u001b[0m\u001b[0;34m(\u001b[0m\u001b[0;34m)\u001b[0m\u001b[0;34m\u001b[0m\u001b[0;34m\u001b[0m\u001b[0m\n\u001b[0;32m----> 4\u001b[0;31m \u001b[0mX_TFIDF\u001b[0m \u001b[0;34m=\u001b[0m \u001b[0mvectorizer\u001b[0m\u001b[0;34m.\u001b[0m\u001b[0mfit_transform\u001b[0m\u001b[0;34m(\u001b[0m\u001b[0mcorpus\u001b[0m\u001b[0;34m.\u001b[0m\u001b[0msplit\u001b[0m\u001b[0;34m(\u001b[0m\u001b[0;34m)\u001b[0m\u001b[0;34m)\u001b[0m\u001b[0;34m\u001b[0m\u001b[0;34m\u001b[0m\u001b[0m\n\u001b[0m\u001b[1;32m      5\u001b[0m \u001b[0;31m#print(X_TFIDF.toarray())\u001b[0m\u001b[0;34m\u001b[0m\u001b[0;34m\u001b[0m\u001b[0;34m\u001b[0m\u001b[0m\n",
      "\u001b[0;31mAttributeError\u001b[0m: 'list' object has no attribute 'split'"
     ]
    }
   ],
   "source": [
    "#TF-IDF VECTORIZATION\n",
    "from sklearn.feature_extraction.text import TfidfVectorizer\n",
    "vectorizer = TfidfVectorizer()\n",
    "X_TFIDF = vectorizer.fit_transform(corpus)\n",
    "#print(X_TFIDF.toarray())\n"
   ]
  },
  {
   "cell_type": "code",
   "execution_count": 36,
   "metadata": {},
   "outputs": [
    {
     "name": "stdout",
     "output_type": "stream",
     "text": [
      "[['gas by my house hit 339 im go to chapel hill on sat 😂'], ['theo walcott be still shit watch rafa and johnny deal with him on saturday'], ['it not that im a gsp fan i just hate nick diaz cant wait for february'], ['iranian general say israel iron dome cant deal with their missile keep talk like that and we may end up find out'], ['tehran mon amour obama try to establish tie with the mullah via no barack obama vote mitt romney'], ['i sat through this whole movie just for harry and ron at christmas ohlawd 911'], ['mash out to nigga in paris in the club while in paris a cliche a it may sound weouthere'], ['larry bird be ranked 4th alltime not include lebron or kobe just sayin']]\n",
      "[ 0.00118727 -0.00420469  0.00284674  0.00052224  0.00062534 -0.00345467\n",
      " -0.00357037 -0.00089545  0.00340331 -0.00465742  0.00050744 -0.00355314\n",
      "  0.00107752  0.004303   -0.0027083  -0.0046858  -0.00407666  0.0037294\n",
      " -0.00420923  0.00044863 -0.0049019  -0.0017915  -0.0006112   0.00346838\n",
      "  0.00419763 -0.00236167  0.00456637 -0.00090893 -0.00118326 -0.0026358\n",
      "  0.00404753  0.0012394  -0.00490833  0.00280024 -0.00289248  0.00203826\n",
      "  0.00063784  0.00339936 -0.0042677   0.00389917  0.00199855  0.00071982\n",
      " -0.00157183  0.00113839 -0.00249976  0.00380171  0.00188846  0.00388827\n",
      " -0.00459712  0.00214532  0.0032862   0.00232965 -0.00274529  0.00453399\n",
      " -0.00195295 -0.00228492  0.00426173  0.00259263  0.00107051  0.00145112\n",
      "  0.00137971 -0.00313759  0.00387949 -0.00223832 -0.00252093 -0.00391932\n",
      " -0.00132398 -0.00034612  0.00499417  0.00122463 -0.00311186  0.00242391\n",
      " -0.00184979 -0.00447726 -0.00101954 -0.00043641  0.00269002  0.00051521\n",
      "  0.00456522  0.00451696 -0.00282499  0.00014245 -0.00378244 -0.00184042\n",
      " -0.00041598 -0.00378296 -0.0023981  -0.00051342 -0.00150106 -0.00349227\n",
      "  0.00011028 -0.00424445 -0.00369805 -0.00478363 -0.00112612 -0.00340716\n",
      "  0.00180901  0.00231883  0.00039961 -0.00267835]\n"
     ]
    },
    {
     "name": "stderr",
     "output_type": "stream",
     "text": [
      "/home/dimitra/anaconda3/lib/python3.7/site-packages/ipykernel_launcher.py:12: DeprecationWarning: Call to deprecated `__getitem__` (Method will be removed in 4.0.0, use self.wv.__getitem__() instead).\n",
      "  if sys.path[0] == '':\n"
     ]
    }
   ],
   "source": [
    "#we have 3 options: word2vec, word2vec in sklearn, doc2vec\n",
    "from gensim.test.utils import common_texts\n",
    "\n",
    "#IMPORT WORD2VEC\n",
    "from gensim.models import Word2Vec\n",
    "nested_corpus = [corpus[i:i+1] for i in range(0, len(corpus), 1)]\n",
    "model = Word2Vec(tokens, size=100, window=5, min_count=1, workers=4) #size of vector is 100\n",
    "model.train(tokens, total_examples=model.corpus_count,epochs=model.epochs)  # train word vectors\n",
    "print(model['gas'])\n",
    "\n",
    "#IMPORT WORD2VEC LIBRARY AVAILABLE IN SKLEARN\n",
    "\n",
    "#from gensim.sklearn_api import W2VTransformer\n",
    "#total = sum(tokens,[])\n",
    "#vectorizer = W2VTransformer(size=10, min_count=1, seed=1)\n",
    "#print(corpus)\n",
    "#X_embeddings = vectorizer.fit(total).transform(tokens)\n",
    "\n"
   ]
  },
  {
   "cell_type": "code",
   "execution_count": 55,
   "metadata": {},
   "outputs": [
    {
     "name": "stdout",
     "output_type": "stream",
     "text": [
      "[TaggedDocument(words=['gas', 'by', 'my', 'house', 'hit', '339', 'im', 'go', 'to', 'chapel', 'hill', 'on', 'sat', '😂'], tags=['0']), TaggedDocument(words=['theo', 'walcott', 'be', 'still', 'shit', 'watch', 'rafa', 'and', 'johnny', 'deal', 'with', 'him', 'on', 'saturday'], tags=['1']), TaggedDocument(words=['it', 'not', 'that', 'im', 'a', 'gsp', 'fan', 'i', 'just', 'hate', 'nick', 'diaz', 'cant', 'wait', 'for', 'february'], tags=['2']), TaggedDocument(words=['iranian', 'general', 'say', 'israel', 'iron', 'dome', 'cant', 'deal', 'with', 'their', 'missile', 'keep', 'talk', 'like', 'that', 'and', 'we', 'may', 'end', 'up', 'find', 'out'], tags=['3']), TaggedDocument(words=['tehran', 'mon', 'amour', 'obama', 'try', 'to', 'establish', 'tie', 'with', 'the', 'mullah', 'via', 'no', 'barack', 'obama', 'vote', 'mitt', 'romney'], tags=['4']), TaggedDocument(words=['i', 'sat', 'through', 'this', 'whole', 'movie', 'just', 'for', 'harry', 'and', 'ron', 'at', 'christmas', 'ohlawd', '911'], tags=['5']), TaggedDocument(words=['mash', 'out', 'to', 'nigga', 'in', 'paris', 'in', 'the', 'club', 'while', 'in', 'paris', 'a', 'cliche', 'a', 'it', 'may', 'sound', 'weouthere'], tags=['6']), TaggedDocument(words=['larry', 'bird', 'be', 'ranked', '4th', 'alltime', 'not', 'include', 'lebron', 'or', 'kobe', 'just', 'sayin'], tags=['7'])]\n"
     ]
    },
    {
     "name": "stderr",
     "output_type": "stream",
     "text": [
      "/home/dimitra/anaconda3/lib/python3.7/site-packages/ipykernel_launcher.py:26: DeprecationWarning: Call to deprecated `iter` (Attribute will be removed in 4.0.0, use self.epochs instead).\n"
     ]
    },
    {
     "name": "stdout",
     "output_type": "stream",
     "text": [
      "[ 8.58764257e-03 -8.66686460e-04 -2.43878472e-04 -2.77113332e-03\n",
      "  9.10880137e-03 -1.15173019e-03  3.66792339e-03 -1.97636969e-02\n",
      " -1.05814030e-02  1.84497680e-03 -7.06963753e-03  1.30652627e-02\n",
      "  6.02251012e-03  3.64462286e-03  1.05028029e-03  1.04968362e-02\n",
      " -4.17568581e-03 -5.79190906e-03 -2.13834178e-02 -1.37677118e-02\n",
      "  4.71049396e-04  6.02357881e-03  2.83132773e-03 -3.24094319e-03\n",
      "  2.04147218e-04  5.33911772e-03 -5.49137732e-03 -2.88123498e-03\n",
      "  2.19008215e-02 -4.01217071e-03 -1.14812301e-02 -4.38141637e-03\n",
      " -5.50785661e-03 -2.14982964e-03 -2.19534617e-03 -5.77179994e-03\n",
      "  5.75564161e-04 -3.34441173e-03 -2.15831175e-02  1.79384917e-03\n",
      "  3.02760280e-03 -8.33137706e-03 -3.12308175e-03  1.19119911e-02\n",
      "  5.20762196e-03  3.52577073e-03 -9.33160016e-04  2.04997906e-03\n",
      " -1.62148126e-03 -7.01380195e-03  6.67410018e-03  8.59002525e-04\n",
      " -1.20499087e-02 -7.86115509e-03 -2.23006345e-02  6.66019879e-03\n",
      " -2.66672811e-03  6.57899678e-03 -1.42436894e-02 -1.64177995e-02\n",
      "  5.38725266e-03  5.35216043e-03 -7.76735879e-03  1.85741130e-02\n",
      "  5.04355319e-03 -4.70139930e-04  3.41474474e-03  4.34624404e-03\n",
      " -5.81376441e-03 -7.29345297e-03 -1.70567632e-02 -4.51971963e-03\n",
      "  6.87396212e-04  1.85463708e-02 -1.26483757e-02  1.07841296e-02\n",
      "  6.99834526e-03 -9.26095154e-03  1.69679467e-02  1.35601452e-03\n",
      " -9.01450962e-03  1.73008610e-02 -1.14286756e-02 -9.83067416e-03\n",
      "  4.86005889e-03 -1.96683500e-03 -2.33756248e-02  7.84891285e-03\n",
      "  1.08758342e-02  1.56952459e-02  4.97237081e-03 -6.40393654e-03\n",
      " -8.35579727e-03  2.97181355e-03 -8.47327057e-03 -4.55415109e-03\n",
      "  2.97413650e-03  5.38973883e-03  2.68994668e-03 -1.03245564e-02\n",
      " -1.97138339e-02 -1.95368356e-03 -6.32984564e-03 -9.92351770e-03\n",
      "  9.87724960e-03  1.97503454e-04 -6.39300328e-03 -7.10063754e-03\n",
      "  3.26832640e-03  6.28528977e-03  2.30241399e-02  4.71611926e-03\n",
      "  5.77753177e-03  1.41272612e-03  6.57515973e-03  3.42222396e-03\n",
      "  2.07381267e-02 -2.26166521e-04  1.83239521e-03  2.43404252e-03\n",
      " -7.87716359e-03  1.23762814e-02  1.20154800e-04 -8.75030365e-03\n",
      " -1.23876622e-02  5.61843999e-03 -5.59368450e-03 -2.05535864e-04\n",
      " -2.23743031e-03  2.68746121e-03 -5.82231488e-03  6.19358476e-03\n",
      " -5.54117700e-03  3.01440479e-03 -7.76755204e-03 -9.63123329e-03\n",
      " -8.08034651e-03 -8.68049823e-03 -1.12628741e-02  1.29916286e-02\n",
      "  1.08472295e-02  1.06267026e-02 -8.05556774e-03  6.82804457e-05\n",
      "  2.69096228e-04 -1.70602158e-04 -3.74177657e-03  1.11131556e-02\n",
      " -2.09106179e-03 -2.54127812e-02  3.01316218e-03 -3.34235630e-03\n",
      "  2.19832221e-03 -7.71437958e-03 -2.32279976e-03  1.51199754e-02\n",
      "  7.39400415e-03 -1.22218058e-02  4.82708309e-03 -1.33433763e-03\n",
      " -3.23210773e-03  2.16557109e-03 -6.90778717e-03  1.43894730e-02\n",
      " -1.69956852e-02 -1.07232630e-02 -5.08595677e-03 -1.04747275e-02\n",
      " -8.14448053e-04 -1.47071865e-03 -1.26135480e-02  3.67778330e-03\n",
      "  2.19431426e-02 -5.42055443e-03  4.11875825e-03 -6.70030771e-04\n",
      " -1.13491118e-02 -4.74696700e-03 -2.20660213e-03  9.58056096e-03\n",
      " -1.36920521e-02  9.89872217e-03  8.24785326e-03  4.28622961e-03\n",
      "  3.43843189e-04  1.95509270e-02 -1.17227156e-02 -1.72063820e-02\n",
      " -1.08942967e-02  6.82323473e-03  6.27960870e-03 -8.57449893e-04\n",
      "  1.72740519e-02  4.98209707e-03 -1.22683970e-02 -7.83415380e-05\n",
      "  1.12542599e-04 -1.83246993e-02  1.12689435e-02 -1.58734620e-02]\n"
     ]
    }
   ],
   "source": [
    "#Doc2vec is equal with word2vec but is more appropriate for phrases (vectorize phrases instead of words). I.e \n",
    "#1.Manos leaves the office every day at 18:00 to catch his train\n",
    "#2. This season is called Fall, because leaves fall from the trees.\n",
    "#In this way we can capture the difference between the same word used in a different context. For example we now have a\n",
    "#different representation of the word “leaves” in the above two sentences\n",
    "\n",
    "\n",
    "#Import all the dependencies\n",
    "from gensim.models.doc2vec import Doc2Vec, TaggedDocument\n",
    "from nltk.tokenize import word_tokenize\n",
    "\n",
    "tagged_data = [TaggedDocument(words=word_tokenize(_d.lower()), tags=[str(i)]) for i, _d in enumerate(corpus)]\n",
    "print(tagged_data)\n",
    "model = Doc2Vec(size=200,\n",
    "                alpha=model.alpha, \n",
    "                min_alpha=0.00025,\n",
    "                min_count=1,\n",
    "                dm =1)\n",
    "  \n",
    "model.build_vocab(tagged_data)\n",
    "\n",
    "max_epoch = 20\n",
    "for epoch in range(max_epoch):\n",
    "    model.train(tagged_data,\n",
    "                total_examples=model.corpus_count,\n",
    "                epochs=model.iter)\n",
    "X_embeddings = model.docvecs   \n",
    "print(X_embeddings['1']) "
   ]
  },
  {
   "cell_type": "code",
   "execution_count": null,
   "metadata": {},
   "outputs": [],
   "source": []
  }
 ],
 "metadata": {
  "kernelspec": {
   "display_name": "Python 3",
   "language": "python",
   "name": "python3"
  },
  "language_info": {
   "codemirror_mode": {
    "name": "ipython",
    "version": 3
   },
   "file_extension": ".py",
   "mimetype": "text/x-python",
   "name": "python",
   "nbconvert_exporter": "python",
   "pygments_lexer": "ipython3",
   "version": "3.7.1"
  }
 },
 "nbformat": 4,
 "nbformat_minor": 2
}
