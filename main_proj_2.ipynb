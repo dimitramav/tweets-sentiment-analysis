{
 "cells": [
  {
   "cell_type": "code",
   "execution_count": 1,
   "metadata": {},
   "outputs": [],
   "source": [
    "#######################################################\n",
    "##### STRIP TWEET #####################################\n",
    "#######################################################\n",
    "\n",
    "#import pandas as pd\n",
    "#df = pd.read_csv(\"train2017.tsv\", sep='\\t', header=None)\n",
    "#df[2].tolist() #sentiments\n",
    "#corpus = df[3].tolist()\n",
    "\n",
    "import nltk\n",
    "import string\n",
    "import re\n",
    "\n",
    "f = open(\"train2017.tsv\")\n",
    "line = f.readline()\n",
    "\n",
    "tweets = []\n",
    "translate_table = dict((ord(char), None) for char in string.punctuation)   \n",
    "cnt = 1\n",
    "while line:\n",
    "    pretext = ' '.join(line.split()[3:])\n",
    "    pretext = ' '.join(word for word in pretext.split(' ') if not word.startswith('@')) #remove @user\n",
    "    pretext = re.sub(r\"http\\S+\", \"\", pretext) #remove link\n",
    "    pretext = pretext.translate(translate_table) #remove symbols \n",
    "    #remove numbers??\n",
    "    \n",
    "    tweet = pretext.lower()\n",
    "    tweets.append(tweet)\n",
    "    line = f.readline()\n",
    "    cnt += 1\n",
    "\n",
    "#print(tweets)"
   ]
  },
  {
   "cell_type": "code",
   "execution_count": 2,
   "metadata": {},
   "outputs": [],
   "source": [
    "#######################################################\n",
    "##### TOKENIZATION ####################################\n",
    "#######################################################\n",
    "\n",
    "from nltk import word_tokenize\n",
    "\n",
    "tokens = []\n",
    "for tweet in tweets:\n",
    "    token = []\n",
    "    token = word_tokenize(tweet)\n",
    "    tokens.append(token)\n",
    "\n",
    "#print(tokens)"
   ]
  },
  {
   "cell_type": "code",
   "execution_count": 3,
   "metadata": {},
   "outputs": [],
   "source": [
    "from nltk import pos_tag\n",
    "\n",
    "from nltk.corpus import wordnet\n",
    "from nltk.stem import  WordNetLemmatizer\n",
    "# Lemmatize with POS Tag\n",
    "\n",
    "def get_wordnet_pos(word):\n",
    "    \"\"\"Map POS tag to first character lemmatize() accepts\"\"\"\n",
    "    tag = pos_tag([word])[0][1][0].upper()\n",
    "    tag_dict = {\"J\": wordnet.ADJ,\n",
    "                \"N\": wordnet.NOUN,\n",
    "                \"V\": wordnet.VERB,\n",
    "                \"R\": wordnet.ADV}\n",
    "\n",
    "    return tag_dict.get(tag, wordnet.NOUN)\n",
    "\n",
    "lemmatizer = WordNetLemmatizer()\n",
    "\n",
    "tweets = []\n",
    "for token_list in tokens:\n",
    "    lemmatized = []\n",
    "    for word in token_list:\n",
    "        lemmatized.append(lemmatizer.lemmatize(word, get_wordnet_pos(word)))\n",
    "    tweets.append(lemmatized)\n",
    "\n",
    "#print(tweets)"
   ]
  },
  {
   "cell_type": "code",
   "execution_count": 4,
   "metadata": {},
   "outputs": [],
   "source": [
    "corpus = []\n",
    "for tweet in tweets:\n",
    "    corpus.append(\" \".join(str(word) for word in tweet))\n",
    "\n",
    "#print(corpus)"
   ]
  },
  {
   "cell_type": "code",
   "execution_count": 5,
   "metadata": {},
   "outputs": [
    {
     "name": "stdout",
     "output_type": "stream",
     "text": [
      "['and', 'at', 'be', 'for', 'go', 'have', 'in', 'it', 'may', 'my', 'of', 'on', 'the', 'to', 'tomorrow', 'with', 'you']\n",
      "[0 0 0 0 1 0 0 0 0 1 0 1 0 1 0 0 0]\n"
     ]
    }
   ],
   "source": [
    "from sklearn.feature_extraction.text import CountVectorizer\n",
    "\n",
    "vectorizer = CountVectorizer(min_df=0.1)\n",
    "X = vectorizer.fit_transform(corpus)\n",
    "print(vectorizer.get_feature_names())\n",
    "print(X.toarray()[0])"
   ]
  },
  {
   "cell_type": "code",
   "execution_count": null,
   "metadata": {},
   "outputs": [],
   "source": []
  }
 ],
 "metadata": {
  "kernelspec": {
   "display_name": "Python 3",
   "language": "python",
   "name": "python3"
  },
  "language_info": {
   "codemirror_mode": {
    "name": "ipython",
    "version": 3
   },
   "file_extension": ".py",
   "mimetype": "text/x-python",
   "name": "python",
   "nbconvert_exporter": "python",
   "pygments_lexer": "ipython3",
   "version": "3.7.1"
  }
 },
 "nbformat": 4,
 "nbformat_minor": 2
}
