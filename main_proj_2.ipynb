{
 "cells": [
  {
   "cell_type": "code",
   "execution_count": 23,
   "metadata": {},
   "outputs": [
    {
     "name": "stdout",
     "output_type": "stream",
     "text": [
      "['gas by my house hit 339 im going to chapel hill on sat  😂', 'theo walcott is still shit fan watch rafa and johnny deal with him on saturday', 'its not that im a gsp fan i just hate nick diaz cant wait for february', 'iranian general says israels iron dome cant deal with their missiles keep talking like that and we may end up finding out', 'tehran mon amour obama tried to establish ties with the mullahs  via no barack obama  vote mitt romney', 'i sat through this whole movie just for harry and ron at christmas ohlawd 911', 'mashed out to niggas in paris in the club while in paris as cliche as it may sound weouthere', 'larry bird is ranked 4th alltime not including lebron or kobe just sayin']\n",
      "['arianagrande ari by ariana grande 80 full singer actress', 'ariana grande kiis fm yours truly cd listening party in burbank arianagrande', 'ariana grande white house easter egg roll in washington arianagrande', 'cd musics ariana grande sweet like candy 34 oz 100 ml sealed in box 100 authenic new', 'side to side   sidetoside arianagrande musically comunidadgay lgbt  lotb ', 'hairspray live previews at the macys thanksgiving day parade arianagrande televisionnbc', 'lindsaylohan is feeling thankful after blasting arianagrande for wearing toomuch ', 'i hate her but i love her songs dammit arianagrande', 'ariana grande  right there ft big sean   arianagrande', 'which one would you prefer to listen to for a whole day   i could never choose arianagrande intoyou sidetoside songs poll', 'booty baby ariarianagrande princessari bootybaby dangerouswomantour dangerouswoman']\n"
     ]
    }
   ],
   "source": [
    "#######################################################\n",
    "##### STRIP TWEET #####################################\n",
    "#######################################################\n",
    "\n",
    "#import pandas as pd\n",
    "#df = pd.read_csv(\"train2017.tsv\", sep='\\t', header=None)\n",
    "#df[2].tolist() #sentiments\n",
    "#corpus = df[3].tolist()\n",
    "\n",
    "import pandas as pd\n",
    "import re\n",
    "import nltk\n",
    "import string\n",
    "#READ TRAINING SET\n",
    "df = pd.read_csv(\"small_train.tsv\", sep='\\t', header=None)\n",
    "#df[2].tolist() #sentiments\n",
    "train_corpus = df[3].tolist()\n",
    "\n",
    "#READ TEST SET\n",
    "df = pd.read_csv(\"small_test.tsv\", sep='\\t', header=None)\n",
    "#df[2].tolist() #sentiments\n",
    "test_corpus = df[3].tolist()\n",
    "\n",
    "translate_table = dict((ord(char), None) for char in string.punctuation)   \n",
    "\n",
    "def clean_corpus(corpus):\n",
    "    clean_corpus = []\n",
    "    for tweet in corpus:\n",
    "        tweet = re.sub(r\"http\\S+\", \"\", tweet) #remove link\n",
    "        tweet = ' '.join([word for word in tweet.split(' ')  if not word.startswith('@')])\n",
    "        tweet = tweet.translate(translate_table) #remove symbols \n",
    "        tweet = tweet.lower()\n",
    "        clean_corpus.append(tweet)\n",
    "    return clean_corpus\n",
    "    \n",
    "clean_train_corpus = clean_corpus(train_corpus)\n",
    "clean_test_corpus = clean_corpus(test_corpus)\n",
    "\n",
    "print(clean_train_corpus)\n",
    "print(clean_test_corpus)\n"
   ]
  },
  {
   "cell_type": "code",
   "execution_count": 24,
   "metadata": {},
   "outputs": [
    {
     "name": "stdout",
     "output_type": "stream",
     "text": [
      "[['gas', 'by', 'my', 'house', 'hit', '339', 'im', 'going', 'to', 'chapel', 'hill', 'on', 'sat', '😂'], ['theo', 'walcott', 'is', 'still', 'shit', 'fan', 'watch', 'rafa', 'and', 'johnny', 'deal', 'with', 'him', 'on', 'saturday'], ['its', 'not', 'that', 'im', 'a', 'gsp', 'fan', 'i', 'just', 'hate', 'nick', 'diaz', 'cant', 'wait', 'for', 'february'], ['iranian', 'general', 'says', 'israels', 'iron', 'dome', 'cant', 'deal', 'with', 'their', 'missiles', 'keep', 'talking', 'like', 'that', 'and', 'we', 'may', 'end', 'up', 'finding', 'out'], ['tehran', 'mon', 'amour', 'obama', 'tried', 'to', 'establish', 'ties', 'with', 'the', 'mullahs', 'via', 'no', 'barack', 'obama', 'vote', 'mitt', 'romney'], ['i', 'sat', 'through', 'this', 'whole', 'movie', 'just', 'for', 'harry', 'and', 'ron', 'at', 'christmas', 'ohlawd', '911'], ['mashed', 'out', 'to', 'niggas', 'in', 'paris', 'in', 'the', 'club', 'while', 'in', 'paris', 'as', 'cliche', 'as', 'it', 'may', 'sound', 'weouthere'], ['larry', 'bird', 'is', 'ranked', '4th', 'alltime', 'not', 'including', 'lebron', 'or', 'kobe', 'just', 'sayin']]\n",
      "[['arianagrande', 'ari', 'by', 'ariana', 'grande', '80', 'full', 'singer', 'actress'], ['ariana', 'grande', 'kiis', 'fm', 'yours', 'truly', 'cd', 'listening', 'party', 'in', 'burbank', 'arianagrande'], ['ariana', 'grande', 'white', 'house', 'easter', 'egg', 'roll', 'in', 'washington', 'arianagrande'], ['cd', 'musics', 'ariana', 'grande', 'sweet', 'like', 'candy', '34', 'oz', '100', 'ml', 'sealed', 'in', 'box', '100', 'authenic', 'new'], ['side', 'to', 'side', 'sidetoside', 'arianagrande', 'musically', 'comunidadgay', 'lgbt', 'lotb'], ['hairspray', 'live', 'previews', 'at', 'the', 'macys', 'thanksgiving', 'day', 'parade', 'arianagrande', 'televisionnbc'], ['lindsaylohan', 'is', 'feeling', 'thankful', 'after', 'blasting', 'arianagrande', 'for', 'wearing', 'toomuch'], ['i', 'hate', 'her', 'but', 'i', 'love', 'her', 'songs', 'dammit', 'arianagrande'], ['ariana', 'grande', 'right', 'there', 'ft', 'big', 'sean', 'arianagrande'], ['which', 'one', 'would', 'you', 'prefer', 'to', 'listen', 'to', 'for', 'a', 'whole', 'day', 'i', 'could', 'never', 'choose', 'arianagrande', 'intoyou', 'sidetoside', 'songs', 'poll'], ['booty', 'baby', 'ariarianagrande', 'princessari', 'bootybaby', 'dangerouswomantour', 'dangerouswoman']]\n"
     ]
    }
   ],
   "source": [
    "#######################################################\n",
    "##### TOKENIZATION ####################################\n",
    "#######################################################\n",
    "\n",
    "from nltk import word_tokenize\n",
    "\n",
    "def tokenize(clean_corpus):\n",
    "    tokens = []\n",
    "    for tweet in clean_corpus:\n",
    "        token = []\n",
    "        token = word_tokenize(tweet)\n",
    "        tokens.append(token)\n",
    "    return tokens\n",
    "\n",
    "train_tokens = tokenize(clean_train_corpus)\n",
    "test_tokens = tokenize(clean_test_corpus)\n",
    "\n",
    "    \n",
    "print(train_tokens)\n",
    "print(test_tokens)"
   ]
  },
  {
   "cell_type": "code",
   "execution_count": 25,
   "metadata": {},
   "outputs": [
    {
     "name": "stdout",
     "output_type": "stream",
     "text": [
      "[['gas', 'by', 'my', 'house', 'hit', '339', 'im', 'go', 'to', 'chapel', 'hill', 'on', 'sat', '😂'], ['theo', 'walcott', 'be', 'still', 'shit', 'fan', 'watch', 'rafa', 'and', 'johnny', 'deal', 'with', 'him', 'on', 'saturday'], ['it', 'not', 'that', 'im', 'a', 'gsp', 'fan', 'i', 'just', 'hate', 'nick', 'diaz', 'cant', 'wait', 'for', 'february'], ['iranian', 'general', 'say', 'israel', 'iron', 'dome', 'cant', 'deal', 'with', 'their', 'missile', 'keep', 'talk', 'like', 'that', 'and', 'we', 'may', 'end', 'up', 'find', 'out'], ['tehran', 'mon', 'amour', 'obama', 'try', 'to', 'establish', 'tie', 'with', 'the', 'mullah', 'via', 'no', 'barack', 'obama', 'vote', 'mitt', 'romney'], ['i', 'sat', 'through', 'this', 'whole', 'movie', 'just', 'for', 'harry', 'and', 'ron', 'at', 'christmas', 'ohlawd', '911'], ['mash', 'out', 'to', 'nigga', 'in', 'paris', 'in', 'the', 'club', 'while', 'in', 'paris', 'a', 'cliche', 'a', 'it', 'may', 'sound', 'weouthere'], ['larry', 'bird', 'be', 'ranked', '4th', 'alltime', 'not', 'include', 'lebron', 'or', 'kobe', 'just', 'sayin']]\n",
      "[['arianagrande', 'ari', 'by', 'ariana', 'grande', '80', 'full', 'singer', 'actress'], ['ariana', 'grande', 'kiis', 'fm', 'yours', 'truly', 'cd', 'listen', 'party', 'in', 'burbank', 'arianagrande'], ['ariana', 'grande', 'white', 'house', 'easter', 'egg', 'roll', 'in', 'washington', 'arianagrande'], ['cd', 'music', 'ariana', 'grande', 'sweet', 'like', 'candy', '34', 'oz', '100', 'ml', 'seal', 'in', 'box', '100', 'authenic', 'new'], ['side', 'to', 'side', 'sidetoside', 'arianagrande', 'musically', 'comunidadgay', 'lgbt', 'lotb'], ['hairspray', 'live', 'preview', 'at', 'the', 'macys', 'thanksgiving', 'day', 'parade', 'arianagrande', 'televisionnbc'], ['lindsaylohan', 'be', 'feel', 'thankful', 'after', 'blasting', 'arianagrande', 'for', 'wear', 'toomuch'], ['i', 'hate', 'her', 'but', 'i', 'love', 'her', 'song', 'dammit', 'arianagrande'], ['ariana', 'grande', 'right', 'there', 'ft', 'big', 'sean', 'arianagrande'], ['which', 'one', 'would', 'you', 'prefer', 'to', 'listen', 'to', 'for', 'a', 'whole', 'day', 'i', 'could', 'never', 'choose', 'arianagrande', 'intoyou', 'sidetoside', 'song', 'poll'], ['booty', 'baby', 'ariarianagrande', 'princessari', 'bootybaby', 'dangerouswomantour', 'dangerouswoman']]\n"
     ]
    }
   ],
   "source": [
    "from nltk import pos_tag\n",
    "\n",
    "from nltk.corpus import wordnet\n",
    "from nltk.stem import  WordNetLemmatizer\n",
    "# Lemmatize with POS Tag\n",
    "\n",
    "def get_wordnet_pos(word):\n",
    "    \"\"\"Map POS tag to first character lemmatize() accepts\"\"\"\n",
    "    tag = pos_tag([word])[0][1][0].upper()\n",
    "    tag_dict = {\"J\": wordnet.ADJ,\n",
    "                \"N\": wordnet.NOUN,\n",
    "                \"V\": wordnet.VERB,\n",
    "                \"R\": wordnet.ADV}\n",
    "\n",
    "    return tag_dict.get(tag, wordnet.NOUN)\n",
    "\n",
    "lemmatizer = WordNetLemmatizer()\n",
    "\n",
    "def lemmatize(tokens):\n",
    "    tweets = []\n",
    "    for token_list in tokens:\n",
    "        lemmatized = []\n",
    "        for word in token_list:\n",
    "            lemmatized.append(lemmatizer.lemmatize(word, get_wordnet_pos(word)))\n",
    "        tweets.append(lemmatized)\n",
    "    return tweets\n",
    "    \n",
    "train_tweets = lemmatize(train_tokens)\n",
    "test_tweets = lemmatize(test_tokens)\n",
    "\n",
    "print(train_tweets)\n",
    "print(test_tweets)"
   ]
  },
  {
   "cell_type": "code",
   "execution_count": 26,
   "metadata": {},
   "outputs": [
    {
     "name": "stdout",
     "output_type": "stream",
     "text": [
      "['gas by my house hit 339 im go to chapel hill on sat 😂', 'theo walcott be still shit fan watch rafa and johnny deal with him on saturday', 'it not that im a gsp fan i just hate nick diaz cant wait for february', 'iranian general say israel iron dome cant deal with their missile keep talk like that and we may end up find out', 'tehran mon amour obama try to establish tie with the mullah via no barack obama vote mitt romney', 'i sat through this whole movie just for harry and ron at christmas ohlawd 911', 'mash out to nigga in paris in the club while in paris a cliche a it may sound weouthere', 'larry bird be ranked 4th alltime not include lebron or kobe just sayin']\n",
      "['arianagrande ari by ariana grande 80 full singer actress', 'ariana grande kiis fm yours truly cd listen party in burbank arianagrande', 'ariana grande white house easter egg roll in washington arianagrande', 'cd music ariana grande sweet like candy 34 oz 100 ml seal in box 100 authenic new', 'side to side sidetoside arianagrande musically comunidadgay lgbt lotb', 'hairspray live preview at the macys thanksgiving day parade arianagrande televisionnbc', 'lindsaylohan be feel thankful after blasting arianagrande for wear toomuch', 'i hate her but i love her song dammit arianagrande', 'ariana grande right there ft big sean arianagrande', 'which one would you prefer to listen to for a whole day i could never choose arianagrande intoyou sidetoside song poll', 'booty baby ariarianagrande princessari bootybaby dangerouswomantour dangerouswoman']\n"
     ]
    }
   ],
   "source": [
    "final_train_corpus = []\n",
    "for tweet in train_tweets:\n",
    "    final_train_corpus.append(\" \".join(str(word) for word in tweet))\n",
    "\n",
    "final_test_corpus = []\n",
    "for tweet in test_tweets:\n",
    "    final_test_corpus.append(\" \".join(str(word) for word in tweet))\n",
    "\n",
    "print(final_train_corpus)\n",
    "print(final_test_corpus)"
   ]
  },
  {
   "cell_type": "code",
   "execution_count": 5,
   "metadata": {},
   "outputs": [],
   "source": [
    "#BAG-OF-WORDS VECTORIZATION\n",
    "from sklearn.feature_extraction.text import CountVectorizer\n",
    "\n",
    "vectorizer = CountVectorizer()\n",
    "X_BOW_train = vectorizer.fit_transform(final_train_corpus)\n",
    "X_BOW_test = vectorizer.fit_transform(final_test_corpus)\n",
    "#print(vectorizer.get_feature_names())\n",
    "#print(X.toarray()[0])\n",
    "#print(X_BOW.toarray())\n"
   ]
  },
  {
   "cell_type": "code",
   "execution_count": 6,
   "metadata": {
    "scrolled": false
   },
   "outputs": [],
   "source": [
    "#TF-IDF VECTORIZATION\n",
    "from sklearn.feature_extraction.text import TfidfVectorizer\n",
    "vectorizer = TfidfVectorizer()\n",
    "X_TFIDF_train = vectorizer.fit_transform(final_train_corpus)\n",
    "X_TFIDF_test = vectorizer.fit_transform(final_test_corpus)\n",
    "#print(X_TFIDF.toarray())\n"
   ]
  },
  {
   "cell_type": "code",
   "execution_count": 7,
   "metadata": {},
   "outputs": [
    {
     "name": "stdout",
     "output_type": "stream",
     "text": [
      "[-0.00455867 -0.00273707  0.00476938  0.00052254 -0.00099771 -0.00162601\n",
      "  0.00435989 -0.00124946 -0.00384014 -0.00458047 -0.00040402  0.0014445\n",
      " -0.00472712  0.00038409  0.00052129 -0.00129615 -0.00039701 -0.00396524\n",
      " -0.00100313  0.00212705  0.00377884  0.00226566  0.00217207  0.00166716\n",
      "  0.00113616 -0.00450988 -0.00040978  0.00431388 -0.00384496  0.00311142\n",
      "  0.0048007   0.00244925 -0.00294611 -0.00133667 -0.0024853  -0.00407324\n",
      " -0.00181031  0.00403763 -0.00150548  0.00147443 -0.0046243   0.00141982\n",
      " -0.00314493  0.00193791 -0.00365485 -0.00257953 -0.00024534 -0.00088908\n",
      " -0.00291855  0.00285258 -0.00436966 -0.00362688 -0.00092549  0.00479371\n",
      "  0.00423948  0.00073345  0.00135342  0.00307727  0.00446421 -0.00186245\n",
      " -0.003984    0.00499631 -0.00047878  0.00187234 -0.00466422  0.00281243\n",
      " -0.00363314 -0.00319005 -0.00411249  0.00271005  0.00340117 -0.0015745\n",
      " -0.00422078 -0.00123327  0.00023326  0.00222177  0.0047376  -0.00430097\n",
      "  0.00268178  0.00182858  0.00334468 -0.00127572 -0.00441928 -0.0021318\n",
      "  0.00491127  0.00406285  0.00068131  0.00102172 -0.00074032  0.00177426\n",
      " -0.00103022 -0.00198107  0.00499014  0.00438033 -0.00436499  0.00428975\n",
      " -0.00456001  0.00054823 -0.00062923  0.00062776]\n"
     ]
    },
    {
     "name": "stderr",
     "output_type": "stream",
     "text": [
      "/home/dimitra/anaconda3/lib/python3.7/site-packages/ipykernel_launcher.py:9: DeprecationWarning: Call to deprecated `__getitem__` (Method will be removed in 4.0.0, use self.wv.__getitem__() instead).\n",
      "  if __name__ == '__main__':\n"
     ]
    }
   ],
   "source": [
    "#we have 3 options: word2vec, word2vec in sklearn, doc2vec\n",
    "from gensim.test.utils import common_texts\n",
    "\n",
    "#IMPORT WORD2VEC\n",
    "from gensim.models import Word2Vec\n",
    "nested_corpus = [final_train_corpus[i:i+1] for i in range(0, len(final_train_corpus), 1)]\n",
    "model = Word2Vec(train_tokens, size=100, window=5, min_count=1, workers=4) #size of vector is 100\n",
    "model.train(train_tokens, total_examples=model.corpus_count,epochs=model.epochs)  # train word vectors\n",
    "print(model['gas'])\n",
    "\n",
    "#IMPORT WORD2VEC LIBRARY AVAILABLE IN SKLEARN\n",
    "\n",
    "#from gensim.sklearn_api import W2VTransformer\n",
    "#total = sum(tokens,[])\n",
    "#vectorizer = W2VTransformer(size=10, min_count=1, seed=1)\n",
    "#print(corpus)\n",
    "#X_embeddings = vectorizer.fit(total).transform(tokens)\n",
    "\n"
   ]
  },
  {
   "cell_type": "code",
   "execution_count": 29,
   "metadata": {},
   "outputs": [
    {
     "name": "stdout",
     "output_type": "stream",
     "text": [
      "[TaggedDocument(words=['gas', 'by', 'my', 'house', 'hit', '339', 'im', 'go', 'to', 'chapel', 'hill', 'on', 'sat', '😂'], tags=['0']), TaggedDocument(words=['theo', 'walcott', 'be', 'still', 'shit', 'fan', 'watch', 'rafa', 'and', 'johnny', 'deal', 'with', 'him', 'on', 'saturday'], tags=['1']), TaggedDocument(words=['it', 'not', 'that', 'im', 'a', 'gsp', 'fan', 'i', 'just', 'hate', 'nick', 'diaz', 'cant', 'wait', 'for', 'february'], tags=['2']), TaggedDocument(words=['iranian', 'general', 'say', 'israel', 'iron', 'dome', 'cant', 'deal', 'with', 'their', 'missile', 'keep', 'talk', 'like', 'that', 'and', 'we', 'may', 'end', 'up', 'find', 'out'], tags=['3']), TaggedDocument(words=['tehran', 'mon', 'amour', 'obama', 'try', 'to', 'establish', 'tie', 'with', 'the', 'mullah', 'via', 'no', 'barack', 'obama', 'vote', 'mitt', 'romney'], tags=['4']), TaggedDocument(words=['i', 'sat', 'through', 'this', 'whole', 'movie', 'just', 'for', 'harry', 'and', 'ron', 'at', 'christmas', 'ohlawd', '911'], tags=['5']), TaggedDocument(words=['mash', 'out', 'to', 'nigga', 'in', 'paris', 'in', 'the', 'club', 'while', 'in', 'paris', 'a', 'cliche', 'a', 'it', 'may', 'sound', 'weouthere'], tags=['6']), TaggedDocument(words=['larry', 'bird', 'be', 'ranked', '4th', 'alltime', 'not', 'include', 'lebron', 'or', 'kobe', 'just', 'sayin'], tags=['7'])]\n"
     ]
    },
    {
     "name": "stderr",
     "output_type": "stream",
     "text": [
      "/home/dimitra/anaconda3/lib/python3.7/site-packages/ipykernel_launcher.py:26: DeprecationWarning: Call to deprecated `iter` (Attribute will be removed in 4.0.0, use self.epochs instead).\n"
     ]
    },
    {
     "ename": "NameError",
     "evalue": "name 'X_embedding_array' is not defined",
     "output_type": "error",
     "traceback": [
      "\u001b[0;31m---------------------------------------------------------------------------\u001b[0m",
      "\u001b[0;31mNameError\u001b[0m                                 Traceback (most recent call last)",
      "\u001b[0;32m<ipython-input-29-09fcd066d6dc>\u001b[0m in \u001b[0;36m<module>\u001b[0;34m\u001b[0m\n\u001b[1;32m     31\u001b[0m \u001b[0mX_embedding_array_train\u001b[0m \u001b[0;34m=\u001b[0m \u001b[0;34m[\u001b[0m\u001b[0;34m]\u001b[0m\u001b[0;34m\u001b[0m\u001b[0;34m\u001b[0m\u001b[0m\n\u001b[1;32m     32\u001b[0m \u001b[0mX_embedding_array_train\u001b[0m  \u001b[0;34m=\u001b[0m \u001b[0;34m[\u001b[0m\u001b[0;34m]\u001b[0m\u001b[0;34m\u001b[0m\u001b[0;34m\u001b[0m\u001b[0m\n\u001b[0;32m---> 33\u001b[0;31m \u001b[0mX_embedding_array_train\u001b[0m \u001b[0;34m=\u001b[0m \u001b[0mword_embeddings\u001b[0m\u001b[0;34m(\u001b[0m\u001b[0mfinal_train_corpus\u001b[0m\u001b[0;34m)\u001b[0m\u001b[0;34m\u001b[0m\u001b[0;34m\u001b[0m\u001b[0m\n\u001b[0m\u001b[1;32m     34\u001b[0m \u001b[0mX_embedding_array_test\u001b[0m \u001b[0;34m=\u001b[0m \u001b[0mword_embeddings\u001b[0m\u001b[0;34m(\u001b[0m\u001b[0mfinal_test_corpus\u001b[0m\u001b[0;34m)\u001b[0m\u001b[0;34m\u001b[0m\u001b[0;34m\u001b[0m\u001b[0m\n\u001b[1;32m     35\u001b[0m \u001b[0;34m\u001b[0m\u001b[0m\n",
      "\u001b[0;32m<ipython-input-29-09fcd066d6dc>\u001b[0m in \u001b[0;36mword_embeddings\u001b[0;34m(final_corpus)\u001b[0m\n\u001b[1;32m     26\u001b[0m                 epochs=model.iter)\n\u001b[1;32m     27\u001b[0m     \u001b[0mX_embeddings_array\u001b[0m \u001b[0;34m=\u001b[0m \u001b[0mmodel\u001b[0m\u001b[0;34m.\u001b[0m\u001b[0mdocvecs\u001b[0m\u001b[0;34m\u001b[0m\u001b[0;34m\u001b[0m\u001b[0m\n\u001b[0;32m---> 28\u001b[0;31m     \u001b[0;32mreturn\u001b[0m \u001b[0mX_embedding_array\u001b[0m\u001b[0;34m\u001b[0m\u001b[0;34m\u001b[0m\u001b[0m\n\u001b[0m\u001b[1;32m     29\u001b[0m \u001b[0;34m\u001b[0m\u001b[0m\n\u001b[1;32m     30\u001b[0m \u001b[0;31m#convert array to list\u001b[0m\u001b[0;34m\u001b[0m\u001b[0;34m\u001b[0m\u001b[0;34m\u001b[0m\u001b[0m\n",
      "\u001b[0;31mNameError\u001b[0m: name 'X_embedding_array' is not defined"
     ]
    }
   ],
   "source": [
    "#Doc2vec is equal with word2vec but is more appropriate for phrases (vectorize phrases instead of words). I.e \n",
    "#1.Manos leaves the office every day at 18:00 to catch his train\n",
    "#2. This season is called Fall, because leaves fall from the trees.\n",
    "#In this way we can capture the difference between the same word used in a different context. For example we now have a\n",
    "#different representation of the word “leaves” in the above two sentences\n",
    "\n",
    "#IMPORTANT: parameteres in my case is random, we have to pay attention to select the right ones\n",
    "\n",
    "#Import all the dependencies\n",
    "from gensim.models.doc2vec import Doc2Vec, TaggedDocument\n",
    "from nltk.tokenize import word_tokenize\n",
    "\n",
    "def word_embeddings(final_corpus):\n",
    "    X_embeddings_array = []\n",
    "    tagged_data = [TaggedDocument(words=word_tokenize(_d.lower()), tags=[str(i)]) for i, _d in enumerate(final_corpus)]\n",
    "    print(tagged_data)\n",
    "    model = Doc2Vec(size=200,\n",
    "                min_alpha=0.00025,\n",
    "                min_count=1,\n",
    "                dm =1)\n",
    "  \n",
    "    model.build_vocab(tagged_data)\n",
    "    max_epoch = 20\n",
    "    for epoch in range(max_epoch):\n",
    "        model.train(tagged_data,\n",
    "                total_examples=model.corpus_count,\n",
    "                epochs=model.iter)\n",
    "    X_embeddings_array = model.docvecs\n",
    "    return X_embedding_array\n",
    "\n",
    "#convert array to list\n",
    "\n",
    "X_embedding_array_train = word_embeddings(final_train_corpus)\n",
    "X_embedding_array_test = word_embeddings(final_test_corpus)\n",
    "\n",
    "X_embeddings_train=[]\n",
    "for i in range(len(X_embeddings_array_train)):\n",
    "    X_embeddings_train.append(X_embeddings_array_train[i].tolist())\n",
    "    \n",
    "X_embeddings_test=[]\n",
    "for i in range(len(X_embeddings_array_test)):\n",
    "    X_embeddings_test.append(X_embeddings_array_test[i].tolist())\n",
    "    "
   ]
  },
  {
   "cell_type": "code",
   "execution_count": 9,
   "metadata": {},
   "outputs": [
    {
     "name": "stdout",
     "output_type": "stream",
     "text": [
      "226\n",
      "226\n",
      "226\n",
      "226\n",
      "226\n",
      "226\n",
      "226\n",
      "226\n"
     ]
    }
   ],
   "source": [
    "#Add characteristics to embeddings\n",
    "import pandas as pd\n",
    "import csv\n",
    "lexica =[pd.read_csv(\"lexica/affin/affin.txt\", sep='\\t', header=None),\n",
    "              pd.read_csv(\"lexica/emotweet/valence_tweet.txt\", sep='\\t', header=None),\n",
    "              pd.read_csv(\"lexica/generic/generic.txt\", sep='\\t', engine=\"python\" ,quoting=csv.QUOTE_NONE,header=None),\n",
    "              pd.read_csv(\"lexica/nrc/val.txt\", sep='\\t', engine=\"python\",quoting=csv.QUOTE_NONE, header=None),\n",
    "              pd.read_csv(\"lexica/nrctag/val.txt\", sep='\\t', header=None)]\n",
    "\n",
    "#mean valence of each tweet\n",
    "for tweet in range(len(train_tokens)):   #for each tweet\n",
    "    for df in lexica:         #for each lexicon\n",
    "        if not df[df[0].isin(train_tokens[tweet])].empty: #search for tweets' tokens in lexicon\n",
    "            average_tweet_sentiment = df[df[0].isin(train_tokens[tweet])][1].mean() #get average sentiment for this tweet\n",
    "            X_embeddings[tweet].append(average_tweet_sentiment)\n",
    "        else:\n",
    "             X_embeddings[tweet].append(0)   #if is zero should we add mean or it will affect the vector\n",
    "\n",
    "#length of each tweet               \n",
    "for tweet in range(len(train_tokens)):   #for each tweet\n",
    "    X_embeddings[tweet].append(len(train_tokens[tweet]))\n",
    "\n",
    "\n",
    "    \n",
    "#min and max valence of each tweet\n",
    "for tweet in range(len(train_tokens)):   #for each tweet\n",
    "    for df in lexica:         #for each lexicon\n",
    "        if not df[df[0].isin(train_tokens[tweet])].empty: #search for tweets' tokens in lexicon\n",
    "            max_valence = df[df[0].isin(train_tokens[tweet])][1].max() #get average sentiment for this tweet\n",
    "            min_valence = df[df[0].isin(train_tokens[tweet])][1].min()\n",
    "            X_embeddings[tweet].append(max_valence)\n",
    "            X_embeddings[tweet].append(min_valence)\n",
    "        else:  # add two values to keep all the vectors the same size\n",
    "            X_embeddings[tweet].append(0)   #if is zero should we add mean or it will affect the vector\n",
    "            X_embeddings[tweet].append(0)   #if is zero should we add mean or it will affect the vector\n",
    "\n",
    "    \n",
    "#mean valence for each half of a tweet\n",
    "for tweet in range(len(train_tokens)):   #for each tweet\n",
    "    entire_tweet = train_tokens[tweet]\n",
    "    first_half= entire_tweet[:len(entire_tweet)//2]\n",
    "    second_half= entire_tweet[len(entire_tweet)//2:]\n",
    "    for df in lexica:         #for each lexicon\n",
    "        if not df[df[0].isin(first_half)].empty: #search for tweets' tokens in lexicon\n",
    "            average_tweet_sentiment = df[df[0].isin(first_half)][1].mean() #get average sentiment for this tweet\n",
    "            X_embeddings[tweet].append(average_tweet_sentiment)\n",
    "        else:  # add two values to keep all the vectors the same size\n",
    "            X_embeddings[tweet].append(0)   #if is zero should we add mean or it will affect the vector\n",
    "        if not df[df[0].isin(second_half)].empty: #search for tweets' tokens in lexicon\n",
    "            average_tweet_sentiment = df[df[0].isin(second_half)][1].mean() #get average sentiment for this tweet\n",
    "            X_embeddings[tweet].append(average_tweet_sentiment)\n",
    "        else:  # add two values to keep all the vectors the same size\n",
    "            X_embeddings[tweet].append(0)   #if is zero should we add mean or it will affect the vector\n",
    "        \n",
    "    \n",
    "            \n",
    "for i in range(len(X_embeddings)):\n",
    "    print(len(X_embeddings[i]))\n",
    "\n",
    "#sentiment_sum = 0\n",
    "#words_found = 0\n",
    "#for j in range(len(tokens[i])):\n",
    "#    if not df[df[0] == tokens[i][j]].empty: #search for tweets' tokens in lexicon\n",
    "#        sentiment_sum += df[df[0] == tokens[i][j]].iloc[0][1] #get sentiment\n",
    "#        words_found++\n",
    "        \n",
    "\n",
    "        \n"
   ]
  },
  {
   "cell_type": "code",
   "execution_count": 10,
   "metadata": {},
   "outputs": [],
   "source": [
    "####################\n",
    "#CONSTRUCT Y_LABELS#\n",
    "####################\n",
    "\n",
    "import pandas as pd\n",
    "df = pd.read_csv(\"small.tsv\", sep='\\t', header=None)\n",
    "y_labels = df[2].tolist() #sentiments\n",
    "\n",
    "\n",
    "for n, value in enumerate(y_labels):\n",
    "    if value == \"positive\":\n",
    "        y_labels[n] = 2\n",
    "    elif value ==\"negative\":\n",
    "        y_labels[n] = 0\n",
    "    else:\n",
    "        y_labels[n] =1\n",
    "\n"
   ]
  },
  {
   "cell_type": "code",
   "execution_count": null,
   "metadata": {},
   "outputs": [],
   "source": []
  }
 ],
 "metadata": {
  "kernelspec": {
   "display_name": "Python 3",
   "language": "python",
   "name": "python3"
  },
  "language_info": {
   "codemirror_mode": {
    "name": "ipython",
    "version": 3
   },
   "file_extension": ".py",
   "mimetype": "text/x-python",
   "name": "python",
   "nbconvert_exporter": "python",
   "pygments_lexer": "ipython3",
   "version": "3.7.1"
  }
 },
 "nbformat": 4,
 "nbformat_minor": 2
}
