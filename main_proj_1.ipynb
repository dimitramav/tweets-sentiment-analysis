{
 "cells": [
  {
   "cell_type": "code",
   "execution_count": 1,
   "metadata": {},
   "outputs": [
    {
     "name": "stdout",
     "output_type": "stream",
     "text": [
      "finish1\n"
     ]
    }
   ],
   "source": [
    "#######################################################\n",
    "##### STRIP TWEET #####################################\n",
    "#######################################################\n",
    "\n",
    "import nltk\n",
    "import string\n",
    "import re\n",
    "\n",
    "f = open(\"train2017.tsv\")\n",
    "line = f.readline()\n",
    "\n",
    "tweets = []\n",
    "translate_table = dict((ord(char), None) for char in string.punctuation)   \n",
    "cnt = 1\n",
    "while line:\n",
    "    pretext = ' '.join(line.split()[3:])\n",
    "    pretext = ' '.join(word for word in pretext.split(' ') if not word.startswith('@')) #remove @user\n",
    "    pretext = re.sub(r\"http\\S+\", \"\", pretext) #remove link\n",
    "    pretext = pretext.translate(translate_table) #remove symbols \n",
    "    #remove numbers??\n",
    "    \n",
    "    tweet = {\n",
    "        \"sentiment\": ' '.join(line.split()[2:3]),\n",
    "        \"text\": pretext.lower()\n",
    "    }\n",
    "    tweets.append(tweet)\n",
    "    line = f.readline()\n",
    "    cnt += 1\n",
    "\n",
    "print(\"finish1\")"
   ]
  },
  {
   "cell_type": "code",
   "execution_count": 2,
   "metadata": {},
   "outputs": [
    {
     "name": "stdout",
     "output_type": "stream",
     "text": [
      "finish2\n"
     ]
    }
   ],
   "source": [
    "#######################################################\n",
    "##### TOKENIZATION ####################################\n",
    "#######################################################\n",
    "\n",
    "from nltk import word_tokenize\n",
    "\n",
    "for tweet in tweets:\n",
    "    tweet[\"text\"] = word_tokenize(tweet[\"text\"])\n",
    "\n",
    "print(\"finish2\")"
   ]
  },
  {
   "cell_type": "code",
   "execution_count": 3,
   "metadata": {},
   "outputs": [
    {
     "name": "stdout",
     "output_type": "stream",
     "text": [
      "finish3\n"
     ]
    }
   ],
   "source": [
    "from nltk import pos_tag\n",
    "\n",
    "from nltk.corpus import wordnet\n",
    "from nltk.stem import  WordNetLemmatizer\n",
    "# Lemmatize with POS Tag\n",
    "\n",
    "def get_wordnet_pos(word):\n",
    "    \"\"\"Map POS tag to first character lemmatize() accepts\"\"\"\n",
    "    tag = pos_tag([word])[0][1][0].upper()\n",
    "    tag_dict = {\"J\": wordnet.ADJ,\n",
    "                \"N\": wordnet.NOUN,\n",
    "                \"V\": wordnet.VERB,\n",
    "                \"R\": wordnet.ADV}\n",
    "\n",
    "    return tag_dict.get(tag, wordnet.NOUN)\n",
    "\n",
    "lemmatizer = WordNetLemmatizer()\n",
    "\n",
    "for tweet in tweets:\n",
    "    lemmatized = []\n",
    "    for word in tweet[\"text\"]:\n",
    "        lemmatized.append(lemmatizer.lemmatize(word, get_wordnet_pos(word)))\n",
    "    tweet[\"text\"] = lemmatized\n",
    "\n",
    "print(\"finish3\")"
   ]
  },
  {
   "cell_type": "code",
   "execution_count": 4,
   "metadata": {},
   "outputs": [
    {
     "ename": "ModuleNotFoundError",
     "evalue": "No module named 'wordcloud'",
     "output_type": "error",
     "traceback": [
      "\u001b[0;31m---------------------------------------------------------------------------\u001b[0m",
      "\u001b[0;31mModuleNotFoundError\u001b[0m                       Traceback (most recent call last)",
      "\u001b[0;32m<ipython-input-4-4e256c7764f7>\u001b[0m in \u001b[0;36m<module>\u001b[0;34m\u001b[0m\n\u001b[1;32m      1\u001b[0m \u001b[0;32mfrom\u001b[0m \u001b[0mcollections\u001b[0m \u001b[0;32mimport\u001b[0m \u001b[0mCounter\u001b[0m\u001b[0;34m\u001b[0m\u001b[0;34m\u001b[0m\u001b[0m\n\u001b[1;32m      2\u001b[0m \u001b[0;32mfrom\u001b[0m \u001b[0mnltk\u001b[0m\u001b[0;34m.\u001b[0m\u001b[0mcorpus\u001b[0m \u001b[0;32mimport\u001b[0m \u001b[0mstopwords\u001b[0m\u001b[0;34m\u001b[0m\u001b[0;34m\u001b[0m\u001b[0m\n\u001b[0;32m----> 3\u001b[0;31m \u001b[0;32mfrom\u001b[0m \u001b[0mwordcloud\u001b[0m \u001b[0;32mimport\u001b[0m \u001b[0mWordCloud\u001b[0m\u001b[0;34m\u001b[0m\u001b[0;34m\u001b[0m\u001b[0m\n\u001b[0m\u001b[1;32m      4\u001b[0m \u001b[0;34m\u001b[0m\u001b[0m\n\u001b[1;32m      5\u001b[0m \u001b[0mfiltered_positive\u001b[0m \u001b[0;34m=\u001b[0m \u001b[0;34m[\u001b[0m\u001b[0;34m]\u001b[0m\u001b[0;34m\u001b[0m\u001b[0;34m\u001b[0m\u001b[0m\n",
      "\u001b[0;31mModuleNotFoundError\u001b[0m: No module named 'wordcloud'"
     ]
    }
   ],
   "source": [
    "from collections import Counter\n",
    "from nltk.corpus import stopwords\n",
    "from wordcloud import WordCloud\n",
    "\n",
    "filtered_positive = []\n",
    "filtered_neutral = []\n",
    "filtered_negative = []\n",
    "\n",
    "for tweet in tweets:\n",
    "    if tweet['sentiment'] == \"positive\":\n",
    "        filtered_positive += [w for w in tweet[\"text\"] if not w in stopwords.words('english')]\n",
    "    if tweet['sentiment'] == \"neutral\":\n",
    "        filtered_neutral += [w for w in tweet[\"text\"] if not w in stopwords.words('english')]\n",
    "    if tweet['sentiment'] == \"negative\":\n",
    "        filtered_negative += [w for w in tweet[\"text\"] if not w in stopwords.words('english')]\n",
    "\n",
    "total_text = filtered_positive + filtered_neutral + filtered_negative\n",
    "\n",
    "positive_count = Counter(filtered_positive)\n",
    "neutral_count = Counter(filtered_neutral)\n",
    "negative_count = Counter(filtered_negative)    \n",
    "total_count = Counter(total_text)\n",
    "\n",
    "#print(positive_count.most_common(10))\n",
    "#print(neutral_count.most_common(10))\n",
    "#print(negative_count.most_common(10))\n",
    "#print(total_count.most_common(10))\n",
    "\n",
    "\n",
    "\n",
    "wordcloud = WordCloud().generate_from_frequencies(dict(positive_count))\n",
    "image = wordcloud.to_image()\n",
    "display(image)\n",
    "\n",
    "wordcloud = WordCloud().generate_from_frequencies(dict(neutral_count))\n",
    "image = wordcloud.to_image()\n",
    "display(image)\n",
    "\n",
    "wordcloud = WordCloud().generate_from_frequencies(dict(negative_count))\n",
    "image = wordcloud.to_image()\n",
    "display(image)\n"
   ]
  },
  {
   "cell_type": "code",
   "execution_count": null,
   "metadata": {},
   "outputs": [],
   "source": []
  },
  {
   "cell_type": "code",
   "execution_count": null,
   "metadata": {},
   "outputs": [],
   "source": []
  }
 ],
 "metadata": {
  "kernelspec": {
   "display_name": "Python 3",
   "language": "python",
   "name": "python3"
  },
  "language_info": {
   "codemirror_mode": {
    "name": "ipython",
    "version": 3
   },
   "file_extension": ".py",
   "mimetype": "text/x-python",
   "name": "python",
   "nbconvert_exporter": "python",
   "pygments_lexer": "ipython3",
   "version": "3.7.1"
  }
 },
 "nbformat": 4,
 "nbformat_minor": 2
}
